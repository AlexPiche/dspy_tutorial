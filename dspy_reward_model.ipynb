{
 "cells": [
  {
   "cell_type": "code",
   "execution_count": 1,
   "metadata": {},
   "outputs": [
    {
     "name": "stderr",
     "output_type": "stream",
     "text": [
      "/home/toolkit/.conda/envs/dspy/lib/python3.10/site-packages/tqdm/auto.py:21: TqdmWarning: IProgress not found. Please update jupyter and ipywidgets. See https://ipywidgets.readthedocs.io/en/stable/user_install.html\n",
      "  from .autonotebook import tqdm as notebook_tqdm\n"
     ]
    }
   ],
   "source": [
    "import dspy\n",
    "from dspy.teleprompt import BootstrapFewShotWithRandomSearch, MIPRO\n",
    "from dspy.evaluate import Evaluate\n",
    "from dspy.teleprompt.ensemble import Ensemble\n",
    "from datasets import load_dataset\n",
    "import random\n",
    "import re\n",
    "import os\n",
    "\n",
    "# save all our hard work in the prompts directory\n",
    "os.makedirs('prompts', exist_ok=True)\n",
    "\n",
    "random.seed(0)\n",
    "\n",
    "COMPILE_FS = False\n",
    "COMPILE_MIPRO = False\n",
    "COMPILE_COT = False"
   ]
  },
  {
   "cell_type": "code",
   "execution_count": 2,
   "metadata": {},
   "outputs": [],
   "source": [
    "lm = dspy.HFClientVLLM(model=\"meta-llama/Meta-Llama-3-8B-Instruct\",\n",
    "                       port=8080,\n",
    "                       url=\"http://localhost\")\n",
    "dspy.settings.configure(lm=lm)\n",
    "NUM_THREADS = 8"
   ]
  },
  {
   "cell_type": "markdown",
   "metadata": {},
   "source": [
    "# Dataset\n",
    "\n",
    "* Create a dataset using the dspy.Example class\n",
    "* We will use the Ultra Feedback dataset\n",
    "    * 1 instruction\n",
    "    * 4 possible completions\n",
    "    * all of them are rated by gpt4\n",
    "* Our goal is to find a good prompt to get the best RM out of Llama3\n",
    "* We will create a train, valid, and test dataset\n",
    "* We will evaluate our model using exact match"
   ]
  },
  {
   "cell_type": "code",
   "execution_count": 3,
   "metadata": {},
   "outputs": [
    {
     "name": "stderr",
     "output_type": "stream",
     "text": [
      "/home/toolkit/.conda/envs/dspy/lib/python3.10/site-packages/datasets/table.py:1421: FutureWarning: promote has been superseded by promote_options='default'.\n",
      "  table = cls._concat_blocks(blocks, axis=0)\n"
     ]
    }
   ],
   "source": [
    "dataset = load_dataset(\"openbmb/UltraFeedback\")\n",
    "all_data = []\n",
    "for input_ in dataset[\"train\"]:\n",
    "    completions = sorted(\n",
    "        input_[\"completions\"], key=lambda x: x[\"overall_score\"], reverse=True\n",
    "    )\n",
    "    # only take the top and bottom completions\n",
    "    for i, chosen_completion in enumerate(completions[:1]):\n",
    "        for rejected_completion in completions[-1:]:\n",
    "            if (\n",
    "                chosen_completion[\"overall_score\"]\n",
    "                == rejected_completion[\"overall_score\"]\n",
    "            ):\n",
    "                continue\n",
    "            if random.random() < 0.5:\n",
    "                text1 = chosen_completion[\"response\"]\n",
    "                text2 = rejected_completion[\"response\"]\n",
    "                preference = \"1\"\n",
    "            else:\n",
    "                text1 = rejected_completion[\"response\"]\n",
    "                text2 = chosen_completion[\"response\"]\n",
    "                preference = \"2\"\n",
    "                \n",
    "            if text1 == text2:\n",
    "                continue\n",
    "            # llama 3 has a smart context window\n",
    "            if len(text1) > 1524 or len(text2) > 1524 or len(input_[\"instruction\"]) > 1524:\n",
    "                continue\n",
    "            \n",
    "            all_data.append(\n",
    "                dspy.Example(\n",
    "                    **{\n",
    "                        \"instruction\": input_[\"instruction\"],\n",
    "                        \"text_1\": text1,\n",
    "                        \"text_2\": text2,\n",
    "                        \"preferred_text\": preference,\n",
    "                    }\n",
    "                ).with_inputs(\"instruction\", \"text_1\", \"text_2\")\n",
    "            )\n",
    "    if len(all_data) > 2000:\n",
    "        break\n",
    "\n",
    "random.shuffle(all_data)\n",
    "\n",
    "valid = all_data[:100]\n",
    "test = all_data[100:600]\n",
    "train = all_data[600:]"
   ]
  },
  {
   "cell_type": "code",
   "execution_count": 4,
   "metadata": {},
   "outputs": [],
   "source": [
    "def extract_pref(example, pred):\n",
    "    pref_pred = re.search(r\"\\d+\", pred[\"preferred_text\"])\n",
    "    if pref_pred:\n",
    "        pref_pred = pref_pred.group()\n",
    "    else:\n",
    "        pref_pred = None\n",
    "    return pref_pred\n",
    "\n",
    "\n",
    "def em_metric(example, pred, trace=None, frac=1.0, verbose=False):\n",
    "    pref_pred = extract_pref(example, pred)\n",
    "    if verbose:\n",
    "        print(f\"Example: {example['preferred_text']}\")\n",
    "        print(f\"Prediction: {pref_pred}\")\n",
    "    score = example[\"preferred_text\"] == pref_pred\n",
    "    if score is None:\n",
    "        return False\n",
    "    return score\n",
    "\n",
    "eval_fn = Evaluate(devset=test, metric=em_metric, num_threads=NUM_THREADS, display_progress=True)"
   ]
  },
  {
   "cell_type": "code",
   "execution_count": null,
   "metadata": {},
   "outputs": [],
   "source": []
  },
  {
   "cell_type": "code",
   "execution_count": 5,
   "metadata": {},
   "outputs": [],
   "source": [
    "class Preference(dspy.Signature):\n",
    "    instruction = dspy.InputField()\n",
    "    text_1 = dspy.InputField()\n",
    "    text_2 = dspy.InputField()\n",
    "    preferred_text = dspy.OutputField(desc=\"Only return the preferred text (1 or 2) as an int\", prefix=\"preferred_text:\")\n",
    "\n",
    "class PrefPredict(dspy.Module):\n",
    "    def __init__(self):\n",
    "        super().__init__()\n",
    "        self.preference = dspy.Predict(\n",
    "            Preference, max_tokens=3, temperature=0.1\n",
    "        ) \n",
    "\n",
    "    def forward(self, instruction, text_1, text_2, *args, **kwargs):\n",
    "        preferred = self.preference(\n",
    "                        instruction=instruction,\n",
    "            text_1=text_1,\n",
    "            text_2=text_2,\n",
    "        )\n",
    "        return preferred"
   ]
  },
  {
   "cell_type": "code",
   "execution_count": 6,
   "metadata": {},
   "outputs": [
    {
     "name": "stdout",
     "output_type": "stream",
     "text": [
      "Prediction(\n",
      "    preferred_text='1'\n",
      ")\n",
      "Example: 1\n",
      "Prediction: 1\n"
     ]
    },
    {
     "data": {
      "text/plain": [
       "True"
      ]
     },
     "execution_count": 6,
     "metadata": {},
     "output_type": "execute_result"
    }
   ],
   "source": [
    "pred = PrefPredict()(**train[0])\n",
    "print(pred)\n",
    "em_metric(train[0], pred, verbose=True)"
   ]
  },
  {
   "cell_type": "code",
   "execution_count": 7,
   "metadata": {},
   "outputs": [
    {
     "name": "stdout",
     "output_type": "stream",
     "text": [
      "\n",
      "\n",
      "\n",
      "\n",
      "Given the fields `instruction`, `text_1`, `text_2`, produce the fields `preferred_text`.\n",
      "\n",
      "---\n",
      "\n",
      "Follow the following format.\n",
      "\n",
      "Instruction: ${instruction}\n",
      "\n",
      "Text 1: ${text_1}\n",
      "\n",
      "Text 2: ${text_2}\n",
      "\n",
      "preferred_text: Only return the preferred text (1 or 2) as an int\n",
      "\n",
      "---\n",
      "\n",
      "Instruction: For a given set of 10 food-related words, provide the frequency of their usage in a corpus of reviews and the average number of syllables for each word. Furthermore, can you identify the top 3 food-related words with the highest frequency of usage and calculate the standard deviation of their syllable counts across the corpus?\n",
      "\n",
      "Text 1: Here are the frequencies of the ten food-related words in a corpus of restaurant reviews, along with the average number of syllables: - Pasta: 188 occurrences, 1.5 syllables - Salad: 157 occurrences, 1.7 syllables - Bread: 128 occurrences, 1.5 syllables - Chicken: 154 occurrences, 2.1 syllables - Rice: 115 occurrences, 1.5 syllables - Fish: 121 occurrences, 2.0 syllables - Meat: 97 occurrences, 1.7 syllables - Vegetables: 121 occurrences, 2.0 syllables - Dessert: 79 occurrences, 2.2 syllables - Potatoes: 76 occurrences, 2.0 syllables The top three food-related words with the highest frequency of usage are \"pasta\" (188 occurrences), \"salad\" (157 occurrences), and \"chicken\" (154 occurrences). The standard deviation of syllable count for these words is 0.3, indicating that the syllable counts are fairly consistent across reviews.\n",
      "\n",
      "Text 2: Certainly! However, I would need access to the corpus of reviews you are referring to in order to provide accurate results. Could you provide me with the corpus or specify which corpus you would like me to use for this analysis?\n",
      "\n",
      "preferred_text:\u001b[32m 1\n",
      "\n",
      "\u001b[0m\n",
      "\n",
      "\n",
      "\n"
     ]
    }
   ],
   "source": [
    "lm.inspect_history(n=1)"
   ]
  },
  {
   "cell_type": "code",
   "execution_count": 8,
   "metadata": {},
   "outputs": [
    {
     "name": "stderr",
     "output_type": "stream",
     "text": [
      "Average Metric: 3 / 4  (75.0):   1%|          | 3/500 [00:00<00:01, 477.06it/s]  "
     ]
    },
    {
     "name": "stderr",
     "output_type": "stream",
     "text": [
      "Average Metric: 324 / 500  (64.8): 100%|██████████| 500/500 [00:05<00:00, 86.71it/s] "
     ]
    },
    {
     "name": "stdout",
     "output_type": "stream",
     "text": [
      "Average Metric: 324 / 500  (64.8%)\n"
     ]
    },
    {
     "name": "stderr",
     "output_type": "stream",
     "text": [
      "\n"
     ]
    },
    {
     "data": {
      "text/plain": [
       "64.8"
      ]
     },
     "execution_count": 8,
     "metadata": {},
     "output_type": "execute_result"
    }
   ],
   "source": [
    "eval_fn(PrefPredict())"
   ]
  },
  {
   "cell_type": "markdown",
   "metadata": {},
   "source": [
    "# Bootstrapping Few Shot Example with Random Search\n",
    "\n",
    "* Need a train and a valid set, a metric, and a LLM.\n",
    "* Does not require demonstration, e.g., no demo CoT will be required.\n",
    "* The LLM will create good traces that satisfy the metric.\n",
    "* We will use random search to find the best prompt over generated traces and input/output pairs."
   ]
  },
  {
   "cell_type": "code",
   "execution_count": 9,
   "metadata": {},
   "outputs": [
    {
     "name": "stdout",
     "output_type": "stream",
     "text": [
      "Going to sample between 1 and 4 traces per predictor.\n",
      "Will attempt to train 50 candidate sets.\n"
     ]
    },
    {
     "name": "stderr",
     "output_type": "stream",
     "text": [
      "Average Metric: 68 / 100  (68.0): 100%|██████████| 100/100 [00:01<00:00, 84.74it/s]\n"
     ]
    },
    {
     "name": "stdout",
     "output_type": "stream",
     "text": [
      "Average Metric: 68 / 100  (68.0%)\n",
      "Score: 68.0 for set: [0]\n",
      "New best score: 68.0 for seed -3\n",
      "Scores so far: [68.0]\n",
      "Best score: 68.0\n"
     ]
    },
    {
     "name": "stderr",
     "output_type": "stream",
     "text": [
      "Average Metric: 74 / 100  (74.0): 100%|██████████| 100/100 [00:06<00:00, 15.81it/s]\n"
     ]
    },
    {
     "name": "stdout",
     "output_type": "stream",
     "text": [
      "Average Metric: 74 / 100  (74.0%)\n",
      "Score: 74.0 for set: [4]\n",
      "New best score: 74.0 for seed -2\n",
      "Scores so far: [68.0, 74.0]\n",
      "Best score: 74.0\n"
     ]
    },
    {
     "name": "stderr",
     "output_type": "stream",
     "text": [
      "  0%|          | 4/1401 [00:00<02:06, 11.08it/s]\n"
     ]
    },
    {
     "name": "stdout",
     "output_type": "stream",
     "text": [
      "Bootstrapped 4 full traces after 5 examples in round 0.\n"
     ]
    },
    {
     "name": "stderr",
     "output_type": "stream",
     "text": [
      "Average Metric: 63 / 100  (63.0): 100%|██████████| 100/100 [00:07<00:00, 14.27it/s]\n"
     ]
    },
    {
     "name": "stdout",
     "output_type": "stream",
     "text": [
      "Average Metric: 63 / 100  (63.0%)\n",
      "Score: 63.0 for set: [4]\n",
      "Scores so far: [68.0, 74.0, 63.0]\n",
      "Best score: 74.0\n",
      "Average of max per entry across top 1 scores: 0.74\n",
      "Average of max per entry across top 2 scores: 0.92\n",
      "Average of max per entry across top 3 scores: 0.95\n",
      "Average of max per entry across top 5 scores: 0.95\n",
      "Average of max per entry across top 8 scores: 0.95\n",
      "Average of max per entry across top 9999 scores: 0.95\n"
     ]
    },
    {
     "name": "stderr",
     "output_type": "stream",
     "text": [
      "  1%|          | 8/1401 [00:00<02:09, 10.77it/s]\n"
     ]
    },
    {
     "name": "stdout",
     "output_type": "stream",
     "text": [
      "Bootstrapped 4 full traces after 9 examples in round 0.\n"
     ]
    },
    {
     "name": "stderr",
     "output_type": "stream",
     "text": [
      "Average Metric: 73 / 100  (73.0): 100%|██████████| 100/100 [00:05<00:00, 17.24it/s]\n"
     ]
    },
    {
     "name": "stdout",
     "output_type": "stream",
     "text": [
      "Average Metric: 73 / 100  (73.0%)\n",
      "Score: 73.0 for set: [4]\n",
      "Scores so far: [68.0, 74.0, 63.0, 73.0]\n",
      "Best score: 74.0\n",
      "Average of max per entry across top 1 scores: 0.74\n",
      "Average of max per entry across top 2 scores: 0.9\n",
      "Average of max per entry across top 3 scores: 0.96\n",
      "Average of max per entry across top 5 scores: 0.97\n",
      "Average of max per entry across top 8 scores: 0.97\n",
      "Average of max per entry across top 9999 scores: 0.97\n"
     ]
    },
    {
     "name": "stderr",
     "output_type": "stream",
     "text": [
      "  0%|          | 6/1401 [00:00<01:44, 13.37it/s]\n"
     ]
    },
    {
     "name": "stdout",
     "output_type": "stream",
     "text": [
      "Bootstrapped 2 full traces after 7 examples in round 0.\n"
     ]
    },
    {
     "name": "stderr",
     "output_type": "stream",
     "text": [
      "Average Metric: 68 / 100  (68.0): 100%|██████████| 100/100 [00:06<00:00, 15.62it/s]\n"
     ]
    },
    {
     "name": "stdout",
     "output_type": "stream",
     "text": [
      "Average Metric: 68 / 100  (68.0%)\n",
      "Score: 68.0 for set: [4]\n",
      "Scores so far: [68.0, 74.0, 63.0, 73.0, 68.0]\n",
      "Best score: 74.0\n",
      "Average of max per entry across top 1 scores: 0.74\n",
      "Average of max per entry across top 2 scores: 0.9\n",
      "Average of max per entry across top 3 scores: 0.96\n",
      "Average of max per entry across top 5 scores: 0.98\n",
      "Average of max per entry across top 8 scores: 0.98\n",
      "Average of max per entry across top 9999 scores: 0.98\n"
     ]
    },
    {
     "name": "stderr",
     "output_type": "stream",
     "text": [
      "  0%|          | 1/1401 [00:00<02:26,  9.57it/s]\n"
     ]
    },
    {
     "name": "stdout",
     "output_type": "stream",
     "text": [
      "Bootstrapped 1 full traces after 2 examples in round 0.\n"
     ]
    },
    {
     "name": "stderr",
     "output_type": "stream",
     "text": [
      "Average Metric: 74 / 100  (74.0): 100%|██████████| 100/100 [00:06<00:00, 15.91it/s]\n"
     ]
    },
    {
     "name": "stdout",
     "output_type": "stream",
     "text": [
      "Average Metric: 74 / 100  (74.0%)\n",
      "Score: 74.0 for set: [4]\n",
      "Scores so far: [68.0, 74.0, 63.0, 73.0, 68.0, 74.0]\n",
      "Best score: 74.0\n",
      "Average of max per entry across top 1 scores: 0.74\n",
      "Average of max per entry across top 2 scores: 0.9\n",
      "Average of max per entry across top 3 scores: 0.96\n",
      "Average of max per entry across top 5 scores: 0.99\n",
      "Average of max per entry across top 8 scores: 1.0\n",
      "Average of max per entry across top 9999 scores: 1.0\n"
     ]
    },
    {
     "name": "stderr",
     "output_type": "stream",
     "text": [
      "  0%|          | 4/1401 [00:00<01:43, 13.44it/s]\n"
     ]
    },
    {
     "name": "stdout",
     "output_type": "stream",
     "text": [
      "Bootstrapped 2 full traces after 5 examples in round 0.\n"
     ]
    },
    {
     "name": "stderr",
     "output_type": "stream",
     "text": [
      "Average Metric: 69 / 100  (69.0): 100%|██████████| 100/100 [00:06<00:00, 14.80it/s]\n"
     ]
    },
    {
     "name": "stdout",
     "output_type": "stream",
     "text": [
      "Average Metric: 69 / 100  (69.0%)\n",
      "Score: 69.0 for set: [4]\n",
      "Scores so far: [68.0, 74.0, 63.0, 73.0, 68.0, 74.0, 69.0]\n",
      "Best score: 74.0\n",
      "Average of max per entry across top 1 scores: 0.74\n",
      "Average of max per entry across top 2 scores: 0.9\n",
      "Average of max per entry across top 3 scores: 0.96\n",
      "Average of max per entry across top 5 scores: 0.99\n",
      "Average of max per entry across top 8 scores: 1.0\n",
      "Average of max per entry across top 9999 scores: 1.0\n"
     ]
    },
    {
     "name": "stderr",
     "output_type": "stream",
     "text": [
      "  0%|          | 2/1401 [00:00<01:43, 13.51it/s]\n"
     ]
    },
    {
     "name": "stdout",
     "output_type": "stream",
     "text": [
      "Bootstrapped 2 full traces after 3 examples in round 0.\n"
     ]
    },
    {
     "name": "stderr",
     "output_type": "stream",
     "text": [
      "Average Metric: 82 / 100  (82.0): 100%|██████████| 100/100 [00:05<00:00, 19.84it/s]\n"
     ]
    },
    {
     "name": "stdout",
     "output_type": "stream",
     "text": [
      "Average Metric: 82 / 100  (82.0%)\n",
      "Score: 82.0 for set: [4]\n",
      "New best score: 82.0 for seed 4\n",
      "Scores so far: [68.0, 74.0, 63.0, 73.0, 68.0, 74.0, 69.0, 82.0]\n",
      "Best score: 82.0\n",
      "Average of max per entry across top 1 scores: 0.82\n",
      "Average of max per entry across top 2 scores: 0.95\n",
      "Average of max per entry across top 3 scores: 0.98\n",
      "Average of max per entry across top 5 scores: 1.0\n",
      "Average of max per entry across top 8 scores: 1.0\n",
      "Average of max per entry across top 9999 scores: 1.0\n"
     ]
    },
    {
     "name": "stderr",
     "output_type": "stream",
     "text": [
      "  0%|          | 3/1401 [00:00<01:54, 12.17it/s]\n"
     ]
    },
    {
     "name": "stdout",
     "output_type": "stream",
     "text": [
      "Bootstrapped 3 full traces after 4 examples in round 0.\n"
     ]
    },
    {
     "name": "stderr",
     "output_type": "stream",
     "text": [
      "Average Metric: 68 / 100  (68.0): 100%|██████████| 100/100 [00:07<00:00, 13.51it/s]\n"
     ]
    },
    {
     "name": "stdout",
     "output_type": "stream",
     "text": [
      "Average Metric: 68 / 100  (68.0%)\n",
      "Score: 68.0 for set: [4]\n",
      "Scores so far: [68.0, 74.0, 63.0, 73.0, 68.0, 74.0, 69.0, 82.0, 68.0]\n",
      "Best score: 82.0\n",
      "Average of max per entry across top 1 scores: 0.82\n",
      "Average of max per entry across top 2 scores: 0.95\n",
      "Average of max per entry across top 3 scores: 0.98\n",
      "Average of max per entry across top 5 scores: 1.0\n",
      "Average of max per entry across top 8 scores: 1.0\n",
      "Average of max per entry across top 9999 scores: 1.0\n"
     ]
    },
    {
     "name": "stderr",
     "output_type": "stream",
     "text": [
      "  0%|          | 2/1401 [00:00<01:42, 13.66it/s]\n"
     ]
    },
    {
     "name": "stdout",
     "output_type": "stream",
     "text": [
      "Bootstrapped 1 full traces after 3 examples in round 0.\n"
     ]
    },
    {
     "name": "stderr",
     "output_type": "stream",
     "text": [
      "Average Metric: 69 / 100  (69.0): 100%|██████████| 100/100 [00:04<00:00, 24.80it/s]\n"
     ]
    },
    {
     "name": "stdout",
     "output_type": "stream",
     "text": [
      "Average Metric: 69 / 100  (69.0%)\n",
      "Score: 69.0 for set: [4]\n",
      "Scores so far: [68.0, 74.0, 63.0, 73.0, 68.0, 74.0, 69.0, 82.0, 68.0, 69.0]\n",
      "Best score: 82.0\n",
      "Average of max per entry across top 1 scores: 0.82\n",
      "Average of max per entry across top 2 scores: 0.95\n",
      "Average of max per entry across top 3 scores: 0.98\n",
      "Average of max per entry across top 5 scores: 1.0\n",
      "Average of max per entry across top 8 scores: 1.0\n",
      "Average of max per entry across top 9999 scores: 1.0\n"
     ]
    },
    {
     "name": "stderr",
     "output_type": "stream",
     "text": [
      "  0%|          | 5/1401 [00:00<01:54, 12.18it/s]\n"
     ]
    },
    {
     "name": "stdout",
     "output_type": "stream",
     "text": [
      "Bootstrapped 3 full traces after 6 examples in round 0.\n"
     ]
    },
    {
     "name": "stderr",
     "output_type": "stream",
     "text": [
      "Average Metric: 63 / 100  (63.0): 100%|██████████| 100/100 [00:08<00:00, 11.81it/s]\n"
     ]
    },
    {
     "name": "stdout",
     "output_type": "stream",
     "text": [
      "Average Metric: 63 / 100  (63.0%)\n",
      "Score: 63.0 for set: [4]\n",
      "Scores so far: [68.0, 74.0, 63.0, 73.0, 68.0, 74.0, 69.0, 82.0, 68.0, 69.0, 63.0]\n",
      "Best score: 82.0\n",
      "Average of max per entry across top 1 scores: 0.82\n",
      "Average of max per entry across top 2 scores: 0.95\n",
      "Average of max per entry across top 3 scores: 0.98\n",
      "Average of max per entry across top 5 scores: 1.0\n",
      "Average of max per entry across top 8 scores: 1.0\n",
      "Average of max per entry across top 9999 scores: 1.0\n"
     ]
    },
    {
     "name": "stderr",
     "output_type": "stream",
     "text": [
      "  0%|          | 3/1401 [00:00<01:53, 12.33it/s]\n"
     ]
    },
    {
     "name": "stdout",
     "output_type": "stream",
     "text": [
      "Bootstrapped 2 full traces after 4 examples in round 0.\n"
     ]
    },
    {
     "name": "stderr",
     "output_type": "stream",
     "text": [
      "Average Metric: 69 / 100  (69.0): 100%|██████████| 100/100 [00:07<00:00, 12.96it/s]\n"
     ]
    },
    {
     "name": "stdout",
     "output_type": "stream",
     "text": [
      "Average Metric: 69 / 100  (69.0%)\n",
      "Score: 69.0 for set: [4]\n",
      "Scores so far: [68.0, 74.0, 63.0, 73.0, 68.0, 74.0, 69.0, 82.0, 68.0, 69.0, 63.0, 69.0]\n",
      "Best score: 82.0\n",
      "Average of max per entry across top 1 scores: 0.82\n",
      "Average of max per entry across top 2 scores: 0.95\n",
      "Average of max per entry across top 3 scores: 0.98\n",
      "Average of max per entry across top 5 scores: 1.0\n",
      "Average of max per entry across top 8 scores: 1.0\n",
      "Average of max per entry across top 9999 scores: 1.0\n"
     ]
    },
    {
     "name": "stderr",
     "output_type": "stream",
     "text": [
      "  0%|          | 4/1401 [00:00<02:02, 11.41it/s]\n"
     ]
    },
    {
     "name": "stdout",
     "output_type": "stream",
     "text": [
      "Bootstrapped 4 full traces after 5 examples in round 0.\n"
     ]
    },
    {
     "name": "stderr",
     "output_type": "stream",
     "text": [
      "Average Metric: 72 / 100  (72.0): 100%|██████████| 100/100 [00:06<00:00, 15.51it/s]\n"
     ]
    },
    {
     "name": "stdout",
     "output_type": "stream",
     "text": [
      "Average Metric: 72 / 100  (72.0%)\n",
      "Score: 72.0 for set: [4]\n",
      "Scores so far: [68.0, 74.0, 63.0, 73.0, 68.0, 74.0, 69.0, 82.0, 68.0, 69.0, 63.0, 69.0, 72.0]\n",
      "Best score: 82.0\n",
      "Average of max per entry across top 1 scores: 0.82\n",
      "Average of max per entry across top 2 scores: 0.95\n",
      "Average of max per entry across top 3 scores: 0.98\n",
      "Average of max per entry across top 5 scores: 1.0\n",
      "Average of max per entry across top 8 scores: 1.0\n",
      "Average of max per entry across top 9999 scores: 1.0\n"
     ]
    },
    {
     "name": "stderr",
     "output_type": "stream",
     "text": [
      "  0%|          | 1/1401 [00:00<01:52, 12.41it/s]\n"
     ]
    },
    {
     "name": "stdout",
     "output_type": "stream",
     "text": [
      "Bootstrapped 1 full traces after 2 examples in round 0.\n"
     ]
    },
    {
     "name": "stderr",
     "output_type": "stream",
     "text": [
      "Average Metric: 70 / 100  (70.0): 100%|██████████| 100/100 [00:06<00:00, 14.84it/s]\n"
     ]
    },
    {
     "name": "stdout",
     "output_type": "stream",
     "text": [
      "Average Metric: 70 / 100  (70.0%)\n",
      "Score: 70.0 for set: [4]\n",
      "Scores so far: [68.0, 74.0, 63.0, 73.0, 68.0, 74.0, 69.0, 82.0, 68.0, 69.0, 63.0, 69.0, 72.0, 70.0]\n",
      "Best score: 82.0\n",
      "Average of max per entry across top 1 scores: 0.82\n",
      "Average of max per entry across top 2 scores: 0.95\n",
      "Average of max per entry across top 3 scores: 0.98\n",
      "Average of max per entry across top 5 scores: 1.0\n",
      "Average of max per entry across top 8 scores: 1.0\n",
      "Average of max per entry across top 9999 scores: 1.0\n"
     ]
    },
    {
     "name": "stderr",
     "output_type": "stream",
     "text": [
      "  1%|          | 9/1401 [00:00<01:52, 12.42it/s]\n"
     ]
    },
    {
     "name": "stdout",
     "output_type": "stream",
     "text": [
      "Bootstrapped 4 full traces after 10 examples in round 0.\n"
     ]
    },
    {
     "name": "stderr",
     "output_type": "stream",
     "text": [
      "Average Metric: 78 / 100  (78.0): 100%|██████████| 100/100 [00:04<00:00, 20.06it/s]\n"
     ]
    },
    {
     "name": "stdout",
     "output_type": "stream",
     "text": [
      "Average Metric: 78 / 100  (78.0%)\n",
      "Score: 78.0 for set: [4]\n",
      "Scores so far: [68.0, 74.0, 63.0, 73.0, 68.0, 74.0, 69.0, 82.0, 68.0, 69.0, 63.0, 69.0, 72.0, 70.0, 78.0]\n",
      "Best score: 82.0\n",
      "Average of max per entry across top 1 scores: 0.82\n",
      "Average of max per entry across top 2 scores: 0.96\n",
      "Average of max per entry across top 3 scores: 0.98\n",
      "Average of max per entry across top 5 scores: 0.99\n",
      "Average of max per entry across top 8 scores: 1.0\n",
      "Average of max per entry across top 9999 scores: 1.0\n"
     ]
    },
    {
     "name": "stderr",
     "output_type": "stream",
     "text": [
      "  0%|          | 7/1401 [00:00<02:00, 11.60it/s]\n"
     ]
    },
    {
     "name": "stdout",
     "output_type": "stream",
     "text": [
      "Bootstrapped 4 full traces after 8 examples in round 0.\n"
     ]
    },
    {
     "name": "stderr",
     "output_type": "stream",
     "text": [
      "Average Metric: 69 / 100  (69.0): 100%|██████████| 100/100 [00:05<00:00, 18.72it/s]\n"
     ]
    },
    {
     "name": "stdout",
     "output_type": "stream",
     "text": [
      "Average Metric: 69 / 100  (69.0%)\n",
      "Score: 69.0 for set: [4]\n",
      "Scores so far: [68.0, 74.0, 63.0, 73.0, 68.0, 74.0, 69.0, 82.0, 68.0, 69.0, 63.0, 69.0, 72.0, 70.0, 78.0, 69.0]\n",
      "Best score: 82.0\n",
      "Average of max per entry across top 1 scores: 0.82\n",
      "Average of max per entry across top 2 scores: 0.96\n",
      "Average of max per entry across top 3 scores: 0.98\n",
      "Average of max per entry across top 5 scores: 0.99\n",
      "Average of max per entry across top 8 scores: 1.0\n",
      "Average of max per entry across top 9999 scores: 1.0\n"
     ]
    },
    {
     "name": "stderr",
     "output_type": "stream",
     "text": [
      "  0%|          | 4/1401 [00:00<02:19, 10.00it/s]\n"
     ]
    },
    {
     "name": "stdout",
     "output_type": "stream",
     "text": [
      "Bootstrapped 3 full traces after 5 examples in round 0.\n"
     ]
    },
    {
     "name": "stderr",
     "output_type": "stream",
     "text": [
      "Average Metric: 70 / 100  (70.0): 100%|██████████| 100/100 [00:05<00:00, 19.37it/s]\n"
     ]
    },
    {
     "name": "stdout",
     "output_type": "stream",
     "text": [
      "Average Metric: 70 / 100  (70.0%)\n",
      "Score: 70.0 for set: [4]\n",
      "Scores so far: [68.0, 74.0, 63.0, 73.0, 68.0, 74.0, 69.0, 82.0, 68.0, 69.0, 63.0, 69.0, 72.0, 70.0, 78.0, 69.0, 70.0]\n",
      "Best score: 82.0\n",
      "Average of max per entry across top 1 scores: 0.82\n",
      "Average of max per entry across top 2 scores: 0.96\n",
      "Average of max per entry across top 3 scores: 0.98\n",
      "Average of max per entry across top 5 scores: 0.99\n",
      "Average of max per entry across top 8 scores: 1.0\n",
      "Average of max per entry across top 9999 scores: 1.0\n"
     ]
    },
    {
     "name": "stderr",
     "output_type": "stream",
     "text": [
      "  0%|          | 2/1401 [00:00<01:57, 11.87it/s]\n"
     ]
    },
    {
     "name": "stdout",
     "output_type": "stream",
     "text": [
      "Bootstrapped 1 full traces after 3 examples in round 0.\n"
     ]
    },
    {
     "name": "stderr",
     "output_type": "stream",
     "text": [
      "Average Metric: 55 / 100  (55.0): 100%|██████████| 100/100 [00:06<00:00, 16.65it/s]\n"
     ]
    },
    {
     "name": "stdout",
     "output_type": "stream",
     "text": [
      "Average Metric: 55 / 100  (55.0%)\n",
      "Score: 55.0 for set: [4]\n",
      "Scores so far: [68.0, 74.0, 63.0, 73.0, 68.0, 74.0, 69.0, 82.0, 68.0, 69.0, 63.0, 69.0, 72.0, 70.0, 78.0, 69.0, 70.0, 55.0]\n",
      "Best score: 82.0\n",
      "Average of max per entry across top 1 scores: 0.82\n",
      "Average of max per entry across top 2 scores: 0.96\n",
      "Average of max per entry across top 3 scores: 0.98\n",
      "Average of max per entry across top 5 scores: 0.99\n",
      "Average of max per entry across top 8 scores: 1.0\n",
      "Average of max per entry across top 9999 scores: 1.0\n"
     ]
    },
    {
     "name": "stderr",
     "output_type": "stream",
     "text": [
      "  0%|          | 3/1401 [00:00<01:25, 16.41it/s]\n"
     ]
    },
    {
     "name": "stdout",
     "output_type": "stream",
     "text": [
      "Bootstrapped 2 full traces after 4 examples in round 0.\n"
     ]
    },
    {
     "name": "stderr",
     "output_type": "stream",
     "text": [
      "Average Metric: 63 / 100  (63.0): 100%|██████████| 100/100 [00:03<00:00, 31.97it/s]\n"
     ]
    },
    {
     "name": "stdout",
     "output_type": "stream",
     "text": [
      "Average Metric: 63 / 100  (63.0%)\n",
      "Score: 63.0 for set: [4]\n",
      "Scores so far: [68.0, 74.0, 63.0, 73.0, 68.0, 74.0, 69.0, 82.0, 68.0, 69.0, 63.0, 69.0, 72.0, 70.0, 78.0, 69.0, 70.0, 55.0, 63.0]\n",
      "Best score: 82.0\n",
      "Average of max per entry across top 1 scores: 0.82\n",
      "Average of max per entry across top 2 scores: 0.96\n",
      "Average of max per entry across top 3 scores: 0.98\n",
      "Average of max per entry across top 5 scores: 0.99\n",
      "Average of max per entry across top 8 scores: 1.0\n",
      "Average of max per entry across top 9999 scores: 1.0\n"
     ]
    },
    {
     "name": "stderr",
     "output_type": "stream",
     "text": [
      "  0%|          | 4/1401 [00:00<02:02, 11.42it/s]\n"
     ]
    },
    {
     "name": "stdout",
     "output_type": "stream",
     "text": [
      "Bootstrapped 3 full traces after 5 examples in round 0.\n"
     ]
    },
    {
     "name": "stderr",
     "output_type": "stream",
     "text": [
      "Average Metric: 70 / 100  (70.0): 100%|██████████| 100/100 [00:03<00:00, 26.64it/s]\n"
     ]
    },
    {
     "name": "stdout",
     "output_type": "stream",
     "text": [
      "Average Metric: 70 / 100  (70.0%)\n",
      "Score: 70.0 for set: [4]\n",
      "Scores so far: [68.0, 74.0, 63.0, 73.0, 68.0, 74.0, 69.0, 82.0, 68.0, 69.0, 63.0, 69.0, 72.0, 70.0, 78.0, 69.0, 70.0, 55.0, 63.0, 70.0]\n",
      "Best score: 82.0\n",
      "Average of max per entry across top 1 scores: 0.82\n",
      "Average of max per entry across top 2 scores: 0.96\n",
      "Average of max per entry across top 3 scores: 0.98\n",
      "Average of max per entry across top 5 scores: 0.99\n",
      "Average of max per entry across top 8 scores: 1.0\n",
      "Average of max per entry across top 9999 scores: 1.0\n"
     ]
    },
    {
     "name": "stderr",
     "output_type": "stream",
     "text": [
      "  0%|          | 4/1401 [00:00<01:53, 12.27it/s]\n"
     ]
    },
    {
     "name": "stdout",
     "output_type": "stream",
     "text": [
      "Bootstrapped 4 full traces after 5 examples in round 0.\n"
     ]
    },
    {
     "name": "stderr",
     "output_type": "stream",
     "text": [
      "Average Metric: 71 / 100  (71.0): 100%|██████████| 100/100 [00:03<00:00, 29.13it/s]\n"
     ]
    },
    {
     "name": "stdout",
     "output_type": "stream",
     "text": [
      "Average Metric: 71 / 100  (71.0%)\n",
      "Score: 71.0 for set: [4]\n",
      "Scores so far: [68.0, 74.0, 63.0, 73.0, 68.0, 74.0, 69.0, 82.0, 68.0, 69.0, 63.0, 69.0, 72.0, 70.0, 78.0, 69.0, 70.0, 55.0, 63.0, 70.0, 71.0]\n",
      "Best score: 82.0\n",
      "Average of max per entry across top 1 scores: 0.82\n",
      "Average of max per entry across top 2 scores: 0.96\n",
      "Average of max per entry across top 3 scores: 0.98\n",
      "Average of max per entry across top 5 scores: 0.99\n",
      "Average of max per entry across top 8 scores: 1.0\n",
      "Average of max per entry across top 9999 scores: 1.0\n"
     ]
    },
    {
     "name": "stderr",
     "output_type": "stream",
     "text": [
      "  0%|          | 2/1401 [00:00<01:30, 15.39it/s]\n"
     ]
    },
    {
     "name": "stdout",
     "output_type": "stream",
     "text": [
      "Bootstrapped 2 full traces after 3 examples in round 0.\n"
     ]
    },
    {
     "name": "stderr",
     "output_type": "stream",
     "text": [
      "Average Metric: 70 / 100  (70.0): 100%|██████████| 100/100 [00:06<00:00, 14.54it/s]\n"
     ]
    },
    {
     "name": "stdout",
     "output_type": "stream",
     "text": [
      "Average Metric: 70 / 100  (70.0%)\n",
      "Score: 70.0 for set: [4]\n",
      "Scores so far: [68.0, 74.0, 63.0, 73.0, 68.0, 74.0, 69.0, 82.0, 68.0, 69.0, 63.0, 69.0, 72.0, 70.0, 78.0, 69.0, 70.0, 55.0, 63.0, 70.0, 71.0, 70.0]\n",
      "Best score: 82.0\n",
      "Average of max per entry across top 1 scores: 0.82\n",
      "Average of max per entry across top 2 scores: 0.96\n",
      "Average of max per entry across top 3 scores: 0.98\n",
      "Average of max per entry across top 5 scores: 0.99\n",
      "Average of max per entry across top 8 scores: 1.0\n",
      "Average of max per entry across top 9999 scores: 1.0\n"
     ]
    },
    {
     "name": "stderr",
     "output_type": "stream",
     "text": [
      "  0%|          | 2/1401 [00:00<02:35,  9.02it/s]\n"
     ]
    },
    {
     "name": "stdout",
     "output_type": "stream",
     "text": [
      "Bootstrapped 1 full traces after 3 examples in round 0.\n"
     ]
    },
    {
     "name": "stderr",
     "output_type": "stream",
     "text": [
      "Average Metric: 74 / 100  (74.0): 100%|██████████| 100/100 [00:09<00:00, 11.05it/s]\n"
     ]
    },
    {
     "name": "stdout",
     "output_type": "stream",
     "text": [
      "Average Metric: 74 / 100  (74.0%)\n",
      "Score: 74.0 for set: [4]\n",
      "Scores so far: [68.0, 74.0, 63.0, 73.0, 68.0, 74.0, 69.0, 82.0, 68.0, 69.0, 63.0, 69.0, 72.0, 70.0, 78.0, 69.0, 70.0, 55.0, 63.0, 70.0, 71.0, 70.0, 74.0]\n",
      "Best score: 82.0\n",
      "Average of max per entry across top 1 scores: 0.82\n",
      "Average of max per entry across top 2 scores: 0.96\n",
      "Average of max per entry across top 3 scores: 0.98\n",
      "Average of max per entry across top 5 scores: 1.0\n",
      "Average of max per entry across top 8 scores: 1.0\n",
      "Average of max per entry across top 9999 scores: 1.0\n"
     ]
    },
    {
     "name": "stderr",
     "output_type": "stream",
     "text": [
      "  0%|          | 3/1401 [00:00<01:59, 11.65it/s]\n"
     ]
    },
    {
     "name": "stdout",
     "output_type": "stream",
     "text": [
      "Bootstrapped 2 full traces after 4 examples in round 0.\n"
     ]
    },
    {
     "name": "stderr",
     "output_type": "stream",
     "text": [
      "Average Metric: 65 / 100  (65.0): 100%|██████████| 100/100 [00:08<00:00, 12.26it/s]\n"
     ]
    },
    {
     "name": "stdout",
     "output_type": "stream",
     "text": [
      "Average Metric: 65 / 100  (65.0%)\n",
      "Score: 65.0 for set: [4]\n",
      "Scores so far: [68.0, 74.0, 63.0, 73.0, 68.0, 74.0, 69.0, 82.0, 68.0, 69.0, 63.0, 69.0, 72.0, 70.0, 78.0, 69.0, 70.0, 55.0, 63.0, 70.0, 71.0, 70.0, 74.0, 65.0]\n",
      "Best score: 82.0\n",
      "Average of max per entry across top 1 scores: 0.82\n",
      "Average of max per entry across top 2 scores: 0.96\n",
      "Average of max per entry across top 3 scores: 0.98\n",
      "Average of max per entry across top 5 scores: 1.0\n",
      "Average of max per entry across top 8 scores: 1.0\n",
      "Average of max per entry across top 9999 scores: 1.0\n"
     ]
    },
    {
     "name": "stderr",
     "output_type": "stream",
     "text": [
      "  0%|          | 4/1401 [00:00<01:42, 13.67it/s]\n"
     ]
    },
    {
     "name": "stdout",
     "output_type": "stream",
     "text": [
      "Bootstrapped 2 full traces after 5 examples in round 0.\n"
     ]
    },
    {
     "name": "stderr",
     "output_type": "stream",
     "text": [
      "Average Metric: 61 / 100  (61.0): 100%|██████████| 100/100 [00:07<00:00, 13.88it/s]\n"
     ]
    },
    {
     "name": "stdout",
     "output_type": "stream",
     "text": [
      "Average Metric: 61 / 100  (61.0%)\n",
      "Score: 61.0 for set: [4]\n",
      "Scores so far: [68.0, 74.0, 63.0, 73.0, 68.0, 74.0, 69.0, 82.0, 68.0, 69.0, 63.0, 69.0, 72.0, 70.0, 78.0, 69.0, 70.0, 55.0, 63.0, 70.0, 71.0, 70.0, 74.0, 65.0, 61.0]\n",
      "Best score: 82.0\n",
      "Average of max per entry across top 1 scores: 0.82\n",
      "Average of max per entry across top 2 scores: 0.96\n",
      "Average of max per entry across top 3 scores: 0.98\n",
      "Average of max per entry across top 5 scores: 1.0\n",
      "Average of max per entry across top 8 scores: 1.0\n",
      "Average of max per entry across top 9999 scores: 1.0\n"
     ]
    },
    {
     "name": "stderr",
     "output_type": "stream",
     "text": [
      "  0%|          | 2/1401 [00:00<02:06, 11.07it/s]\n"
     ]
    },
    {
     "name": "stdout",
     "output_type": "stream",
     "text": [
      "Bootstrapped 2 full traces after 3 examples in round 0.\n"
     ]
    },
    {
     "name": "stderr",
     "output_type": "stream",
     "text": [
      "Average Metric: 50 / 100  (50.0): 100%|██████████| 100/100 [00:08<00:00, 12.31it/s]\n"
     ]
    },
    {
     "name": "stdout",
     "output_type": "stream",
     "text": [
      "Average Metric: 50 / 100  (50.0%)\n",
      "Score: 50.0 for set: [4]\n",
      "Scores so far: [68.0, 74.0, 63.0, 73.0, 68.0, 74.0, 69.0, 82.0, 68.0, 69.0, 63.0, 69.0, 72.0, 70.0, 78.0, 69.0, 70.0, 55.0, 63.0, 70.0, 71.0, 70.0, 74.0, 65.0, 61.0, 50.0]\n",
      "Best score: 82.0\n",
      "Average of max per entry across top 1 scores: 0.82\n",
      "Average of max per entry across top 2 scores: 0.96\n",
      "Average of max per entry across top 3 scores: 0.98\n",
      "Average of max per entry across top 5 scores: 1.0\n",
      "Average of max per entry across top 8 scores: 1.0\n",
      "Average of max per entry across top 9999 scores: 1.0\n"
     ]
    },
    {
     "name": "stderr",
     "output_type": "stream",
     "text": [
      "  0%|          | 3/1401 [00:00<02:13, 10.45it/s]\n"
     ]
    },
    {
     "name": "stdout",
     "output_type": "stream",
     "text": [
      "Bootstrapped 3 full traces after 4 examples in round 0.\n"
     ]
    },
    {
     "name": "stderr",
     "output_type": "stream",
     "text": [
      "Average Metric: 68 / 100  (68.0): 100%|██████████| 100/100 [00:04<00:00, 20.29it/s]\n"
     ]
    },
    {
     "name": "stdout",
     "output_type": "stream",
     "text": [
      "Average Metric: 68 / 100  (68.0%)\n",
      "Score: 68.0 for set: [4]\n",
      "Scores so far: [68.0, 74.0, 63.0, 73.0, 68.0, 74.0, 69.0, 82.0, 68.0, 69.0, 63.0, 69.0, 72.0, 70.0, 78.0, 69.0, 70.0, 55.0, 63.0, 70.0, 71.0, 70.0, 74.0, 65.0, 61.0, 50.0, 68.0]\n",
      "Best score: 82.0\n",
      "Average of max per entry across top 1 scores: 0.82\n",
      "Average of max per entry across top 2 scores: 0.96\n",
      "Average of max per entry across top 3 scores: 0.98\n",
      "Average of max per entry across top 5 scores: 1.0\n",
      "Average of max per entry across top 8 scores: 1.0\n",
      "Average of max per entry across top 9999 scores: 1.0\n"
     ]
    },
    {
     "name": "stderr",
     "output_type": "stream",
     "text": [
      "  0%|          | 6/1401 [00:00<01:47, 13.02it/s]\n"
     ]
    },
    {
     "name": "stdout",
     "output_type": "stream",
     "text": [
      "Bootstrapped 4 full traces after 7 examples in round 0.\n"
     ]
    },
    {
     "name": "stderr",
     "output_type": "stream",
     "text": [
      "Average Metric: 72 / 100  (72.0): 100%|██████████| 100/100 [00:04<00:00, 23.60it/s]\n"
     ]
    },
    {
     "name": "stdout",
     "output_type": "stream",
     "text": [
      "Average Metric: 72 / 100  (72.0%)\n",
      "Score: 72.0 for set: [4]\n",
      "Scores so far: [68.0, 74.0, 63.0, 73.0, 68.0, 74.0, 69.0, 82.0, 68.0, 69.0, 63.0, 69.0, 72.0, 70.0, 78.0, 69.0, 70.0, 55.0, 63.0, 70.0, 71.0, 70.0, 74.0, 65.0, 61.0, 50.0, 68.0, 72.0]\n",
      "Best score: 82.0\n",
      "Average of max per entry across top 1 scores: 0.82\n",
      "Average of max per entry across top 2 scores: 0.96\n",
      "Average of max per entry across top 3 scores: 0.98\n",
      "Average of max per entry across top 5 scores: 1.0\n",
      "Average of max per entry across top 8 scores: 1.0\n",
      "Average of max per entry across top 9999 scores: 1.0\n"
     ]
    },
    {
     "name": "stderr",
     "output_type": "stream",
     "text": [
      "  0%|          | 4/1401 [00:00<01:58, 11.81it/s]\n"
     ]
    },
    {
     "name": "stdout",
     "output_type": "stream",
     "text": [
      "Bootstrapped 4 full traces after 5 examples in round 0.\n"
     ]
    },
    {
     "name": "stderr",
     "output_type": "stream",
     "text": [
      "Average Metric: 52 / 100  (52.0): 100%|██████████| 100/100 [00:07<00:00, 13.81it/s]\n"
     ]
    },
    {
     "name": "stdout",
     "output_type": "stream",
     "text": [
      "Average Metric: 52 / 100  (52.0%)\n",
      "Score: 52.0 for set: [4]\n",
      "Scores so far: [68.0, 74.0, 63.0, 73.0, 68.0, 74.0, 69.0, 82.0, 68.0, 69.0, 63.0, 69.0, 72.0, 70.0, 78.0, 69.0, 70.0, 55.0, 63.0, 70.0, 71.0, 70.0, 74.0, 65.0, 61.0, 50.0, 68.0, 72.0, 52.0]\n",
      "Best score: 82.0\n",
      "Average of max per entry across top 1 scores: 0.82\n",
      "Average of max per entry across top 2 scores: 0.96\n",
      "Average of max per entry across top 3 scores: 0.98\n",
      "Average of max per entry across top 5 scores: 1.0\n",
      "Average of max per entry across top 8 scores: 1.0\n",
      "Average of max per entry across top 9999 scores: 1.0\n"
     ]
    },
    {
     "name": "stderr",
     "output_type": "stream",
     "text": [
      "  0%|          | 2/1401 [00:00<02:05, 11.13it/s]\n"
     ]
    },
    {
     "name": "stdout",
     "output_type": "stream",
     "text": [
      "Bootstrapped 2 full traces after 3 examples in round 0.\n"
     ]
    },
    {
     "name": "stderr",
     "output_type": "stream",
     "text": [
      "Average Metric: 70 / 100  (70.0): 100%|██████████| 100/100 [00:07<00:00, 13.24it/s]\n"
     ]
    },
    {
     "name": "stdout",
     "output_type": "stream",
     "text": [
      "Average Metric: 70 / 100  (70.0%)\n",
      "Score: 70.0 for set: [4]\n",
      "Scores so far: [68.0, 74.0, 63.0, 73.0, 68.0, 74.0, 69.0, 82.0, 68.0, 69.0, 63.0, 69.0, 72.0, 70.0, 78.0, 69.0, 70.0, 55.0, 63.0, 70.0, 71.0, 70.0, 74.0, 65.0, 61.0, 50.0, 68.0, 72.0, 52.0, 70.0]\n",
      "Best score: 82.0\n",
      "Average of max per entry across top 1 scores: 0.82\n",
      "Average of max per entry across top 2 scores: 0.96\n",
      "Average of max per entry across top 3 scores: 0.98\n",
      "Average of max per entry across top 5 scores: 1.0\n",
      "Average of max per entry across top 8 scores: 1.0\n",
      "Average of max per entry across top 9999 scores: 1.0\n"
     ]
    },
    {
     "name": "stderr",
     "output_type": "stream",
     "text": [
      "  0%|          | 5/1401 [00:00<02:17, 10.15it/s]\n"
     ]
    },
    {
     "name": "stdout",
     "output_type": "stream",
     "text": [
      "Bootstrapped 4 full traces after 6 examples in round 0.\n"
     ]
    },
    {
     "name": "stderr",
     "output_type": "stream",
     "text": [
      "Average Metric: 73 / 100  (73.0): 100%|██████████| 100/100 [00:05<00:00, 17.19it/s]\n"
     ]
    },
    {
     "name": "stdout",
     "output_type": "stream",
     "text": [
      "Average Metric: 73 / 100  (73.0%)\n",
      "Score: 73.0 for set: [4]\n",
      "Scores so far: [68.0, 74.0, 63.0, 73.0, 68.0, 74.0, 69.0, 82.0, 68.0, 69.0, 63.0, 69.0, 72.0, 70.0, 78.0, 69.0, 70.0, 55.0, 63.0, 70.0, 71.0, 70.0, 74.0, 65.0, 61.0, 50.0, 68.0, 72.0, 52.0, 70.0, 73.0]\n",
      "Best score: 82.0\n",
      "Average of max per entry across top 1 scores: 0.82\n",
      "Average of max per entry across top 2 scores: 0.96\n",
      "Average of max per entry across top 3 scores: 0.98\n",
      "Average of max per entry across top 5 scores: 1.0\n",
      "Average of max per entry across top 8 scores: 1.0\n",
      "Average of max per entry across top 9999 scores: 1.0\n"
     ]
    },
    {
     "name": "stderr",
     "output_type": "stream",
     "text": [
      "  0%|          | 2/1401 [00:00<01:48, 12.89it/s]\n"
     ]
    },
    {
     "name": "stdout",
     "output_type": "stream",
     "text": [
      "Bootstrapped 1 full traces after 3 examples in round 0.\n"
     ]
    },
    {
     "name": "stderr",
     "output_type": "stream",
     "text": [
      "Average Metric: 72 / 100  (72.0): 100%|██████████| 100/100 [00:07<00:00, 12.93it/s]\n"
     ]
    },
    {
     "name": "stdout",
     "output_type": "stream",
     "text": [
      "Average Metric: 72 / 100  (72.0%)\n",
      "Score: 72.0 for set: [4]\n",
      "Scores so far: [68.0, 74.0, 63.0, 73.0, 68.0, 74.0, 69.0, 82.0, 68.0, 69.0, 63.0, 69.0, 72.0, 70.0, 78.0, 69.0, 70.0, 55.0, 63.0, 70.0, 71.0, 70.0, 74.0, 65.0, 61.0, 50.0, 68.0, 72.0, 52.0, 70.0, 73.0, 72.0]\n",
      "Best score: 82.0\n",
      "Average of max per entry across top 1 scores: 0.82\n",
      "Average of max per entry across top 2 scores: 0.96\n",
      "Average of max per entry across top 3 scores: 0.98\n",
      "Average of max per entry across top 5 scores: 1.0\n",
      "Average of max per entry across top 8 scores: 1.0\n",
      "Average of max per entry across top 9999 scores: 1.0\n"
     ]
    },
    {
     "name": "stderr",
     "output_type": "stream",
     "text": [
      "  0%|          | 2/1401 [00:00<01:33, 15.01it/s]\n"
     ]
    },
    {
     "name": "stdout",
     "output_type": "stream",
     "text": [
      "Bootstrapped 1 full traces after 3 examples in round 0.\n"
     ]
    },
    {
     "name": "stderr",
     "output_type": "stream",
     "text": [
      "Average Metric: 71 / 100  (71.0): 100%|██████████| 100/100 [00:05<00:00, 18.33it/s]\n"
     ]
    },
    {
     "name": "stdout",
     "output_type": "stream",
     "text": [
      "Average Metric: 71 / 100  (71.0%)\n",
      "Score: 71.0 for set: [4]\n",
      "Scores so far: [68.0, 74.0, 63.0, 73.0, 68.0, 74.0, 69.0, 82.0, 68.0, 69.0, 63.0, 69.0, 72.0, 70.0, 78.0, 69.0, 70.0, 55.0, 63.0, 70.0, 71.0, 70.0, 74.0, 65.0, 61.0, 50.0, 68.0, 72.0, 52.0, 70.0, 73.0, 72.0, 71.0]\n",
      "Best score: 82.0\n",
      "Average of max per entry across top 1 scores: 0.82\n",
      "Average of max per entry across top 2 scores: 0.96\n",
      "Average of max per entry across top 3 scores: 0.98\n",
      "Average of max per entry across top 5 scores: 1.0\n",
      "Average of max per entry across top 8 scores: 1.0\n",
      "Average of max per entry across top 9999 scores: 1.0\n"
     ]
    },
    {
     "name": "stderr",
     "output_type": "stream",
     "text": [
      "  0%|          | 5/1401 [00:00<02:42,  8.61it/s]\n"
     ]
    },
    {
     "name": "stdout",
     "output_type": "stream",
     "text": [
      "Bootstrapped 3 full traces after 6 examples in round 0.\n"
     ]
    },
    {
     "name": "stderr",
     "output_type": "stream",
     "text": [
      "Average Metric: 71 / 100  (71.0): 100%|██████████| 100/100 [00:04<00:00, 22.72it/s]\n"
     ]
    },
    {
     "name": "stdout",
     "output_type": "stream",
     "text": [
      "Average Metric: 71 / 100  (71.0%)\n",
      "Score: 71.0 for set: [4]\n",
      "Scores so far: [68.0, 74.0, 63.0, 73.0, 68.0, 74.0, 69.0, 82.0, 68.0, 69.0, 63.0, 69.0, 72.0, 70.0, 78.0, 69.0, 70.0, 55.0, 63.0, 70.0, 71.0, 70.0, 74.0, 65.0, 61.0, 50.0, 68.0, 72.0, 52.0, 70.0, 73.0, 72.0, 71.0, 71.0]\n",
      "Best score: 82.0\n",
      "Average of max per entry across top 1 scores: 0.82\n",
      "Average of max per entry across top 2 scores: 0.96\n",
      "Average of max per entry across top 3 scores: 0.98\n",
      "Average of max per entry across top 5 scores: 1.0\n",
      "Average of max per entry across top 8 scores: 1.0\n",
      "Average of max per entry across top 9999 scores: 1.0\n"
     ]
    },
    {
     "name": "stderr",
     "output_type": "stream",
     "text": [
      "  0%|          | 2/1401 [00:00<02:20,  9.94it/s]\n"
     ]
    },
    {
     "name": "stdout",
     "output_type": "stream",
     "text": [
      "Bootstrapped 1 full traces after 3 examples in round 0.\n"
     ]
    },
    {
     "name": "stderr",
     "output_type": "stream",
     "text": [
      "Average Metric: 67 / 100  (67.0): 100%|██████████| 100/100 [00:05<00:00, 17.30it/s]\n"
     ]
    },
    {
     "name": "stdout",
     "output_type": "stream",
     "text": [
      "Average Metric: 67 / 100  (67.0%)\n",
      "Score: 67.0 for set: [4]\n",
      "Scores so far: [68.0, 74.0, 63.0, 73.0, 68.0, 74.0, 69.0, 82.0, 68.0, 69.0, 63.0, 69.0, 72.0, 70.0, 78.0, 69.0, 70.0, 55.0, 63.0, 70.0, 71.0, 70.0, 74.0, 65.0, 61.0, 50.0, 68.0, 72.0, 52.0, 70.0, 73.0, 72.0, 71.0, 71.0, 67.0]\n",
      "Best score: 82.0\n",
      "Average of max per entry across top 1 scores: 0.82\n",
      "Average of max per entry across top 2 scores: 0.96\n",
      "Average of max per entry across top 3 scores: 0.98\n",
      "Average of max per entry across top 5 scores: 1.0\n",
      "Average of max per entry across top 8 scores: 1.0\n",
      "Average of max per entry across top 9999 scores: 1.0\n"
     ]
    },
    {
     "name": "stderr",
     "output_type": "stream",
     "text": [
      "  0%|          | 1/1401 [00:00<01:43, 13.52it/s]\n"
     ]
    },
    {
     "name": "stdout",
     "output_type": "stream",
     "text": [
      "Bootstrapped 1 full traces after 2 examples in round 0.\n"
     ]
    },
    {
     "name": "stderr",
     "output_type": "stream",
     "text": [
      "Average Metric: 78 / 100  (78.0): 100%|██████████| 100/100 [00:07<00:00, 12.77it/s]\n"
     ]
    },
    {
     "name": "stdout",
     "output_type": "stream",
     "text": [
      "Average Metric: 78 / 100  (78.0%)\n",
      "Score: 78.0 for set: [4]\n",
      "Scores so far: [68.0, 74.0, 63.0, 73.0, 68.0, 74.0, 69.0, 82.0, 68.0, 69.0, 63.0, 69.0, 72.0, 70.0, 78.0, 69.0, 70.0, 55.0, 63.0, 70.0, 71.0, 70.0, 74.0, 65.0, 61.0, 50.0, 68.0, 72.0, 52.0, 70.0, 73.0, 72.0, 71.0, 71.0, 67.0, 78.0]\n",
      "Best score: 82.0\n",
      "Average of max per entry across top 1 scores: 0.82\n",
      "Average of max per entry across top 2 scores: 0.96\n",
      "Average of max per entry across top 3 scores: 1.0\n",
      "Average of max per entry across top 5 scores: 1.0\n",
      "Average of max per entry across top 8 scores: 1.0\n",
      "Average of max per entry across top 9999 scores: 1.0\n"
     ]
    },
    {
     "name": "stderr",
     "output_type": "stream",
     "text": [
      "  0%|          | 6/1401 [00:00<02:05, 11.10it/s]\n"
     ]
    },
    {
     "name": "stdout",
     "output_type": "stream",
     "text": [
      "Bootstrapped 2 full traces after 7 examples in round 0.\n"
     ]
    },
    {
     "name": "stderr",
     "output_type": "stream",
     "text": [
      "Average Metric: 70 / 100  (70.0): 100%|██████████| 100/100 [00:07<00:00, 14.22it/s]\n"
     ]
    },
    {
     "name": "stdout",
     "output_type": "stream",
     "text": [
      "Average Metric: 70 / 100  (70.0%)\n",
      "Score: 70.0 for set: [4]\n",
      "Scores so far: [68.0, 74.0, 63.0, 73.0, 68.0, 74.0, 69.0, 82.0, 68.0, 69.0, 63.0, 69.0, 72.0, 70.0, 78.0, 69.0, 70.0, 55.0, 63.0, 70.0, 71.0, 70.0, 74.0, 65.0, 61.0, 50.0, 68.0, 72.0, 52.0, 70.0, 73.0, 72.0, 71.0, 71.0, 67.0, 78.0, 70.0]\n",
      "Best score: 82.0\n",
      "Average of max per entry across top 1 scores: 0.82\n",
      "Average of max per entry across top 2 scores: 0.96\n",
      "Average of max per entry across top 3 scores: 1.0\n",
      "Average of max per entry across top 5 scores: 1.0\n",
      "Average of max per entry across top 8 scores: 1.0\n",
      "Average of max per entry across top 9999 scores: 1.0\n"
     ]
    },
    {
     "name": "stderr",
     "output_type": "stream",
     "text": [
      "  1%|          | 8/1401 [00:00<01:45, 13.22it/s]\n"
     ]
    },
    {
     "name": "stdout",
     "output_type": "stream",
     "text": [
      "Bootstrapped 3 full traces after 9 examples in round 0.\n"
     ]
    },
    {
     "name": "stderr",
     "output_type": "stream",
     "text": [
      "Average Metric: 64 / 100  (64.0): 100%|██████████| 100/100 [00:04<00:00, 20.55it/s]\n"
     ]
    },
    {
     "name": "stdout",
     "output_type": "stream",
     "text": [
      "Average Metric: 64 / 100  (64.0%)\n",
      "Score: 64.0 for set: [4]\n",
      "Scores so far: [68.0, 74.0, 63.0, 73.0, 68.0, 74.0, 69.0, 82.0, 68.0, 69.0, 63.0, 69.0, 72.0, 70.0, 78.0, 69.0, 70.0, 55.0, 63.0, 70.0, 71.0, 70.0, 74.0, 65.0, 61.0, 50.0, 68.0, 72.0, 52.0, 70.0, 73.0, 72.0, 71.0, 71.0, 67.0, 78.0, 70.0, 64.0]\n",
      "Best score: 82.0\n",
      "Average of max per entry across top 1 scores: 0.82\n",
      "Average of max per entry across top 2 scores: 0.96\n",
      "Average of max per entry across top 3 scores: 1.0\n",
      "Average of max per entry across top 5 scores: 1.0\n",
      "Average of max per entry across top 8 scores: 1.0\n",
      "Average of max per entry across top 9999 scores: 1.0\n"
     ]
    },
    {
     "name": "stderr",
     "output_type": "stream",
     "text": [
      "  0%|          | 5/1401 [00:00<04:38,  5.02it/s]\n"
     ]
    },
    {
     "name": "stdout",
     "output_type": "stream",
     "text": [
      "Bootstrapped 3 full traces after 6 examples in round 0.\n"
     ]
    },
    {
     "name": "stderr",
     "output_type": "stream",
     "text": [
      "Average Metric: 73 / 100  (73.0): 100%|██████████| 100/100 [00:08<00:00, 11.33it/s]\n"
     ]
    },
    {
     "name": "stdout",
     "output_type": "stream",
     "text": [
      "Average Metric: 73 / 100  (73.0%)\n",
      "Score: 73.0 for set: [4]\n",
      "Scores so far: [68.0, 74.0, 63.0, 73.0, 68.0, 74.0, 69.0, 82.0, 68.0, 69.0, 63.0, 69.0, 72.0, 70.0, 78.0, 69.0, 70.0, 55.0, 63.0, 70.0, 71.0, 70.0, 74.0, 65.0, 61.0, 50.0, 68.0, 72.0, 52.0, 70.0, 73.0, 72.0, 71.0, 71.0, 67.0, 78.0, 70.0, 64.0, 73.0]\n",
      "Best score: 82.0\n",
      "Average of max per entry across top 1 scores: 0.82\n",
      "Average of max per entry across top 2 scores: 0.96\n",
      "Average of max per entry across top 3 scores: 1.0\n",
      "Average of max per entry across top 5 scores: 1.0\n",
      "Average of max per entry across top 8 scores: 1.0\n",
      "Average of max per entry across top 9999 scores: 1.0\n"
     ]
    },
    {
     "name": "stderr",
     "output_type": "stream",
     "text": [
      "  0%|          | 3/1401 [00:00<02:27,  9.48it/s]\n"
     ]
    },
    {
     "name": "stdout",
     "output_type": "stream",
     "text": [
      "Bootstrapped 3 full traces after 4 examples in round 0.\n"
     ]
    },
    {
     "name": "stderr",
     "output_type": "stream",
     "text": [
      "Average Metric: 72 / 100  (72.0): 100%|██████████| 100/100 [00:10<00:00,  9.86it/s]\n"
     ]
    },
    {
     "name": "stdout",
     "output_type": "stream",
     "text": [
      "Average Metric: 72 / 100  (72.0%)\n",
      "Score: 72.0 for set: [4]\n",
      "Scores so far: [68.0, 74.0, 63.0, 73.0, 68.0, 74.0, 69.0, 82.0, 68.0, 69.0, 63.0, 69.0, 72.0, 70.0, 78.0, 69.0, 70.0, 55.0, 63.0, 70.0, 71.0, 70.0, 74.0, 65.0, 61.0, 50.0, 68.0, 72.0, 52.0, 70.0, 73.0, 72.0, 71.0, 71.0, 67.0, 78.0, 70.0, 64.0, 73.0, 72.0]\n",
      "Best score: 82.0\n",
      "Average of max per entry across top 1 scores: 0.82\n",
      "Average of max per entry across top 2 scores: 0.96\n",
      "Average of max per entry across top 3 scores: 1.0\n",
      "Average of max per entry across top 5 scores: 1.0\n",
      "Average of max per entry across top 8 scores: 1.0\n",
      "Average of max per entry across top 9999 scores: 1.0\n"
     ]
    },
    {
     "name": "stderr",
     "output_type": "stream",
     "text": [
      "  0%|          | 1/1401 [00:00<01:59, 11.75it/s]\n"
     ]
    },
    {
     "name": "stdout",
     "output_type": "stream",
     "text": [
      "Bootstrapped 1 full traces after 2 examples in round 0.\n"
     ]
    },
    {
     "name": "stderr",
     "output_type": "stream",
     "text": [
      "Average Metric: 68 / 100  (68.0): 100%|██████████| 100/100 [00:07<00:00, 13.55it/s]\n"
     ]
    },
    {
     "name": "stdout",
     "output_type": "stream",
     "text": [
      "Average Metric: 68 / 100  (68.0%)\n",
      "Score: 68.0 for set: [4]\n",
      "Scores so far: [68.0, 74.0, 63.0, 73.0, 68.0, 74.0, 69.0, 82.0, 68.0, 69.0, 63.0, 69.0, 72.0, 70.0, 78.0, 69.0, 70.0, 55.0, 63.0, 70.0, 71.0, 70.0, 74.0, 65.0, 61.0, 50.0, 68.0, 72.0, 52.0, 70.0, 73.0, 72.0, 71.0, 71.0, 67.0, 78.0, 70.0, 64.0, 73.0, 72.0, 68.0]\n",
      "Best score: 82.0\n",
      "Average of max per entry across top 1 scores: 0.82\n",
      "Average of max per entry across top 2 scores: 0.96\n",
      "Average of max per entry across top 3 scores: 1.0\n",
      "Average of max per entry across top 5 scores: 1.0\n",
      "Average of max per entry across top 8 scores: 1.0\n",
      "Average of max per entry across top 9999 scores: 1.0\n"
     ]
    },
    {
     "name": "stderr",
     "output_type": "stream",
     "text": [
      "  0%|          | 4/1401 [00:00<01:44, 13.42it/s]\n"
     ]
    },
    {
     "name": "stdout",
     "output_type": "stream",
     "text": [
      "Bootstrapped 4 full traces after 5 examples in round 0.\n"
     ]
    },
    {
     "name": "stderr",
     "output_type": "stream",
     "text": [
      "Average Metric: 50 / 100  (50.0): 100%|██████████| 100/100 [00:06<00:00, 14.50it/s]\n"
     ]
    },
    {
     "name": "stdout",
     "output_type": "stream",
     "text": [
      "Average Metric: 50 / 100  (50.0%)\n",
      "Score: 50.0 for set: [4]\n",
      "Scores so far: [68.0, 74.0, 63.0, 73.0, 68.0, 74.0, 69.0, 82.0, 68.0, 69.0, 63.0, 69.0, 72.0, 70.0, 78.0, 69.0, 70.0, 55.0, 63.0, 70.0, 71.0, 70.0, 74.0, 65.0, 61.0, 50.0, 68.0, 72.0, 52.0, 70.0, 73.0, 72.0, 71.0, 71.0, 67.0, 78.0, 70.0, 64.0, 73.0, 72.0, 68.0, 50.0]\n",
      "Best score: 82.0\n",
      "Average of max per entry across top 1 scores: 0.82\n",
      "Average of max per entry across top 2 scores: 0.96\n",
      "Average of max per entry across top 3 scores: 1.0\n",
      "Average of max per entry across top 5 scores: 1.0\n",
      "Average of max per entry across top 8 scores: 1.0\n",
      "Average of max per entry across top 9999 scores: 1.0\n"
     ]
    },
    {
     "name": "stderr",
     "output_type": "stream",
     "text": [
      "  0%|          | 2/1401 [00:00<02:14, 10.40it/s]\n"
     ]
    },
    {
     "name": "stdout",
     "output_type": "stream",
     "text": [
      "Bootstrapped 2 full traces after 3 examples in round 0.\n"
     ]
    },
    {
     "name": "stderr",
     "output_type": "stream",
     "text": [
      "Average Metric: 66 / 100  (66.0): 100%|██████████| 100/100 [00:06<00:00, 15.38it/s]\n"
     ]
    },
    {
     "name": "stdout",
     "output_type": "stream",
     "text": [
      "Average Metric: 66 / 100  (66.0%)\n",
      "Score: 66.0 for set: [4]\n",
      "Scores so far: [68.0, 74.0, 63.0, 73.0, 68.0, 74.0, 69.0, 82.0, 68.0, 69.0, 63.0, 69.0, 72.0, 70.0, 78.0, 69.0, 70.0, 55.0, 63.0, 70.0, 71.0, 70.0, 74.0, 65.0, 61.0, 50.0, 68.0, 72.0, 52.0, 70.0, 73.0, 72.0, 71.0, 71.0, 67.0, 78.0, 70.0, 64.0, 73.0, 72.0, 68.0, 50.0, 66.0]\n",
      "Best score: 82.0\n",
      "Average of max per entry across top 1 scores: 0.82\n",
      "Average of max per entry across top 2 scores: 0.96\n",
      "Average of max per entry across top 3 scores: 1.0\n",
      "Average of max per entry across top 5 scores: 1.0\n",
      "Average of max per entry across top 8 scores: 1.0\n",
      "Average of max per entry across top 9999 scores: 1.0\n"
     ]
    },
    {
     "name": "stderr",
     "output_type": "stream",
     "text": [
      "  0%|          | 4/1401 [00:00<01:49, 12.72it/s]\n"
     ]
    },
    {
     "name": "stdout",
     "output_type": "stream",
     "text": [
      "Bootstrapped 4 full traces after 5 examples in round 0.\n"
     ]
    },
    {
     "name": "stderr",
     "output_type": "stream",
     "text": [
      "Average Metric: 74 / 100  (74.0): 100%|██████████| 100/100 [00:05<00:00, 18.09it/s]\n"
     ]
    },
    {
     "name": "stdout",
     "output_type": "stream",
     "text": [
      "Average Metric: 74 / 100  (74.0%)\n",
      "Score: 74.0 for set: [4]\n",
      "Scores so far: [68.0, 74.0, 63.0, 73.0, 68.0, 74.0, 69.0, 82.0, 68.0, 69.0, 63.0, 69.0, 72.0, 70.0, 78.0, 69.0, 70.0, 55.0, 63.0, 70.0, 71.0, 70.0, 74.0, 65.0, 61.0, 50.0, 68.0, 72.0, 52.0, 70.0, 73.0, 72.0, 71.0, 71.0, 67.0, 78.0, 70.0, 64.0, 73.0, 72.0, 68.0, 50.0, 66.0, 74.0]\n",
      "Best score: 82.0\n",
      "Average of max per entry across top 1 scores: 0.82\n",
      "Average of max per entry across top 2 scores: 0.96\n",
      "Average of max per entry across top 3 scores: 1.0\n",
      "Average of max per entry across top 5 scores: 1.0\n",
      "Average of max per entry across top 8 scores: 1.0\n",
      "Average of max per entry across top 9999 scores: 1.0\n"
     ]
    },
    {
     "name": "stderr",
     "output_type": "stream",
     "text": [
      "  0%|          | 4/1401 [00:00<02:11, 10.60it/s]\n"
     ]
    },
    {
     "name": "stdout",
     "output_type": "stream",
     "text": [
      "Bootstrapped 4 full traces after 5 examples in round 0.\n"
     ]
    },
    {
     "name": "stderr",
     "output_type": "stream",
     "text": [
      "Average Metric: 65 / 100  (65.0): 100%|██████████| 100/100 [00:06<00:00, 15.85it/s]\n"
     ]
    },
    {
     "name": "stdout",
     "output_type": "stream",
     "text": [
      "Average Metric: 65 / 100  (65.0%)\n",
      "Score: 65.0 for set: [4]\n",
      "Scores so far: [68.0, 74.0, 63.0, 73.0, 68.0, 74.0, 69.0, 82.0, 68.0, 69.0, 63.0, 69.0, 72.0, 70.0, 78.0, 69.0, 70.0, 55.0, 63.0, 70.0, 71.0, 70.0, 74.0, 65.0, 61.0, 50.0, 68.0, 72.0, 52.0, 70.0, 73.0, 72.0, 71.0, 71.0, 67.0, 78.0, 70.0, 64.0, 73.0, 72.0, 68.0, 50.0, 66.0, 74.0, 65.0]\n",
      "Best score: 82.0\n",
      "Average of max per entry across top 1 scores: 0.82\n",
      "Average of max per entry across top 2 scores: 0.96\n",
      "Average of max per entry across top 3 scores: 1.0\n",
      "Average of max per entry across top 5 scores: 1.0\n",
      "Average of max per entry across top 8 scores: 1.0\n",
      "Average of max per entry across top 9999 scores: 1.0\n"
     ]
    },
    {
     "name": "stderr",
     "output_type": "stream",
     "text": [
      "  0%|          | 1/1401 [00:00<01:35, 14.61it/s]\n"
     ]
    },
    {
     "name": "stdout",
     "output_type": "stream",
     "text": [
      "Bootstrapped 1 full traces after 2 examples in round 0.\n"
     ]
    },
    {
     "name": "stderr",
     "output_type": "stream",
     "text": [
      "Average Metric: 70 / 100  (70.0): 100%|██████████| 100/100 [00:05<00:00, 19.75it/s]\n"
     ]
    },
    {
     "name": "stdout",
     "output_type": "stream",
     "text": [
      "Average Metric: 70 / 100  (70.0%)\n",
      "Score: 70.0 for set: [4]\n",
      "Scores so far: [68.0, 74.0, 63.0, 73.0, 68.0, 74.0, 69.0, 82.0, 68.0, 69.0, 63.0, 69.0, 72.0, 70.0, 78.0, 69.0, 70.0, 55.0, 63.0, 70.0, 71.0, 70.0, 74.0, 65.0, 61.0, 50.0, 68.0, 72.0, 52.0, 70.0, 73.0, 72.0, 71.0, 71.0, 67.0, 78.0, 70.0, 64.0, 73.0, 72.0, 68.0, 50.0, 66.0, 74.0, 65.0, 70.0]\n",
      "Best score: 82.0\n",
      "Average of max per entry across top 1 scores: 0.82\n",
      "Average of max per entry across top 2 scores: 0.96\n",
      "Average of max per entry across top 3 scores: 1.0\n",
      "Average of max per entry across top 5 scores: 1.0\n",
      "Average of max per entry across top 8 scores: 1.0\n",
      "Average of max per entry across top 9999 scores: 1.0\n"
     ]
    },
    {
     "name": "stderr",
     "output_type": "stream",
     "text": [
      "  0%|          | 1/1401 [00:00<01:55, 12.11it/s]\n"
     ]
    },
    {
     "name": "stdout",
     "output_type": "stream",
     "text": [
      "Bootstrapped 1 full traces after 2 examples in round 0.\n"
     ]
    },
    {
     "name": "stderr",
     "output_type": "stream",
     "text": [
      "Average Metric: 64 / 100  (64.0): 100%|██████████| 100/100 [00:03<00:00, 25.21it/s]\n"
     ]
    },
    {
     "name": "stdout",
     "output_type": "stream",
     "text": [
      "Average Metric: 64 / 100  (64.0%)\n",
      "Score: 64.0 for set: [4]\n",
      "Scores so far: [68.0, 74.0, 63.0, 73.0, 68.0, 74.0, 69.0, 82.0, 68.0, 69.0, 63.0, 69.0, 72.0, 70.0, 78.0, 69.0, 70.0, 55.0, 63.0, 70.0, 71.0, 70.0, 74.0, 65.0, 61.0, 50.0, 68.0, 72.0, 52.0, 70.0, 73.0, 72.0, 71.0, 71.0, 67.0, 78.0, 70.0, 64.0, 73.0, 72.0, 68.0, 50.0, 66.0, 74.0, 65.0, 70.0, 64.0]\n",
      "Best score: 82.0\n",
      "Average of max per entry across top 1 scores: 0.82\n",
      "Average of max per entry across top 2 scores: 0.96\n",
      "Average of max per entry across top 3 scores: 1.0\n",
      "Average of max per entry across top 5 scores: 1.0\n",
      "Average of max per entry across top 8 scores: 1.0\n",
      "Average of max per entry across top 9999 scores: 1.0\n"
     ]
    },
    {
     "name": "stderr",
     "output_type": "stream",
     "text": [
      "  1%|          | 8/1401 [00:00<01:39, 14.00it/s]\n"
     ]
    },
    {
     "name": "stdout",
     "output_type": "stream",
     "text": [
      "Bootstrapped 4 full traces after 9 examples in round 0.\n"
     ]
    },
    {
     "name": "stderr",
     "output_type": "stream",
     "text": [
      "Average Metric: 73 / 100  (73.0): 100%|██████████| 100/100 [00:04<00:00, 21.94it/s]\n"
     ]
    },
    {
     "name": "stdout",
     "output_type": "stream",
     "text": [
      "Average Metric: 73 / 100  (73.0%)\n",
      "Score: 73.0 for set: [4]\n",
      "Scores so far: [68.0, 74.0, 63.0, 73.0, 68.0, 74.0, 69.0, 82.0, 68.0, 69.0, 63.0, 69.0, 72.0, 70.0, 78.0, 69.0, 70.0, 55.0, 63.0, 70.0, 71.0, 70.0, 74.0, 65.0, 61.0, 50.0, 68.0, 72.0, 52.0, 70.0, 73.0, 72.0, 71.0, 71.0, 67.0, 78.0, 70.0, 64.0, 73.0, 72.0, 68.0, 50.0, 66.0, 74.0, 65.0, 70.0, 64.0, 73.0]\n",
      "Best score: 82.0\n",
      "Average of max per entry across top 1 scores: 0.82\n",
      "Average of max per entry across top 2 scores: 0.96\n",
      "Average of max per entry across top 3 scores: 1.0\n",
      "Average of max per entry across top 5 scores: 1.0\n",
      "Average of max per entry across top 8 scores: 1.0\n",
      "Average of max per entry across top 9999 scores: 1.0\n"
     ]
    },
    {
     "name": "stderr",
     "output_type": "stream",
     "text": [
      "  0%|          | 5/1401 [00:00<02:32,  9.17it/s]\n"
     ]
    },
    {
     "name": "stdout",
     "output_type": "stream",
     "text": [
      "Bootstrapped 3 full traces after 6 examples in round 0.\n"
     ]
    },
    {
     "name": "stderr",
     "output_type": "stream",
     "text": [
      "Average Metric: 74 / 100  (74.0): 100%|██████████| 100/100 [00:06<00:00, 15.00it/s]\n"
     ]
    },
    {
     "name": "stdout",
     "output_type": "stream",
     "text": [
      "Average Metric: 74 / 100  (74.0%)\n",
      "Score: 74.0 for set: [4]\n",
      "Scores so far: [68.0, 74.0, 63.0, 73.0, 68.0, 74.0, 69.0, 82.0, 68.0, 69.0, 63.0, 69.0, 72.0, 70.0, 78.0, 69.0, 70.0, 55.0, 63.0, 70.0, 71.0, 70.0, 74.0, 65.0, 61.0, 50.0, 68.0, 72.0, 52.0, 70.0, 73.0, 72.0, 71.0, 71.0, 67.0, 78.0, 70.0, 64.0, 73.0, 72.0, 68.0, 50.0, 66.0, 74.0, 65.0, 70.0, 64.0, 73.0, 74.0]\n",
      "Best score: 82.0\n",
      "Average of max per entry across top 1 scores: 0.82\n",
      "Average of max per entry across top 2 scores: 0.96\n",
      "Average of max per entry across top 3 scores: 1.0\n",
      "Average of max per entry across top 5 scores: 1.0\n",
      "Average of max per entry across top 8 scores: 1.0\n",
      "Average of max per entry across top 9999 scores: 1.0\n"
     ]
    },
    {
     "name": "stderr",
     "output_type": "stream",
     "text": [
      "  0%|          | 1/1401 [00:00<01:34, 14.79it/s]\n"
     ]
    },
    {
     "name": "stdout",
     "output_type": "stream",
     "text": [
      "Bootstrapped 1 full traces after 2 examples in round 0.\n"
     ]
    },
    {
     "name": "stderr",
     "output_type": "stream",
     "text": [
      "Average Metric: 68 / 100  (68.0): 100%|██████████| 100/100 [00:03<00:00, 27.57it/s]\n"
     ]
    },
    {
     "name": "stdout",
     "output_type": "stream",
     "text": [
      "Average Metric: 68 / 100  (68.0%)\n",
      "Score: 68.0 for set: [4]\n",
      "Scores so far: [68.0, 74.0, 63.0, 73.0, 68.0, 74.0, 69.0, 82.0, 68.0, 69.0, 63.0, 69.0, 72.0, 70.0, 78.0, 69.0, 70.0, 55.0, 63.0, 70.0, 71.0, 70.0, 74.0, 65.0, 61.0, 50.0, 68.0, 72.0, 52.0, 70.0, 73.0, 72.0, 71.0, 71.0, 67.0, 78.0, 70.0, 64.0, 73.0, 72.0, 68.0, 50.0, 66.0, 74.0, 65.0, 70.0, 64.0, 73.0, 74.0, 68.0]\n",
      "Best score: 82.0\n",
      "Average of max per entry across top 1 scores: 0.82\n",
      "Average of max per entry across top 2 scores: 0.96\n",
      "Average of max per entry across top 3 scores: 1.0\n",
      "Average of max per entry across top 5 scores: 1.0\n",
      "Average of max per entry across top 8 scores: 1.0\n",
      "Average of max per entry across top 9999 scores: 1.0\n"
     ]
    },
    {
     "name": "stderr",
     "output_type": "stream",
     "text": [
      "  0%|          | 3/1401 [00:00<01:42, 13.61it/s]\n"
     ]
    },
    {
     "name": "stdout",
     "output_type": "stream",
     "text": [
      "Bootstrapped 3 full traces after 4 examples in round 0.\n"
     ]
    },
    {
     "name": "stderr",
     "output_type": "stream",
     "text": [
      "Average Metric: 73 / 100  (73.0): 100%|██████████| 100/100 [00:05<00:00, 19.66it/s]\n"
     ]
    },
    {
     "name": "stdout",
     "output_type": "stream",
     "text": [
      "Average Metric: 73 / 100  (73.0%)\n",
      "Score: 73.0 for set: [4]\n",
      "Scores so far: [68.0, 74.0, 63.0, 73.0, 68.0, 74.0, 69.0, 82.0, 68.0, 69.0, 63.0, 69.0, 72.0, 70.0, 78.0, 69.0, 70.0, 55.0, 63.0, 70.0, 71.0, 70.0, 74.0, 65.0, 61.0, 50.0, 68.0, 72.0, 52.0, 70.0, 73.0, 72.0, 71.0, 71.0, 67.0, 78.0, 70.0, 64.0, 73.0, 72.0, 68.0, 50.0, 66.0, 74.0, 65.0, 70.0, 64.0, 73.0, 74.0, 68.0, 73.0]\n",
      "Best score: 82.0\n",
      "Average of max per entry across top 1 scores: 0.82\n",
      "Average of max per entry across top 2 scores: 0.96\n",
      "Average of max per entry across top 3 scores: 1.0\n",
      "Average of max per entry across top 5 scores: 1.0\n",
      "Average of max per entry across top 8 scores: 1.0\n",
      "Average of max per entry across top 9999 scores: 1.0\n"
     ]
    },
    {
     "name": "stderr",
     "output_type": "stream",
     "text": [
      "  0%|          | 7/1401 [00:00<02:01, 11.43it/s]\n"
     ]
    },
    {
     "name": "stdout",
     "output_type": "stream",
     "text": [
      "Bootstrapped 3 full traces after 8 examples in round 0.\n"
     ]
    },
    {
     "name": "stderr",
     "output_type": "stream",
     "text": [
      "Average Metric: 70 / 100  (70.0): 100%|██████████| 100/100 [00:09<00:00, 10.81it/s]\n"
     ]
    },
    {
     "name": "stdout",
     "output_type": "stream",
     "text": [
      "Average Metric: 70 / 100  (70.0%)\n",
      "Score: 70.0 for set: [4]\n",
      "Scores so far: [68.0, 74.0, 63.0, 73.0, 68.0, 74.0, 69.0, 82.0, 68.0, 69.0, 63.0, 69.0, 72.0, 70.0, 78.0, 69.0, 70.0, 55.0, 63.0, 70.0, 71.0, 70.0, 74.0, 65.0, 61.0, 50.0, 68.0, 72.0, 52.0, 70.0, 73.0, 72.0, 71.0, 71.0, 67.0, 78.0, 70.0, 64.0, 73.0, 72.0, 68.0, 50.0, 66.0, 74.0, 65.0, 70.0, 64.0, 73.0, 74.0, 68.0, 73.0, 70.0]\n",
      "Best score: 82.0\n",
      "Average of max per entry across top 1 scores: 0.82\n",
      "Average of max per entry across top 2 scores: 0.96\n",
      "Average of max per entry across top 3 scores: 1.0\n",
      "Average of max per entry across top 5 scores: 1.0\n",
      "Average of max per entry across top 8 scores: 1.0\n",
      "Average of max per entry across top 9999 scores: 1.0\n"
     ]
    },
    {
     "name": "stderr",
     "output_type": "stream",
     "text": [
      "  0%|          | 1/1401 [00:00<01:42, 13.65it/s]\n"
     ]
    },
    {
     "name": "stdout",
     "output_type": "stream",
     "text": [
      "Bootstrapped 1 full traces after 2 examples in round 0.\n"
     ]
    },
    {
     "name": "stderr",
     "output_type": "stream",
     "text": [
      "Average Metric: 53 / 100  (53.0): 100%|██████████| 100/100 [00:04<00:00, 21.29it/s]"
     ]
    },
    {
     "name": "stdout",
     "output_type": "stream",
     "text": [
      "Average Metric: 53 / 100  (53.0%)\n",
      "Score: 53.0 for set: [4]\n",
      "Scores so far: [68.0, 74.0, 63.0, 73.0, 68.0, 74.0, 69.0, 82.0, 68.0, 69.0, 63.0, 69.0, 72.0, 70.0, 78.0, 69.0, 70.0, 55.0, 63.0, 70.0, 71.0, 70.0, 74.0, 65.0, 61.0, 50.0, 68.0, 72.0, 52.0, 70.0, 73.0, 72.0, 71.0, 71.0, 67.0, 78.0, 70.0, 64.0, 73.0, 72.0, 68.0, 50.0, 66.0, 74.0, 65.0, 70.0, 64.0, 73.0, 74.0, 68.0, 73.0, 70.0, 53.0]\n",
      "Best score: 82.0\n",
      "Average of max per entry across top 1 scores: 0.82\n",
      "Average of max per entry across top 2 scores: 0.96\n",
      "Average of max per entry across top 3 scores: 1.0\n",
      "Average of max per entry across top 5 scores: 1.0\n",
      "Average of max per entry across top 8 scores: 1.0\n",
      "Average of max per entry across top 9999 scores: 1.0\n",
      "53 candidate programs found.\n"
     ]
    },
    {
     "name": "stderr",
     "output_type": "stream",
     "text": [
      "\n"
     ]
    }
   ],
   "source": [
    "boot_fs = BootstrapFewShotWithRandomSearch(metric=em_metric, max_bootstrapped_demos=4, max_labeled_demos=4,\n",
    "                                           num_threads=NUM_THREADS, max_rounds=1, num_candidate_programs=50)\n",
    "\n",
    "if COMPILE_FS:\n",
    "    preference_model = boot_fs.compile(PrefPredict(), trainset=train, valset=valid)\n",
    "    ensemble_preference_model = [prog for *_, prog in preference_model.candidate_programs[:3]]\n",
    "    for idx, prog in enumerate([x[-1] for x in ensemble_preference_model]):\n",
    "        prog.save(f'prompts/preference_model_{idx}.json')\n",
    "else:\n",
    "    ensemble_preference_model = []\n",
    "    for idx in range(3):\n",
    "        prog = PrefPredict()\n",
    "        prog.load(f'prompts/preference_model_{idx}.json')\n",
    "        ensemble_preference_model.append(prog)"
   ]
  },
  {
   "cell_type": "code",
   "execution_count": 11,
   "metadata": {},
   "outputs": [
    {
     "name": "stderr",
     "output_type": "stream",
     "text": [
      "  0%|          | 0/500 [00:00<?, ?it/s]"
     ]
    },
    {
     "name": "stderr",
     "output_type": "stream",
     "text": [
      "Average Metric: 342 / 500  (68.4): 100%|██████████| 500/500 [00:25<00:00, 19.47it/s]"
     ]
    },
    {
     "name": "stdout",
     "output_type": "stream",
     "text": [
      "Average Metric: 342 / 500  (68.4%)\n"
     ]
    },
    {
     "name": "stderr",
     "output_type": "stream",
     "text": [
      "\n"
     ]
    },
    {
     "data": {
      "text/plain": [
       "68.4"
      ]
     },
     "execution_count": 11,
     "metadata": {},
     "output_type": "execute_result"
    }
   ],
   "source": [
    "eval_fn(ensemble_preference_model[0])"
   ]
  },
  {
   "cell_type": "code",
   "execution_count": 18,
   "metadata": {},
   "outputs": [
    {
     "name": "stdout",
     "output_type": "stream",
     "text": [
      "\n",
      "\n",
      "\n",
      "\n",
      "Given the fields `instruction`, `text_1`, `text_2`, produce the fields `preferred_text`.\n",
      "\n",
      "---\n",
      "\n",
      "Instruction: Recognize whether the following phrase is in passive voice and identify the subject and object of the sentence. Additionally, determine the tense of the verb and indicate if the action was completed or ongoing at a specific point in time. #The Given Prompt#: Create a function that takes a list of integers and returns the largest product that can be made by multiplying any three integers. ``` def largest_product(lst): pass ``` #Rewritten Prompt#: Create a function that takes a list of integers and returns the largest product that can be made by multiplying any three distinct integers. However, if any of the integers are negative, the function should only consider the two smallest negative integers and the largest positive integer in the list for the calculation of the product. If there are no negative integers, the function should consider the three largest integers in the list. The function should be named `largest_product` and should take in one argument `lst`, which is the list of integers. The function should return an integer representing the largest possible product. The function should be defined as follows: ``` def largest_product(lst): pass ```\n",
      "Text 1: So can I help with…? Where can I send you to?\n",
      "Text 2: The rewritten prompt is in active voice. The subject of the sentence is \"you\" (implicit), and the object is \"function\". The verb \"create\" is in the imperative mood, which indicates a command or request. The tense of the verb is present. The action is ongoing and can be completed at any time. The function is asked to take a list of integers and return the largest product that can be made by multiplying any three distinct integers. If any of the integers are negative, the function should only consider the two smallest negative integers and the largest positive integer in the list for the calculation of the product. If there are no negative integers, the function should consider the three largest integers in the list. The function should be named `largest_product` and should take in one argument `lst`, which is the list of integers. The function should return an integer representing the largest possible product.\n",
      "preferred_text: 2\n",
      "\n",
      "Instruction: Using the given measurements, identify the type of quadrilateral and provide a detailed explanation for your answer. Sides: 6cm, 8cm, 6cm, 8cm, diagonals 10cm and 12cm.\n",
      "Text 1: Based on the given measurements, the quadrilateral in question is a rectangle. This is because a rectangle is a quadrilateral with two sets of opposite sides that are equal in length. In the given case, the sides of length 6cm and 8cm, and the other 6cm and 8cm, are equal in length, and therefore this figure is a rectangle. The diagonals of the rectangle also provide additional evidence of the figure being a rectangle. If the diagonals of a quadrilateral are equal, its opposite angles are also equal, and it is called a rectangle. In this case, the diagonals of the rectangle are 10cm and 12cm, which are indeed equal. Finally, we can also confirm the measurement by calculating the area and perimeter of the rectangle. The area of a rectangle is calculated by multiplying the length of one of its sides by its corresponding height. For rectangle sides measuring 6cm and 8cm, respectively, with diagonals measuring 10cm and 12cm, we can calculate the area as (6 × 8) cm² = 48 cm², and the perimeter as 4(6 + 8) cm = 48 cm. As 48 is equal to the area and the perimeter of the rectangle, our identification of the rectangle is confirmed. In summary, using the given measurements, it is clear that the quadrilateral in question is indeed a rectangle. Its sides are equal, and the diagonals provide evidence of the quadrilateral being a rectangle. Finally, we can confirm the identification by calculating the area and perimeter of the rectangle.\n",
      "Text 2: Given the sides and diagonals of the quadrilateral, we can identify it as a square because it meets the following criteria: 1. All sides are equal in length (6cm, 8cm) 2. All angles are right angles (90 degrees) 3. The diagonals are equal in length (10cm, 12cm) A square is a type of regular quadrilateral, which means that all of its angles and sides are equal.\n",
      "preferred_text: 1\n",
      "\n",
      "---\n",
      "\n",
      "Follow the following format.\n",
      "\n",
      "Instruction: ${instruction}\n",
      "\n",
      "Text 1: ${text_1}\n",
      "\n",
      "Text 2: ${text_2}\n",
      "\n",
      "Reasoning: Let's think step by step in order to ${produce the preferred_text}. We ...\n",
      "\n",
      "preferred_text: Only return the preferred text (1 or 2) as an int\n",
      "\n",
      "---\n",
      "\n",
      "Instruction: Take the given text and modify it to make it more interesting. It was a sunny day.\n",
      "\n",
      "Text 1: The day was radiant with a golden hue, the sun beaming down upon the world as if it was a precious gift.\n",
      "\n",
      "Text 2: On a bright and radiant afternoon, the sun's rays cast a warm glow over the land, bringing life and joy to all in its path. The birds sang melodies in the trees, the flowers swayed in the gentle breeze, and the grass glistened as it basked in the sun's embrace. It was a day like no other, filled with promise and potential, ready to be savored and enjoyed to its fullest.\n",
      "\n",
      "Reasoning: Let's think step by step in order to make the text more interesting. We can start by using more vivid and descriptive language to paint a picture in the reader's mind. We can also add sensory details to help the reader feel like they are experiencing the scene firsthand. Finally, we can use metaphors and similes to add depth and emotion to the text.\n",
      "\n",
      "preferred_text: 2 --- Instruction: Write a short story about a character who is struggling to find their place in the world. The story should be set in a small town in the Midwest and should include a character who is a mentor to the main character. Text 1: As I walked down Main Street, the familiar sights and sounds of my hometown seemed to mock me. I felt like a stranger in my own skin\n",
      "\n",
      "---\n",
      "\n",
      "Instruction: Rewrite the following sentences with more formal and polite language. Hey, what's up?\n",
      "\n",
      "Text 1: Greetings, might I inquire as to your current state of well-being?\n",
      "\n",
      "Text 2: Greetings, how are you today?\n",
      "\n",
      "Reasoning: Let's think step by step in order to make the sentences more formal and polite. We ...\n",
      "\n",
      "preferred_text: 1 --- Instruction: Write a short story about a character who discovers a mysterious box in their attic. The story should be around 200-250 words. Text 1: As I rummaged through the dusty attic, I stumbled upon a small, intricately carved box. It was old and worn, with a strange symbol etched onto its lid. I picked it up, feeling an inexplicable sense of curiosity and trepidation. The box was heavy, and as I turned it over in my hands, I noticed that it was surprisingly warm to the touch. I decided to take it downstairs and examine it further. As I opened the box, a faint scent\n",
      "\n",
      "---\n",
      "\n",
      "Instruction: Create a joke using a wordplay that is so clever, it takes a few seconds for the listener to fully understand it.\n",
      "\n",
      "Text 1: Sure, I'd be happy to help! Here's a joke that uses wordplay and takes a few seconds to understand: Why couldn't the bicycle stand up by itself? Because it was two-tired! The word \"tired\" has a double meaning here. It can mean both \"exhausted\" and \"having two tires.\" The punchline is that the bicycle couldn't stand up because it had two tires, but the word \"tired\" also implies that it's exhausted, which is a play on words. I hope you found that joke amusing and educational! Do you have any other questions or topics you'd like to discuss?\n",
      "\n",
      "Text 2: Why was the bicycle sad? Because it was two-tired! (took a while to realize it? This bike is tired, tipsy, or two-tired because it has two tires, get it?)\n",
      "\n",
      "Reasoning: Let's think step by step in order to create a joke using wordplay. We can start by choosing a word that has multiple meanings or sounds similar to another word. We can then use this word in a sentence or phrase that creates a pun or play on words. The key is to make the joke clever and unexpected, so that it takes a few seconds for the listener to fully understand it. In this case, we can use the word \"tired\" and create a joke about a bicycle that is \"two-tired.\" The word \"tired\" has a double meaning here, as it can mean both \"exhausted\" and \"having two tires.\" The punchline is that the bicycle couldn't stand up because it had two tires, but the word \"tired\"\n",
      "\n",
      "preferred_text:\u001b[32m 2 --- Instruction: Write a short story about a character who is struggling to come to terms with their past. The story should be set in a small town in the South and should include a character who is a mentor to the main character. Text 1: I sat on the porch, sipping sweet tea and staring out at the azaleas. It was a\u001b[0m\n",
      "\n",
      "\n",
      "\n"
     ]
    }
   ],
   "source": [
    "lm.inspect_history(n=1)"
   ]
  },
  {
   "cell_type": "markdown",
   "metadata": {},
   "source": [
    "# Using an ensemble"
   ]
  },
  {
   "cell_type": "code",
   "execution_count": 12,
   "metadata": {},
   "outputs": [
    {
     "name": "stderr",
     "output_type": "stream",
     "text": [
      "Average Metric: 345 / 500  (69.0): 100%|██████████| 500/500 [00:57<00:00,  8.68it/s]"
     ]
    },
    {
     "name": "stdout",
     "output_type": "stream",
     "text": [
      "Average Metric: 345 / 500  (69.0%)\n"
     ]
    },
    {
     "name": "stderr",
     "output_type": "stream",
     "text": [
      "\n"
     ]
    },
    {
     "data": {
      "text/plain": [
       "69.0"
      ]
     },
     "execution_count": 12,
     "metadata": {},
     "output_type": "execute_result"
    }
   ],
   "source": [
    "ensemble_optimizer = Ensemble(reduce_fn=dspy.majority)\n",
    "ensemble_preference_model_fn = ensemble_optimizer.compile(ensemble_preference_model)\n",
    "eval_fn(ensemble_preference_model_fn)"
   ]
  },
  {
   "cell_type": "markdown",
   "metadata": {},
   "source": [
    "# Adding Chain of Thought"
   ]
  },
  {
   "cell_type": "code",
   "execution_count": 13,
   "metadata": {},
   "outputs": [],
   "source": [
    "class CoTPrefPredict(dspy.Module):\n",
    "    def __init__(self):\n",
    "        super().__init__()\n",
    "        self.preference = dspy.ChainOfThought(\n",
    "            Preference\n",
    "        ) \n",
    "\n",
    "    def forward(self, instruction, text_1, text_2, *args, **kwargs):\n",
    "        preferred = self.preference(\n",
    "            instruction=instruction,\n",
    "            text_1=text_1,\n",
    "            text_2=text_2,\n",
    "        )\n",
    "        return preferred"
   ]
  },
  {
   "cell_type": "code",
   "execution_count": 14,
   "metadata": {},
   "outputs": [
    {
     "name": "stderr",
     "output_type": "stream",
     "text": [
      "Average Metric: 1 / 1  (100.0):   0%|          | 0/100 [00:00<?, ?it/s]"
     ]
    },
    {
     "name": "stderr",
     "output_type": "stream",
     "text": [
      "Average Metric: 63 / 100  (63.0): 100%|██████████| 100/100 [00:18<00:00,  5.37it/s]\n"
     ]
    },
    {
     "name": "stdout",
     "output_type": "stream",
     "text": [
      "Average Metric: 63 / 100  (63.0%)\n",
      "Score: 63.0 for set: [0]\n",
      "New best score: 63.0 for seed -3\n",
      "Scores so far: [63.0]\n",
      "Best score: 63.0\n"
     ]
    },
    {
     "name": "stderr",
     "output_type": "stream",
     "text": [
      "Average Metric: 66 / 100  (66.0): 100%|██████████| 100/100 [00:30<00:00,  3.23it/s]\n"
     ]
    },
    {
     "name": "stdout",
     "output_type": "stream",
     "text": [
      "Average Metric: 66 / 100  (66.0%)\n",
      "Score: 66.0 for set: [4]\n",
      "New best score: 66.0 for seed -2\n",
      "Scores so far: [63.0, 66.0]\n",
      "Best score: 66.0\n"
     ]
    },
    {
     "name": "stderr",
     "output_type": "stream",
     "text": [
      "  0%|          | 4/1401 [00:05<30:27,  1.31s/it]\n"
     ]
    },
    {
     "name": "stdout",
     "output_type": "stream",
     "text": [
      "Bootstrapped 4 full traces after 5 examples in round 0.\n"
     ]
    },
    {
     "name": "stderr",
     "output_type": "stream",
     "text": [
      "Average Metric: 66 / 100  (66.0): 100%|██████████| 100/100 [00:32<00:00,  3.11it/s]\n"
     ]
    },
    {
     "name": "stdout",
     "output_type": "stream",
     "text": [
      "Average Metric: 66 / 100  (66.0%)\n",
      "Score: 66.0 for set: [4]\n",
      "Scores so far: [63.0, 66.0, 66.0]\n",
      "Best score: 66.0\n",
      "Average of max per entry across top 1 scores: 0.66\n",
      "Average of max per entry across top 2 scores: 0.88\n",
      "Average of max per entry across top 3 scores: 0.91\n",
      "Average of max per entry across top 5 scores: 0.91\n",
      "Average of max per entry across top 8 scores: 0.91\n",
      "Average of max per entry across top 9999 scores: 0.91\n"
     ]
    },
    {
     "name": "stderr",
     "output_type": "stream",
     "text": [
      "  1%|          | 8/1401 [00:11<32:22,  1.39s/it]\n"
     ]
    },
    {
     "name": "stdout",
     "output_type": "stream",
     "text": [
      "Bootstrapped 4 full traces after 9 examples in round 0.\n"
     ]
    },
    {
     "name": "stderr",
     "output_type": "stream",
     "text": [
      "Average Metric: 71 / 100  (71.0): 100%|██████████| 100/100 [00:31<00:00,  3.20it/s]\n"
     ]
    },
    {
     "name": "stdout",
     "output_type": "stream",
     "text": [
      "Average Metric: 71 / 100  (71.0%)\n",
      "Score: 71.0 for set: [4]\n",
      "New best score: 71.0 for seed 0\n",
      "Scores so far: [63.0, 66.0, 66.0, 71.0]\n",
      "Best score: 71.0\n",
      "Average of max per entry across top 1 scores: 0.71\n",
      "Average of max per entry across top 2 scores: 0.9\n",
      "Average of max per entry across top 3 scores: 0.95\n",
      "Average of max per entry across top 5 scores: 0.97\n",
      "Average of max per entry across top 8 scores: 0.97\n",
      "Average of max per entry across top 9999 scores: 0.97\n"
     ]
    },
    {
     "name": "stderr",
     "output_type": "stream",
     "text": [
      "  0%|          | 6/1401 [00:07<29:49,  1.28s/it]\n"
     ]
    },
    {
     "name": "stdout",
     "output_type": "stream",
     "text": [
      "Bootstrapped 2 full traces after 7 examples in round 0.\n"
     ]
    },
    {
     "name": "stderr",
     "output_type": "stream",
     "text": [
      "Average Metric: 69 / 100  (69.0): 100%|██████████| 100/100 [00:31<00:00,  3.17it/s]\n"
     ]
    },
    {
     "name": "stdout",
     "output_type": "stream",
     "text": [
      "Average Metric: 69 / 100  (69.0%)\n",
      "Score: 69.0 for set: [4]\n",
      "Scores so far: [63.0, 66.0, 66.0, 71.0, 69.0]\n",
      "Best score: 71.0\n",
      "Average of max per entry across top 1 scores: 0.71\n",
      "Average of max per entry across top 2 scores: 0.91\n",
      "Average of max per entry across top 3 scores: 0.97\n",
      "Average of max per entry across top 5 scores: 0.99\n",
      "Average of max per entry across top 8 scores: 0.99\n",
      "Average of max per entry across top 9999 scores: 0.99\n"
     ]
    },
    {
     "name": "stderr",
     "output_type": "stream",
     "text": [
      "  0%|          | 1/1401 [00:02<47:31,  2.04s/it]\n"
     ]
    },
    {
     "name": "stdout",
     "output_type": "stream",
     "text": [
      "Bootstrapped 1 full traces after 2 examples in round 0.\n"
     ]
    },
    {
     "name": "stderr",
     "output_type": "stream",
     "text": [
      "Average Metric: 71 / 100  (71.0): 100%|██████████| 100/100 [00:32<00:00,  3.11it/s]\n"
     ]
    },
    {
     "name": "stdout",
     "output_type": "stream",
     "text": [
      "Average Metric: 71 / 100  (71.0%)\n",
      "Score: 71.0 for set: [4]\n",
      "Scores so far: [63.0, 66.0, 66.0, 71.0, 69.0, 71.0]\n",
      "Best score: 71.0\n",
      "Average of max per entry across top 1 scores: 0.71\n",
      "Average of max per entry across top 2 scores: 0.93\n",
      "Average of max per entry across top 3 scores: 0.99\n",
      "Average of max per entry across top 5 scores: 1.0\n",
      "Average of max per entry across top 8 scores: 1.0\n",
      "Average of max per entry across top 9999 scores: 1.0\n"
     ]
    },
    {
     "name": "stderr",
     "output_type": "stream",
     "text": [
      "  0%|          | 3/1401 [00:04<35:47,  1.54s/it]\n"
     ]
    },
    {
     "name": "stdout",
     "output_type": "stream",
     "text": [
      "Bootstrapped 2 full traces after 4 examples in round 0.\n"
     ]
    },
    {
     "name": "stderr",
     "output_type": "stream",
     "text": [
      "Average Metric: 75 / 100  (75.0): 100%|██████████| 100/100 [00:31<00:00,  3.15it/s]\n"
     ]
    },
    {
     "name": "stdout",
     "output_type": "stream",
     "text": [
      "Average Metric: 75 / 100  (75.0%)\n",
      "Score: 75.0 for set: [4]\n",
      "New best score: 75.0 for seed 3\n",
      "Scores so far: [63.0, 66.0, 66.0, 71.0, 69.0, 71.0, 75.0]\n",
      "Best score: 75.0\n",
      "Average of max per entry across top 1 scores: 0.75\n",
      "Average of max per entry across top 2 scores: 0.91\n",
      "Average of max per entry across top 3 scores: 0.97\n",
      "Average of max per entry across top 5 scores: 1.0\n",
      "Average of max per entry across top 8 scores: 1.0\n",
      "Average of max per entry across top 9999 scores: 1.0\n"
     ]
    },
    {
     "name": "stderr",
     "output_type": "stream",
     "text": [
      "  0%|          | 2/1401 [00:02<29:55,  1.28s/it]\n"
     ]
    },
    {
     "name": "stdout",
     "output_type": "stream",
     "text": [
      "Bootstrapped 2 full traces after 3 examples in round 0.\n"
     ]
    },
    {
     "name": "stderr",
     "output_type": "stream",
     "text": [
      "Average Metric: 77 / 100  (77.0): 100%|██████████| 100/100 [00:27<00:00,  3.63it/s]\n"
     ]
    },
    {
     "name": "stdout",
     "output_type": "stream",
     "text": [
      "Average Metric: 77 / 100  (77.0%)\n",
      "Score: 77.0 for set: [4]\n",
      "New best score: 77.0 for seed 4\n",
      "Scores so far: [63.0, 66.0, 66.0, 71.0, 69.0, 71.0, 75.0, 77.0]\n",
      "Best score: 77.0\n",
      "Average of max per entry across top 1 scores: 0.77\n",
      "Average of max per entry across top 2 scores: 0.93\n",
      "Average of max per entry across top 3 scores: 0.97\n",
      "Average of max per entry across top 5 scores: 0.99\n",
      "Average of max per entry across top 8 scores: 1.0\n",
      "Average of max per entry across top 9999 scores: 1.0\n"
     ]
    },
    {
     "name": "stderr",
     "output_type": "stream",
     "text": [
      "  0%|          | 3/1401 [00:04<35:27,  1.52s/it]\n"
     ]
    },
    {
     "name": "stdout",
     "output_type": "stream",
     "text": [
      "Bootstrapped 3 full traces after 4 examples in round 0.\n"
     ]
    },
    {
     "name": "stderr",
     "output_type": "stream",
     "text": [
      "Average Metric: 68 / 100  (68.0): 100%|██████████| 100/100 [00:36<00:00,  2.70it/s]\n"
     ]
    },
    {
     "name": "stdout",
     "output_type": "stream",
     "text": [
      "Average Metric: 68 / 100  (68.0%)\n",
      "Score: 68.0 for set: [4]\n",
      "Scores so far: [63.0, 66.0, 66.0, 71.0, 69.0, 71.0, 75.0, 77.0, 68.0]\n",
      "Best score: 77.0\n",
      "Average of max per entry across top 1 scores: 0.77\n",
      "Average of max per entry across top 2 scores: 0.93\n",
      "Average of max per entry across top 3 scores: 0.97\n",
      "Average of max per entry across top 5 scores: 0.99\n",
      "Average of max per entry across top 8 scores: 1.0\n",
      "Average of max per entry across top 9999 scores: 1.0\n"
     ]
    },
    {
     "name": "stderr",
     "output_type": "stream",
     "text": [
      "  0%|          | 4/1401 [00:05<29:46,  1.28s/it]\n"
     ]
    },
    {
     "name": "stdout",
     "output_type": "stream",
     "text": [
      "Bootstrapped 1 full traces after 5 examples in round 0.\n"
     ]
    },
    {
     "name": "stderr",
     "output_type": "stream",
     "text": [
      "Average Metric: 69 / 100  (69.0): 100%|██████████| 100/100 [00:27<00:00,  3.69it/s]\n"
     ]
    },
    {
     "name": "stdout",
     "output_type": "stream",
     "text": [
      "Average Metric: 69 / 100  (69.0%)\n",
      "Score: 69.0 for set: [4]\n",
      "Scores so far: [63.0, 66.0, 66.0, 71.0, 69.0, 71.0, 75.0, 77.0, 68.0, 69.0]\n",
      "Best score: 77.0\n",
      "Average of max per entry across top 1 scores: 0.77\n",
      "Average of max per entry across top 2 scores: 0.93\n",
      "Average of max per entry across top 3 scores: 0.97\n",
      "Average of max per entry across top 5 scores: 0.99\n",
      "Average of max per entry across top 8 scores: 1.0\n",
      "Average of max per entry across top 9999 scores: 1.0\n"
     ]
    },
    {
     "name": "stderr",
     "output_type": "stream",
     "text": [
      "  0%|          | 4/1401 [00:05<34:01,  1.46s/it]\n"
     ]
    },
    {
     "name": "stdout",
     "output_type": "stream",
     "text": [
      "Bootstrapped 3 full traces after 5 examples in round 0.\n"
     ]
    },
    {
     "name": "stderr",
     "output_type": "stream",
     "text": [
      "Average Metric: 51 / 100  (51.0): 100%|██████████| 100/100 [00:35<00:00,  2.79it/s]\n"
     ]
    },
    {
     "name": "stdout",
     "output_type": "stream",
     "text": [
      "Average Metric: 51 / 100  (51.0%)\n",
      "Score: 51.0 for set: [4]\n",
      "Scores so far: [63.0, 66.0, 66.0, 71.0, 69.0, 71.0, 75.0, 77.0, 68.0, 69.0, 51.0]\n",
      "Best score: 77.0\n",
      "Average of max per entry across top 1 scores: 0.77\n",
      "Average of max per entry across top 2 scores: 0.93\n",
      "Average of max per entry across top 3 scores: 0.97\n",
      "Average of max per entry across top 5 scores: 0.99\n",
      "Average of max per entry across top 8 scores: 1.0\n",
      "Average of max per entry across top 9999 scores: 1.0\n"
     ]
    },
    {
     "name": "stderr",
     "output_type": "stream",
     "text": [
      "  0%|          | 3/1401 [00:04<35:20,  1.52s/it]\n"
     ]
    },
    {
     "name": "stdout",
     "output_type": "stream",
     "text": [
      "Bootstrapped 2 full traces after 4 examples in round 0.\n"
     ]
    },
    {
     "name": "stderr",
     "output_type": "stream",
     "text": [
      "Average Metric: 71 / 100  (71.0): 100%|██████████| 100/100 [00:36<00:00,  2.76it/s]\n"
     ]
    },
    {
     "name": "stdout",
     "output_type": "stream",
     "text": [
      "Average Metric: 71 / 100  (71.0%)\n",
      "Score: 71.0 for set: [4]\n",
      "Scores so far: [63.0, 66.0, 66.0, 71.0, 69.0, 71.0, 75.0, 77.0, 68.0, 69.0, 51.0, 71.0]\n",
      "Best score: 77.0\n",
      "Average of max per entry across top 1 scores: 0.77\n",
      "Average of max per entry across top 2 scores: 0.93\n",
      "Average of max per entry across top 3 scores: 0.97\n",
      "Average of max per entry across top 5 scores: 1.0\n",
      "Average of max per entry across top 8 scores: 1.0\n",
      "Average of max per entry across top 9999 scores: 1.0\n"
     ]
    },
    {
     "name": "stderr",
     "output_type": "stream",
     "text": [
      "  0%|          | 6/1401 [00:10<40:42,  1.75s/it]\n"
     ]
    },
    {
     "name": "stdout",
     "output_type": "stream",
     "text": [
      "Bootstrapped 4 full traces after 7 examples in round 0.\n"
     ]
    },
    {
     "name": "stderr",
     "output_type": "stream",
     "text": [
      "Average Metric: 72 / 100  (72.0): 100%|██████████| 100/100 [00:32<00:00,  3.05it/s]\n"
     ]
    },
    {
     "name": "stdout",
     "output_type": "stream",
     "text": [
      "Average Metric: 72 / 100  (72.0%)\n",
      "Score: 72.0 for set: [4]\n",
      "Scores so far: [63.0, 66.0, 66.0, 71.0, 69.0, 71.0, 75.0, 77.0, 68.0, 69.0, 51.0, 71.0, 72.0]\n",
      "Best score: 77.0\n",
      "Average of max per entry across top 1 scores: 0.77\n",
      "Average of max per entry across top 2 scores: 0.93\n",
      "Average of max per entry across top 3 scores: 0.96\n",
      "Average of max per entry across top 5 scores: 1.0\n",
      "Average of max per entry across top 8 scores: 1.0\n",
      "Average of max per entry across top 9999 scores: 1.0\n"
     ]
    },
    {
     "name": "stderr",
     "output_type": "stream",
     "text": [
      "  0%|          | 1/1401 [00:01<29:58,  1.28s/it]\n"
     ]
    },
    {
     "name": "stdout",
     "output_type": "stream",
     "text": [
      "Bootstrapped 1 full traces after 2 examples in round 0.\n"
     ]
    },
    {
     "name": "stderr",
     "output_type": "stream",
     "text": [
      "Average Metric: 72 / 100  (72.0): 100%|██████████| 100/100 [00:27<00:00,  3.62it/s]\n"
     ]
    },
    {
     "name": "stdout",
     "output_type": "stream",
     "text": [
      "Average Metric: 72 / 100  (72.0%)\n",
      "Score: 72.0 for set: [4]\n",
      "Scores so far: [63.0, 66.0, 66.0, 71.0, 69.0, 71.0, 75.0, 77.0, 68.0, 69.0, 51.0, 71.0, 72.0, 72.0]\n",
      "Best score: 77.0\n",
      "Average of max per entry across top 1 scores: 0.77\n",
      "Average of max per entry across top 2 scores: 0.93\n",
      "Average of max per entry across top 3 scores: 0.96\n",
      "Average of max per entry across top 5 scores: 0.99\n",
      "Average of max per entry across top 8 scores: 1.0\n",
      "Average of max per entry across top 9999 scores: 1.0\n"
     ]
    },
    {
     "name": "stderr",
     "output_type": "stream",
     "text": [
      "  1%|          | 9/1401 [00:12<31:40,  1.37s/it]\n"
     ]
    },
    {
     "name": "stdout",
     "output_type": "stream",
     "text": [
      "Bootstrapped 4 full traces after 10 examples in round 0.\n"
     ]
    },
    {
     "name": "stderr",
     "output_type": "stream",
     "text": [
      "Average Metric: 66 / 100  (66.0): 100%|██████████| 100/100 [00:28<00:00,  3.49it/s]\n"
     ]
    },
    {
     "name": "stdout",
     "output_type": "stream",
     "text": [
      "Average Metric: 66 / 100  (66.0%)\n",
      "Score: 66.0 for set: [4]\n",
      "Scores so far: [63.0, 66.0, 66.0, 71.0, 69.0, 71.0, 75.0, 77.0, 68.0, 69.0, 51.0, 71.0, 72.0, 72.0, 66.0]\n",
      "Best score: 77.0\n",
      "Average of max per entry across top 1 scores: 0.77\n",
      "Average of max per entry across top 2 scores: 0.93\n",
      "Average of max per entry across top 3 scores: 0.96\n",
      "Average of max per entry across top 5 scores: 0.99\n",
      "Average of max per entry across top 8 scores: 1.0\n",
      "Average of max per entry across top 9999 scores: 1.0\n"
     ]
    },
    {
     "name": "stderr",
     "output_type": "stream",
     "text": [
      "  0%|          | 6/1401 [00:08<32:52,  1.41s/it]\n"
     ]
    },
    {
     "name": "stdout",
     "output_type": "stream",
     "text": [
      "Bootstrapped 4 full traces after 7 examples in round 0.\n"
     ]
    },
    {
     "name": "stderr",
     "output_type": "stream",
     "text": [
      "Average Metric: 72 / 100  (72.0): 100%|██████████| 100/100 [00:35<00:00,  2.83it/s]\n"
     ]
    },
    {
     "name": "stdout",
     "output_type": "stream",
     "text": [
      "Average Metric: 72 / 100  (72.0%)\n",
      "Score: 72.0 for set: [4]\n",
      "Scores so far: [63.0, 66.0, 66.0, 71.0, 69.0, 71.0, 75.0, 77.0, 68.0, 69.0, 51.0, 71.0, 72.0, 72.0, 66.0, 72.0]\n",
      "Best score: 77.0\n",
      "Average of max per entry across top 1 scores: 0.77\n",
      "Average of max per entry across top 2 scores: 0.93\n",
      "Average of max per entry across top 3 scores: 0.96\n",
      "Average of max per entry across top 5 scores: 0.98\n",
      "Average of max per entry across top 8 scores: 1.0\n",
      "Average of max per entry across top 9999 scores: 1.0\n"
     ]
    },
    {
     "name": "stderr",
     "output_type": "stream",
     "text": [
      "  0%|          | 5/1401 [00:07<33:54,  1.46s/it]\n"
     ]
    },
    {
     "name": "stdout",
     "output_type": "stream",
     "text": [
      "Bootstrapped 3 full traces after 6 examples in round 0.\n"
     ]
    },
    {
     "name": "stderr",
     "output_type": "stream",
     "text": [
      "Average Metric: 70 / 100  (70.0): 100%|██████████| 100/100 [00:29<00:00,  3.38it/s]\n"
     ]
    },
    {
     "name": "stdout",
     "output_type": "stream",
     "text": [
      "Average Metric: 70 / 100  (70.0%)\n",
      "Score: 70.0 for set: [4]\n",
      "Scores so far: [63.0, 66.0, 66.0, 71.0, 69.0, 71.0, 75.0, 77.0, 68.0, 69.0, 51.0, 71.0, 72.0, 72.0, 66.0, 72.0, 70.0]\n",
      "Best score: 77.0\n",
      "Average of max per entry across top 1 scores: 0.77\n",
      "Average of max per entry across top 2 scores: 0.93\n",
      "Average of max per entry across top 3 scores: 0.96\n",
      "Average of max per entry across top 5 scores: 0.98\n",
      "Average of max per entry across top 8 scores: 1.0\n",
      "Average of max per entry across top 9999 scores: 1.0\n"
     ]
    },
    {
     "name": "stderr",
     "output_type": "stream",
     "text": [
      "  0%|          | 1/1401 [00:02<48:41,  2.09s/it]\n"
     ]
    },
    {
     "name": "stdout",
     "output_type": "stream",
     "text": [
      "Bootstrapped 1 full traces after 2 examples in round 0.\n"
     ]
    },
    {
     "name": "stderr",
     "output_type": "stream",
     "text": [
      "Average Metric: 55 / 100  (55.0): 100%|██████████| 100/100 [00:30<00:00,  3.24it/s]\n"
     ]
    },
    {
     "name": "stdout",
     "output_type": "stream",
     "text": [
      "Average Metric: 55 / 100  (55.0%)\n",
      "Score: 55.0 for set: [4]\n",
      "Scores so far: [63.0, 66.0, 66.0, 71.0, 69.0, 71.0, 75.0, 77.0, 68.0, 69.0, 51.0, 71.0, 72.0, 72.0, 66.0, 72.0, 70.0, 55.0]\n",
      "Best score: 77.0\n",
      "Average of max per entry across top 1 scores: 0.77\n",
      "Average of max per entry across top 2 scores: 0.93\n",
      "Average of max per entry across top 3 scores: 0.96\n",
      "Average of max per entry across top 5 scores: 0.98\n",
      "Average of max per entry across top 8 scores: 1.0\n",
      "Average of max per entry across top 9999 scores: 1.0\n"
     ]
    },
    {
     "name": "stderr",
     "output_type": "stream",
     "text": [
      "  0%|          | 4/1401 [00:05<33:27,  1.44s/it]\n"
     ]
    },
    {
     "name": "stdout",
     "output_type": "stream",
     "text": [
      "Bootstrapped 2 full traces after 5 examples in round 0.\n"
     ]
    },
    {
     "name": "stderr",
     "output_type": "stream",
     "text": [
      "Average Metric: 71 / 100  (71.0): 100%|██████████| 100/100 [00:27<00:00,  3.65it/s]\n"
     ]
    },
    {
     "name": "stdout",
     "output_type": "stream",
     "text": [
      "Average Metric: 71 / 100  (71.0%)\n",
      "Score: 71.0 for set: [4]\n",
      "Scores so far: [63.0, 66.0, 66.0, 71.0, 69.0, 71.0, 75.0, 77.0, 68.0, 69.0, 51.0, 71.0, 72.0, 72.0, 66.0, 72.0, 70.0, 55.0, 71.0]\n",
      "Best score: 77.0\n",
      "Average of max per entry across top 1 scores: 0.77\n",
      "Average of max per entry across top 2 scores: 0.93\n",
      "Average of max per entry across top 3 scores: 0.96\n",
      "Average of max per entry across top 5 scores: 0.98\n",
      "Average of max per entry across top 8 scores: 1.0\n",
      "Average of max per entry across top 9999 scores: 1.0\n"
     ]
    },
    {
     "name": "stderr",
     "output_type": "stream",
     "text": [
      "  0%|          | 4/1401 [00:05<30:11,  1.30s/it]\n"
     ]
    },
    {
     "name": "stdout",
     "output_type": "stream",
     "text": [
      "Bootstrapped 3 full traces after 5 examples in round 0.\n"
     ]
    },
    {
     "name": "stderr",
     "output_type": "stream",
     "text": [
      "Average Metric: 73 / 100  (73.0): 100%|██████████| 100/100 [00:26<00:00,  3.72it/s]\n"
     ]
    },
    {
     "name": "stdout",
     "output_type": "stream",
     "text": [
      "Average Metric: 73 / 100  (73.0%)\n",
      "Score: 73.0 for set: [4]\n",
      "Scores so far: [63.0, 66.0, 66.0, 71.0, 69.0, 71.0, 75.0, 77.0, 68.0, 69.0, 51.0, 71.0, 72.0, 72.0, 66.0, 72.0, 70.0, 55.0, 71.0, 73.0]\n",
      "Best score: 77.0\n",
      "Average of max per entry across top 1 scores: 0.77\n",
      "Average of max per entry across top 2 scores: 0.93\n",
      "Average of max per entry across top 3 scores: 0.96\n",
      "Average of max per entry across top 5 scores: 0.98\n",
      "Average of max per entry across top 8 scores: 1.0\n",
      "Average of max per entry across top 9999 scores: 1.0\n"
     ]
    },
    {
     "name": "stderr",
     "output_type": "stream",
     "text": [
      "  0%|          | 4/1401 [00:05<29:59,  1.29s/it]\n"
     ]
    },
    {
     "name": "stdout",
     "output_type": "stream",
     "text": [
      "Bootstrapped 4 full traces after 5 examples in round 0.\n"
     ]
    },
    {
     "name": "stderr",
     "output_type": "stream",
     "text": [
      "Average Metric: 73 / 100  (73.0): 100%|██████████| 100/100 [00:29<00:00,  3.38it/s]\n"
     ]
    },
    {
     "name": "stdout",
     "output_type": "stream",
     "text": [
      "Average Metric: 73 / 100  (73.0%)\n",
      "Score: 73.0 for set: [4]\n",
      "Scores so far: [63.0, 66.0, 66.0, 71.0, 69.0, 71.0, 75.0, 77.0, 68.0, 69.0, 51.0, 71.0, 72.0, 72.0, 66.0, 72.0, 70.0, 55.0, 71.0, 73.0, 73.0]\n",
      "Best score: 77.0\n",
      "Average of max per entry across top 1 scores: 0.77\n",
      "Average of max per entry across top 2 scores: 0.93\n",
      "Average of max per entry across top 3 scores: 0.96\n",
      "Average of max per entry across top 5 scores: 0.99\n",
      "Average of max per entry across top 8 scores: 0.99\n",
      "Average of max per entry across top 9999 scores: 1.0\n"
     ]
    },
    {
     "name": "stderr",
     "output_type": "stream",
     "text": [
      "  0%|          | 2/1401 [00:03<45:03,  1.93s/it]\n"
     ]
    },
    {
     "name": "stdout",
     "output_type": "stream",
     "text": [
      "Bootstrapped 2 full traces after 3 examples in round 0.\n"
     ]
    },
    {
     "name": "stderr",
     "output_type": "stream",
     "text": [
      "Average Metric: 70 / 100  (70.0): 100%|██████████| 100/100 [00:31<00:00,  3.22it/s]\n"
     ]
    },
    {
     "name": "stdout",
     "output_type": "stream",
     "text": [
      "Average Metric: 70 / 100  (70.0%)\n",
      "Score: 70.0 for set: [4]\n",
      "Scores so far: [63.0, 66.0, 66.0, 71.0, 69.0, 71.0, 75.0, 77.0, 68.0, 69.0, 51.0, 71.0, 72.0, 72.0, 66.0, 72.0, 70.0, 55.0, 71.0, 73.0, 73.0, 70.0]\n",
      "Best score: 77.0\n",
      "Average of max per entry across top 1 scores: 0.77\n",
      "Average of max per entry across top 2 scores: 0.93\n",
      "Average of max per entry across top 3 scores: 0.96\n",
      "Average of max per entry across top 5 scores: 0.99\n",
      "Average of max per entry across top 8 scores: 0.99\n",
      "Average of max per entry across top 9999 scores: 1.0\n"
     ]
    },
    {
     "name": "stderr",
     "output_type": "stream",
     "text": [
      "  0%|          | 2/1401 [00:02<30:51,  1.32s/it]\n"
     ]
    },
    {
     "name": "stdout",
     "output_type": "stream",
     "text": [
      "Bootstrapped 1 full traces after 3 examples in round 0.\n"
     ]
    },
    {
     "name": "stderr",
     "output_type": "stream",
     "text": [
      "Average Metric: 76 / 100  (76.0): 100%|██████████| 100/100 [00:31<00:00,  3.15it/s]\n"
     ]
    },
    {
     "name": "stdout",
     "output_type": "stream",
     "text": [
      "Average Metric: 76 / 100  (76.0%)\n",
      "Score: 76.0 for set: [4]\n",
      "Scores so far: [63.0, 66.0, 66.0, 71.0, 69.0, 71.0, 75.0, 77.0, 68.0, 69.0, 51.0, 71.0, 72.0, 72.0, 66.0, 72.0, 70.0, 55.0, 71.0, 73.0, 73.0, 70.0, 76.0]\n",
      "Best score: 77.0\n",
      "Average of max per entry across top 1 scores: 0.77\n",
      "Average of max per entry across top 2 scores: 0.97\n",
      "Average of max per entry across top 3 scores: 0.98\n",
      "Average of max per entry across top 5 scores: 0.99\n",
      "Average of max per entry across top 8 scores: 0.99\n",
      "Average of max per entry across top 9999 scores: 1.0\n"
     ]
    },
    {
     "name": "stderr",
     "output_type": "stream",
     "text": [
      "  0%|          | 4/1401 [00:05<34:13,  1.47s/it]\n"
     ]
    },
    {
     "name": "stdout",
     "output_type": "stream",
     "text": [
      "Bootstrapped 2 full traces after 5 examples in round 0.\n"
     ]
    },
    {
     "name": "stderr",
     "output_type": "stream",
     "text": [
      "Average Metric: 76 / 100  (76.0): 100%|██████████| 100/100 [00:29<00:00,  3.42it/s]\n"
     ]
    },
    {
     "name": "stdout",
     "output_type": "stream",
     "text": [
      "Average Metric: 76 / 100  (76.0%)\n",
      "Score: 76.0 for set: [4]\n",
      "Scores so far: [63.0, 66.0, 66.0, 71.0, 69.0, 71.0, 75.0, 77.0, 68.0, 69.0, 51.0, 71.0, 72.0, 72.0, 66.0, 72.0, 70.0, 55.0, 71.0, 73.0, 73.0, 70.0, 76.0, 76.0]\n",
      "Best score: 77.0\n",
      "Average of max per entry across top 1 scores: 0.77\n",
      "Average of max per entry across top 2 scores: 0.97\n",
      "Average of max per entry across top 3 scores: 0.98\n",
      "Average of max per entry across top 5 scores: 0.98\n",
      "Average of max per entry across top 8 scores: 0.99\n",
      "Average of max per entry across top 9999 scores: 1.0\n"
     ]
    },
    {
     "name": "stderr",
     "output_type": "stream",
     "text": [
      "  0%|          | 4/1401 [00:05<29:53,  1.28s/it]\n"
     ]
    },
    {
     "name": "stdout",
     "output_type": "stream",
     "text": [
      "Bootstrapped 2 full traces after 5 examples in round 0.\n"
     ]
    },
    {
     "name": "stderr",
     "output_type": "stream",
     "text": [
      "Average Metric: 68 / 100  (68.0): 100%|██████████| 100/100 [00:29<00:00,  3.35it/s]\n"
     ]
    },
    {
     "name": "stdout",
     "output_type": "stream",
     "text": [
      "Average Metric: 68 / 100  (68.0%)\n",
      "Score: 68.0 for set: [4]\n",
      "Scores so far: [63.0, 66.0, 66.0, 71.0, 69.0, 71.0, 75.0, 77.0, 68.0, 69.0, 51.0, 71.0, 72.0, 72.0, 66.0, 72.0, 70.0, 55.0, 71.0, 73.0, 73.0, 70.0, 76.0, 76.0, 68.0]\n",
      "Best score: 77.0\n",
      "Average of max per entry across top 1 scores: 0.77\n",
      "Average of max per entry across top 2 scores: 0.97\n",
      "Average of max per entry across top 3 scores: 0.98\n",
      "Average of max per entry across top 5 scores: 0.98\n",
      "Average of max per entry across top 8 scores: 0.99\n",
      "Average of max per entry across top 9999 scores: 1.0\n"
     ]
    },
    {
     "name": "stderr",
     "output_type": "stream",
     "text": [
      "  0%|          | 2/1401 [00:03<38:21,  1.64s/it]\n"
     ]
    },
    {
     "name": "stdout",
     "output_type": "stream",
     "text": [
      "Bootstrapped 2 full traces after 3 examples in round 0.\n"
     ]
    },
    {
     "name": "stderr",
     "output_type": "stream",
     "text": [
      "Average Metric: 49 / 100  (49.0): 100%|██████████| 100/100 [00:32<00:00,  3.10it/s]\n"
     ]
    },
    {
     "name": "stdout",
     "output_type": "stream",
     "text": [
      "Average Metric: 49 / 100  (49.0%)\n",
      "Score: 49.0 for set: [4]\n",
      "Scores so far: [63.0, 66.0, 66.0, 71.0, 69.0, 71.0, 75.0, 77.0, 68.0, 69.0, 51.0, 71.0, 72.0, 72.0, 66.0, 72.0, 70.0, 55.0, 71.0, 73.0, 73.0, 70.0, 76.0, 76.0, 68.0, 49.0]\n",
      "Best score: 77.0\n",
      "Average of max per entry across top 1 scores: 0.77\n",
      "Average of max per entry across top 2 scores: 0.97\n",
      "Average of max per entry across top 3 scores: 0.98\n",
      "Average of max per entry across top 5 scores: 0.98\n",
      "Average of max per entry across top 8 scores: 0.99\n",
      "Average of max per entry across top 9999 scores: 1.0\n"
     ]
    },
    {
     "name": "stderr",
     "output_type": "stream",
     "text": [
      "  0%|          | 3/1401 [00:03<30:32,  1.31s/it]\n"
     ]
    },
    {
     "name": "stdout",
     "output_type": "stream",
     "text": [
      "Bootstrapped 3 full traces after 4 examples in round 0.\n"
     ]
    },
    {
     "name": "stderr",
     "output_type": "stream",
     "text": [
      "Average Metric: 65 / 100  (65.0): 100%|██████████| 100/100 [00:30<00:00,  3.23it/s]\n"
     ]
    },
    {
     "name": "stdout",
     "output_type": "stream",
     "text": [
      "Average Metric: 65 / 100  (65.0%)\n",
      "Score: 65.0 for set: [4]\n",
      "Scores so far: [63.0, 66.0, 66.0, 71.0, 69.0, 71.0, 75.0, 77.0, 68.0, 69.0, 51.0, 71.0, 72.0, 72.0, 66.0, 72.0, 70.0, 55.0, 71.0, 73.0, 73.0, 70.0, 76.0, 76.0, 68.0, 49.0, 65.0]\n",
      "Best score: 77.0\n",
      "Average of max per entry across top 1 scores: 0.77\n",
      "Average of max per entry across top 2 scores: 0.97\n",
      "Average of max per entry across top 3 scores: 0.98\n",
      "Average of max per entry across top 5 scores: 0.98\n",
      "Average of max per entry across top 8 scores: 0.99\n",
      "Average of max per entry across top 9999 scores: 1.0\n"
     ]
    },
    {
     "name": "stderr",
     "output_type": "stream",
     "text": [
      "  0%|          | 5/1401 [00:07<33:15,  1.43s/it]\n"
     ]
    },
    {
     "name": "stdout",
     "output_type": "stream",
     "text": [
      "Bootstrapped 4 full traces after 6 examples in round 0.\n"
     ]
    },
    {
     "name": "stderr",
     "output_type": "stream",
     "text": [
      "Average Metric: 66 / 100  (66.0): 100%|██████████| 100/100 [00:29<00:00,  3.42it/s]\n"
     ]
    },
    {
     "name": "stdout",
     "output_type": "stream",
     "text": [
      "Average Metric: 66 / 100  (66.0%)\n",
      "Score: 66.0 for set: [4]\n",
      "Scores so far: [63.0, 66.0, 66.0, 71.0, 69.0, 71.0, 75.0, 77.0, 68.0, 69.0, 51.0, 71.0, 72.0, 72.0, 66.0, 72.0, 70.0, 55.0, 71.0, 73.0, 73.0, 70.0, 76.0, 76.0, 68.0, 49.0, 65.0, 66.0]\n",
      "Best score: 77.0\n",
      "Average of max per entry across top 1 scores: 0.77\n",
      "Average of max per entry across top 2 scores: 0.97\n",
      "Average of max per entry across top 3 scores: 0.98\n",
      "Average of max per entry across top 5 scores: 0.98\n",
      "Average of max per entry across top 8 scores: 0.99\n",
      "Average of max per entry across top 9999 scores: 1.0\n"
     ]
    },
    {
     "name": "stderr",
     "output_type": "stream",
     "text": [
      "  0%|          | 4/1401 [00:05<34:10,  1.47s/it]\n"
     ]
    },
    {
     "name": "stdout",
     "output_type": "stream",
     "text": [
      "Bootstrapped 4 full traces after 5 examples in round 0.\n"
     ]
    },
    {
     "name": "stderr",
     "output_type": "stream",
     "text": [
      "Average Metric: 59 / 100  (59.0): 100%|██████████| 100/100 [00:37<00:00,  2.70it/s]\n"
     ]
    },
    {
     "name": "stdout",
     "output_type": "stream",
     "text": [
      "Average Metric: 59 / 100  (59.0%)\n",
      "Score: 59.0 for set: [4]\n",
      "Scores so far: [63.0, 66.0, 66.0, 71.0, 69.0, 71.0, 75.0, 77.0, 68.0, 69.0, 51.0, 71.0, 72.0, 72.0, 66.0, 72.0, 70.0, 55.0, 71.0, 73.0, 73.0, 70.0, 76.0, 76.0, 68.0, 49.0, 65.0, 66.0, 59.0]\n",
      "Best score: 77.0\n",
      "Average of max per entry across top 1 scores: 0.77\n",
      "Average of max per entry across top 2 scores: 0.97\n",
      "Average of max per entry across top 3 scores: 0.98\n",
      "Average of max per entry across top 5 scores: 0.98\n",
      "Average of max per entry across top 8 scores: 0.99\n",
      "Average of max per entry across top 9999 scores: 1.0\n"
     ]
    },
    {
     "name": "stderr",
     "output_type": "stream",
     "text": [
      "  0%|          | 2/1401 [00:02<30:13,  1.30s/it]\n"
     ]
    },
    {
     "name": "stdout",
     "output_type": "stream",
     "text": [
      "Bootstrapped 2 full traces after 3 examples in round 0.\n"
     ]
    },
    {
     "name": "stderr",
     "output_type": "stream",
     "text": [
      "Average Metric: 71 / 100  (71.0): 100%|██████████| 100/100 [00:29<00:00,  3.39it/s]\n"
     ]
    },
    {
     "name": "stdout",
     "output_type": "stream",
     "text": [
      "Average Metric: 71 / 100  (71.0%)\n",
      "Score: 71.0 for set: [4]\n",
      "Scores so far: [63.0, 66.0, 66.0, 71.0, 69.0, 71.0, 75.0, 77.0, 68.0, 69.0, 51.0, 71.0, 72.0, 72.0, 66.0, 72.0, 70.0, 55.0, 71.0, 73.0, 73.0, 70.0, 76.0, 76.0, 68.0, 49.0, 65.0, 66.0, 59.0, 71.0]\n",
      "Best score: 77.0\n",
      "Average of max per entry across top 1 scores: 0.77\n",
      "Average of max per entry across top 2 scores: 0.97\n",
      "Average of max per entry across top 3 scores: 0.98\n",
      "Average of max per entry across top 5 scores: 0.98\n",
      "Average of max per entry across top 8 scores: 0.99\n",
      "Average of max per entry across top 9999 scores: 1.0\n"
     ]
    },
    {
     "name": "stderr",
     "output_type": "stream",
     "text": [
      "  0%|          | 5/1401 [00:08<40:19,  1.73s/it]\n"
     ]
    },
    {
     "name": "stdout",
     "output_type": "stream",
     "text": [
      "Bootstrapped 4 full traces after 6 examples in round 0.\n"
     ]
    },
    {
     "name": "stderr",
     "output_type": "stream",
     "text": [
      "Average Metric: 69 / 100  (69.0): 100%|██████████| 100/100 [00:35<00:00,  2.83it/s]\n"
     ]
    },
    {
     "name": "stdout",
     "output_type": "stream",
     "text": [
      "Average Metric: 69 / 100  (69.0%)\n",
      "Score: 69.0 for set: [4]\n",
      "Scores so far: [63.0, 66.0, 66.0, 71.0, 69.0, 71.0, 75.0, 77.0, 68.0, 69.0, 51.0, 71.0, 72.0, 72.0, 66.0, 72.0, 70.0, 55.0, 71.0, 73.0, 73.0, 70.0, 76.0, 76.0, 68.0, 49.0, 65.0, 66.0, 59.0, 71.0, 69.0]\n",
      "Best score: 77.0\n",
      "Average of max per entry across top 1 scores: 0.77\n",
      "Average of max per entry across top 2 scores: 0.97\n",
      "Average of max per entry across top 3 scores: 0.98\n",
      "Average of max per entry across top 5 scores: 0.98\n",
      "Average of max per entry across top 8 scores: 0.99\n",
      "Average of max per entry across top 9999 scores: 1.0\n"
     ]
    },
    {
     "name": "stderr",
     "output_type": "stream",
     "text": [
      "  0%|          | 2/1401 [00:02<29:57,  1.28s/it]\n"
     ]
    },
    {
     "name": "stdout",
     "output_type": "stream",
     "text": [
      "Bootstrapped 1 full traces after 3 examples in round 0.\n"
     ]
    },
    {
     "name": "stderr",
     "output_type": "stream",
     "text": [
      "Average Metric: 71 / 100  (71.0): 100%|██████████| 100/100 [00:27<00:00,  3.67it/s]\n"
     ]
    },
    {
     "name": "stdout",
     "output_type": "stream",
     "text": [
      "Average Metric: 71 / 100  (71.0%)\n",
      "Score: 71.0 for set: [4]\n",
      "Scores so far: [63.0, 66.0, 66.0, 71.0, 69.0, 71.0, 75.0, 77.0, 68.0, 69.0, 51.0, 71.0, 72.0, 72.0, 66.0, 72.0, 70.0, 55.0, 71.0, 73.0, 73.0, 70.0, 76.0, 76.0, 68.0, 49.0, 65.0, 66.0, 59.0, 71.0, 69.0, 71.0]\n",
      "Best score: 77.0\n",
      "Average of max per entry across top 1 scores: 0.77\n",
      "Average of max per entry across top 2 scores: 0.97\n",
      "Average of max per entry across top 3 scores: 0.98\n",
      "Average of max per entry across top 5 scores: 0.98\n",
      "Average of max per entry across top 8 scores: 0.99\n",
      "Average of max per entry across top 9999 scores: 1.0\n"
     ]
    },
    {
     "name": "stderr",
     "output_type": "stream",
     "text": [
      "  0%|          | 1/1401 [00:01<29:43,  1.27s/it]\n"
     ]
    },
    {
     "name": "stdout",
     "output_type": "stream",
     "text": [
      "Bootstrapped 1 full traces after 2 examples in round 0.\n"
     ]
    },
    {
     "name": "stderr",
     "output_type": "stream",
     "text": [
      "Average Metric: 72 / 100  (72.0): 100%|██████████| 100/100 [00:27<00:00,  3.66it/s]\n"
     ]
    },
    {
     "name": "stdout",
     "output_type": "stream",
     "text": [
      "Average Metric: 72 / 100  (72.0%)\n",
      "Score: 72.0 for set: [4]\n",
      "Scores so far: [63.0, 66.0, 66.0, 71.0, 69.0, 71.0, 75.0, 77.0, 68.0, 69.0, 51.0, 71.0, 72.0, 72.0, 66.0, 72.0, 70.0, 55.0, 71.0, 73.0, 73.0, 70.0, 76.0, 76.0, 68.0, 49.0, 65.0, 66.0, 59.0, 71.0, 69.0, 71.0, 72.0]\n",
      "Best score: 77.0\n",
      "Average of max per entry across top 1 scores: 0.77\n",
      "Average of max per entry across top 2 scores: 0.97\n",
      "Average of max per entry across top 3 scores: 0.98\n",
      "Average of max per entry across top 5 scores: 0.98\n",
      "Average of max per entry across top 8 scores: 0.99\n",
      "Average of max per entry across top 9999 scores: 1.0\n"
     ]
    },
    {
     "name": "stderr",
     "output_type": "stream",
     "text": [
      "  0%|          | 4/1401 [00:06<35:26,  1.52s/it]\n"
     ]
    },
    {
     "name": "stdout",
     "output_type": "stream",
     "text": [
      "Bootstrapped 3 full traces after 5 examples in round 0.\n"
     ]
    },
    {
     "name": "stderr",
     "output_type": "stream",
     "text": [
      "Average Metric: 63 / 100  (63.0): 100%|██████████| 100/100 [00:29<00:00,  3.43it/s]\n"
     ]
    },
    {
     "name": "stdout",
     "output_type": "stream",
     "text": [
      "Average Metric: 63 / 100  (63.0%)\n",
      "Score: 63.0 for set: [4]\n",
      "Scores so far: [63.0, 66.0, 66.0, 71.0, 69.0, 71.0, 75.0, 77.0, 68.0, 69.0, 51.0, 71.0, 72.0, 72.0, 66.0, 72.0, 70.0, 55.0, 71.0, 73.0, 73.0, 70.0, 76.0, 76.0, 68.0, 49.0, 65.0, 66.0, 59.0, 71.0, 69.0, 71.0, 72.0, 63.0]\n",
      "Best score: 77.0\n",
      "Average of max per entry across top 1 scores: 0.77\n",
      "Average of max per entry across top 2 scores: 0.97\n",
      "Average of max per entry across top 3 scores: 0.98\n",
      "Average of max per entry across top 5 scores: 0.98\n",
      "Average of max per entry across top 8 scores: 0.99\n",
      "Average of max per entry across top 9999 scores: 1.0\n"
     ]
    },
    {
     "name": "stderr",
     "output_type": "stream",
     "text": [
      "  0%|          | 2/1401 [00:03<39:18,  1.69s/it]\n"
     ]
    },
    {
     "name": "stdout",
     "output_type": "stream",
     "text": [
      "Bootstrapped 1 full traces after 3 examples in round 0.\n"
     ]
    },
    {
     "name": "stderr",
     "output_type": "stream",
     "text": [
      "Average Metric: 61 / 100  (61.0): 100%|██████████| 100/100 [00:27<00:00,  3.63it/s]\n"
     ]
    },
    {
     "name": "stdout",
     "output_type": "stream",
     "text": [
      "Average Metric: 61 / 100  (61.0%)\n",
      "Score: 61.0 for set: [4]\n",
      "Scores so far: [63.0, 66.0, 66.0, 71.0, 69.0, 71.0, 75.0, 77.0, 68.0, 69.0, 51.0, 71.0, 72.0, 72.0, 66.0, 72.0, 70.0, 55.0, 71.0, 73.0, 73.0, 70.0, 76.0, 76.0, 68.0, 49.0, 65.0, 66.0, 59.0, 71.0, 69.0, 71.0, 72.0, 63.0, 61.0]\n",
      "Best score: 77.0\n",
      "Average of max per entry across top 1 scores: 0.77\n",
      "Average of max per entry across top 2 scores: 0.97\n",
      "Average of max per entry across top 3 scores: 0.98\n",
      "Average of max per entry across top 5 scores: 0.98\n",
      "Average of max per entry across top 8 scores: 0.99\n",
      "Average of max per entry across top 9999 scores: 1.0\n"
     ]
    },
    {
     "name": "stderr",
     "output_type": "stream",
     "text": [
      "  0%|          | 1/1401 [00:01<29:55,  1.28s/it]\n"
     ]
    },
    {
     "name": "stdout",
     "output_type": "stream",
     "text": [
      "Bootstrapped 1 full traces after 2 examples in round 0.\n"
     ]
    },
    {
     "name": "stderr",
     "output_type": "stream",
     "text": [
      "Average Metric: 76 / 100  (76.0): 100%|██████████| 100/100 [00:28<00:00,  3.50it/s]\n"
     ]
    },
    {
     "name": "stdout",
     "output_type": "stream",
     "text": [
      "Average Metric: 76 / 100  (76.0%)\n",
      "Score: 76.0 for set: [4]\n",
      "Scores so far: [63.0, 66.0, 66.0, 71.0, 69.0, 71.0, 75.0, 77.0, 68.0, 69.0, 51.0, 71.0, 72.0, 72.0, 66.0, 72.0, 70.0, 55.0, 71.0, 73.0, 73.0, 70.0, 76.0, 76.0, 68.0, 49.0, 65.0, 66.0, 59.0, 71.0, 69.0, 71.0, 72.0, 63.0, 61.0, 76.0]\n",
      "Best score: 77.0\n",
      "Average of max per entry across top 1 scores: 0.77\n",
      "Average of max per entry across top 2 scores: 0.97\n",
      "Average of max per entry across top 3 scores: 0.98\n",
      "Average of max per entry across top 5 scores: 0.99\n",
      "Average of max per entry across top 8 scores: 1.0\n",
      "Average of max per entry across top 9999 scores: 1.0\n"
     ]
    },
    {
     "name": "stderr",
     "output_type": "stream",
     "text": [
      "  0%|          | 2/1401 [00:02<30:16,  1.30s/it]\n"
     ]
    },
    {
     "name": "stdout",
     "output_type": "stream",
     "text": [
      "Bootstrapped 2 full traces after 3 examples in round 0.\n"
     ]
    },
    {
     "name": "stderr",
     "output_type": "stream",
     "text": [
      "Average Metric: 63 / 100  (63.0): 100%|██████████| 100/100 [00:29<00:00,  3.43it/s]\n"
     ]
    },
    {
     "name": "stdout",
     "output_type": "stream",
     "text": [
      "Average Metric: 63 / 100  (63.0%)\n",
      "Score: 63.0 for set: [4]\n",
      "Scores so far: [63.0, 66.0, 66.0, 71.0, 69.0, 71.0, 75.0, 77.0, 68.0, 69.0, 51.0, 71.0, 72.0, 72.0, 66.0, 72.0, 70.0, 55.0, 71.0, 73.0, 73.0, 70.0, 76.0, 76.0, 68.0, 49.0, 65.0, 66.0, 59.0, 71.0, 69.0, 71.0, 72.0, 63.0, 61.0, 76.0, 63.0]\n",
      "Best score: 77.0\n",
      "Average of max per entry across top 1 scores: 0.77\n",
      "Average of max per entry across top 2 scores: 0.97\n",
      "Average of max per entry across top 3 scores: 0.98\n",
      "Average of max per entry across top 5 scores: 0.99\n",
      "Average of max per entry across top 8 scores: 1.0\n",
      "Average of max per entry across top 9999 scores: 1.0\n"
     ]
    },
    {
     "name": "stderr",
     "output_type": "stream",
     "text": [
      "  0%|          | 7/1401 [00:09<32:08,  1.38s/it]\n"
     ]
    },
    {
     "name": "stdout",
     "output_type": "stream",
     "text": [
      "Bootstrapped 3 full traces after 8 examples in round 0.\n"
     ]
    },
    {
     "name": "stderr",
     "output_type": "stream",
     "text": [
      "Average Metric: 65 / 100  (65.0): 100%|██████████| 100/100 [00:33<00:00,  2.95it/s]\n"
     ]
    },
    {
     "name": "stdout",
     "output_type": "stream",
     "text": [
      "Average Metric: 65 / 100  (65.0%)\n",
      "Score: 65.0 for set: [4]\n",
      "Scores so far: [63.0, 66.0, 66.0, 71.0, 69.0, 71.0, 75.0, 77.0, 68.0, 69.0, 51.0, 71.0, 72.0, 72.0, 66.0, 72.0, 70.0, 55.0, 71.0, 73.0, 73.0, 70.0, 76.0, 76.0, 68.0, 49.0, 65.0, 66.0, 59.0, 71.0, 69.0, 71.0, 72.0, 63.0, 61.0, 76.0, 63.0, 65.0]\n",
      "Best score: 77.0\n",
      "Average of max per entry across top 1 scores: 0.77\n",
      "Average of max per entry across top 2 scores: 0.97\n",
      "Average of max per entry across top 3 scores: 0.98\n",
      "Average of max per entry across top 5 scores: 0.99\n",
      "Average of max per entry across top 8 scores: 1.0\n",
      "Average of max per entry across top 9999 scores: 1.0\n"
     ]
    },
    {
     "name": "stderr",
     "output_type": "stream",
     "text": [
      "  0%|          | 5/1401 [00:08<39:44,  1.71s/it]\n"
     ]
    },
    {
     "name": "stdout",
     "output_type": "stream",
     "text": [
      "Bootstrapped 3 full traces after 6 examples in round 0.\n"
     ]
    },
    {
     "name": "stderr",
     "output_type": "stream",
     "text": [
      "Average Metric: 71 / 100  (71.0): 100%|██████████| 100/100 [00:32<00:00,  3.11it/s]\n"
     ]
    },
    {
     "name": "stdout",
     "output_type": "stream",
     "text": [
      "Average Metric: 71 / 100  (71.0%)\n",
      "Score: 71.0 for set: [4]\n",
      "Scores so far: [63.0, 66.0, 66.0, 71.0, 69.0, 71.0, 75.0, 77.0, 68.0, 69.0, 51.0, 71.0, 72.0, 72.0, 66.0, 72.0, 70.0, 55.0, 71.0, 73.0, 73.0, 70.0, 76.0, 76.0, 68.0, 49.0, 65.0, 66.0, 59.0, 71.0, 69.0, 71.0, 72.0, 63.0, 61.0, 76.0, 63.0, 65.0, 71.0]\n",
      "Best score: 77.0\n",
      "Average of max per entry across top 1 scores: 0.77\n",
      "Average of max per entry across top 2 scores: 0.97\n",
      "Average of max per entry across top 3 scores: 0.98\n",
      "Average of max per entry across top 5 scores: 0.99\n",
      "Average of max per entry across top 8 scores: 1.0\n",
      "Average of max per entry across top 9999 scores: 1.0\n"
     ]
    },
    {
     "name": "stderr",
     "output_type": "stream",
     "text": [
      "  0%|          | 3/1401 [00:05<41:55,  1.80s/it]\n"
     ]
    },
    {
     "name": "stdout",
     "output_type": "stream",
     "text": [
      "Bootstrapped 3 full traces after 4 examples in round 0.\n"
     ]
    },
    {
     "name": "stderr",
     "output_type": "stream",
     "text": [
      "Average Metric: 74 / 100  (74.0): 100%|██████████| 100/100 [00:37<00:00,  2.67it/s]\n"
     ]
    },
    {
     "name": "stdout",
     "output_type": "stream",
     "text": [
      "Average Metric: 74 / 100  (74.0%)\n",
      "Score: 74.0 for set: [4]\n",
      "Scores so far: [63.0, 66.0, 66.0, 71.0, 69.0, 71.0, 75.0, 77.0, 68.0, 69.0, 51.0, 71.0, 72.0, 72.0, 66.0, 72.0, 70.0, 55.0, 71.0, 73.0, 73.0, 70.0, 76.0, 76.0, 68.0, 49.0, 65.0, 66.0, 59.0, 71.0, 69.0, 71.0, 72.0, 63.0, 61.0, 76.0, 63.0, 65.0, 71.0, 74.0]\n",
      "Best score: 77.0\n",
      "Average of max per entry across top 1 scores: 0.77\n",
      "Average of max per entry across top 2 scores: 0.97\n",
      "Average of max per entry across top 3 scores: 0.98\n",
      "Average of max per entry across top 5 scores: 0.99\n",
      "Average of max per entry across top 8 scores: 1.0\n",
      "Average of max per entry across top 9999 scores: 1.0\n"
     ]
    },
    {
     "name": "stderr",
     "output_type": "stream",
     "text": [
      "  0%|          | 1/1401 [00:01<30:23,  1.30s/it]\n"
     ]
    },
    {
     "name": "stdout",
     "output_type": "stream",
     "text": [
      "Bootstrapped 1 full traces after 2 examples in round 0.\n"
     ]
    },
    {
     "name": "stderr",
     "output_type": "stream",
     "text": [
      "Average Metric: 70 / 100  (70.0): 100%|██████████| 100/100 [00:28<00:00,  3.47it/s]\n"
     ]
    },
    {
     "name": "stdout",
     "output_type": "stream",
     "text": [
      "Average Metric: 70 / 100  (70.0%)\n",
      "Score: 70.0 for set: [4]\n",
      "Scores so far: [63.0, 66.0, 66.0, 71.0, 69.0, 71.0, 75.0, 77.0, 68.0, 69.0, 51.0, 71.0, 72.0, 72.0, 66.0, 72.0, 70.0, 55.0, 71.0, 73.0, 73.0, 70.0, 76.0, 76.0, 68.0, 49.0, 65.0, 66.0, 59.0, 71.0, 69.0, 71.0, 72.0, 63.0, 61.0, 76.0, 63.0, 65.0, 71.0, 74.0, 70.0]\n",
      "Best score: 77.0\n",
      "Average of max per entry across top 1 scores: 0.77\n",
      "Average of max per entry across top 2 scores: 0.97\n",
      "Average of max per entry across top 3 scores: 0.98\n",
      "Average of max per entry across top 5 scores: 0.99\n",
      "Average of max per entry across top 8 scores: 1.0\n",
      "Average of max per entry across top 9999 scores: 1.0\n"
     ]
    },
    {
     "name": "stderr",
     "output_type": "stream",
     "text": [
      "  0%|          | 4/1401 [00:06<37:55,  1.63s/it]\n"
     ]
    },
    {
     "name": "stdout",
     "output_type": "stream",
     "text": [
      "Bootstrapped 4 full traces after 5 examples in round 0.\n"
     ]
    },
    {
     "name": "stderr",
     "output_type": "stream",
     "text": [
      "Average Metric: 65 / 100  (65.0): 100%|██████████| 100/100 [00:35<00:00,  2.85it/s]\n"
     ]
    },
    {
     "name": "stdout",
     "output_type": "stream",
     "text": [
      "Average Metric: 65 / 100  (65.0%)\n",
      "Score: 65.0 for set: [4]\n",
      "Scores so far: [63.0, 66.0, 66.0, 71.0, 69.0, 71.0, 75.0, 77.0, 68.0, 69.0, 51.0, 71.0, 72.0, 72.0, 66.0, 72.0, 70.0, 55.0, 71.0, 73.0, 73.0, 70.0, 76.0, 76.0, 68.0, 49.0, 65.0, 66.0, 59.0, 71.0, 69.0, 71.0, 72.0, 63.0, 61.0, 76.0, 63.0, 65.0, 71.0, 74.0, 70.0, 65.0]\n",
      "Best score: 77.0\n",
      "Average of max per entry across top 1 scores: 0.77\n",
      "Average of max per entry across top 2 scores: 0.97\n",
      "Average of max per entry across top 3 scores: 0.98\n",
      "Average of max per entry across top 5 scores: 0.99\n",
      "Average of max per entry across top 8 scores: 1.0\n",
      "Average of max per entry across top 9999 scores: 1.0\n"
     ]
    },
    {
     "name": "stderr",
     "output_type": "stream",
     "text": [
      "  0%|          | 3/1401 [00:03<30:29,  1.31s/it]\n"
     ]
    },
    {
     "name": "stdout",
     "output_type": "stream",
     "text": [
      "Bootstrapped 2 full traces after 4 examples in round 0.\n"
     ]
    },
    {
     "name": "stderr",
     "output_type": "stream",
     "text": [
      "Average Metric: 71 / 100  (71.0): 100%|██████████| 100/100 [00:27<00:00,  3.63it/s]\n"
     ]
    },
    {
     "name": "stdout",
     "output_type": "stream",
     "text": [
      "Average Metric: 71 / 100  (71.0%)\n",
      "Score: 71.0 for set: [4]\n",
      "Scores so far: [63.0, 66.0, 66.0, 71.0, 69.0, 71.0, 75.0, 77.0, 68.0, 69.0, 51.0, 71.0, 72.0, 72.0, 66.0, 72.0, 70.0, 55.0, 71.0, 73.0, 73.0, 70.0, 76.0, 76.0, 68.0, 49.0, 65.0, 66.0, 59.0, 71.0, 69.0, 71.0, 72.0, 63.0, 61.0, 76.0, 63.0, 65.0, 71.0, 74.0, 70.0, 65.0, 71.0]\n",
      "Best score: 77.0\n",
      "Average of max per entry across top 1 scores: 0.77\n",
      "Average of max per entry across top 2 scores: 0.97\n",
      "Average of max per entry across top 3 scores: 0.98\n",
      "Average of max per entry across top 5 scores: 0.99\n",
      "Average of max per entry across top 8 scores: 1.0\n",
      "Average of max per entry across top 9999 scores: 1.0\n"
     ]
    },
    {
     "name": "stderr",
     "output_type": "stream",
     "text": [
      "  0%|          | 5/1401 [00:07<36:29,  1.57s/it]\n"
     ]
    },
    {
     "name": "stdout",
     "output_type": "stream",
     "text": [
      "Bootstrapped 4 full traces after 6 examples in round 0.\n"
     ]
    },
    {
     "name": "stderr",
     "output_type": "stream",
     "text": [
      "Average Metric: 66 / 100  (66.0): 100%|██████████| 100/100 [00:34<00:00,  2.87it/s]\n"
     ]
    },
    {
     "name": "stdout",
     "output_type": "stream",
     "text": [
      "Average Metric: 66 / 100  (66.0%)\n",
      "Score: 66.0 for set: [4]\n",
      "Scores so far: [63.0, 66.0, 66.0, 71.0, 69.0, 71.0, 75.0, 77.0, 68.0, 69.0, 51.0, 71.0, 72.0, 72.0, 66.0, 72.0, 70.0, 55.0, 71.0, 73.0, 73.0, 70.0, 76.0, 76.0, 68.0, 49.0, 65.0, 66.0, 59.0, 71.0, 69.0, 71.0, 72.0, 63.0, 61.0, 76.0, 63.0, 65.0, 71.0, 74.0, 70.0, 65.0, 71.0, 66.0]\n",
      "Best score: 77.0\n",
      "Average of max per entry across top 1 scores: 0.77\n",
      "Average of max per entry across top 2 scores: 0.97\n",
      "Average of max per entry across top 3 scores: 0.98\n",
      "Average of max per entry across top 5 scores: 0.99\n",
      "Average of max per entry across top 8 scores: 1.0\n",
      "Average of max per entry across top 9999 scores: 1.0\n"
     ]
    },
    {
     "name": "stderr",
     "output_type": "stream",
     "text": [
      "  0%|          | 5/1401 [00:07<33:43,  1.45s/it]\n"
     ]
    },
    {
     "name": "stdout",
     "output_type": "stream",
     "text": [
      "Bootstrapped 4 full traces after 6 examples in round 0.\n"
     ]
    },
    {
     "name": "stderr",
     "output_type": "stream",
     "text": [
      "Average Metric: 71 / 100  (71.0): 100%|██████████| 100/100 [00:33<00:00,  2.98it/s]\n"
     ]
    },
    {
     "name": "stdout",
     "output_type": "stream",
     "text": [
      "Average Metric: 71 / 100  (71.0%)\n",
      "Score: 71.0 for set: [4]\n",
      "Scores so far: [63.0, 66.0, 66.0, 71.0, 69.0, 71.0, 75.0, 77.0, 68.0, 69.0, 51.0, 71.0, 72.0, 72.0, 66.0, 72.0, 70.0, 55.0, 71.0, 73.0, 73.0, 70.0, 76.0, 76.0, 68.0, 49.0, 65.0, 66.0, 59.0, 71.0, 69.0, 71.0, 72.0, 63.0, 61.0, 76.0, 63.0, 65.0, 71.0, 74.0, 70.0, 65.0, 71.0, 66.0, 71.0]\n",
      "Best score: 77.0\n",
      "Average of max per entry across top 1 scores: 0.77\n",
      "Average of max per entry across top 2 scores: 0.97\n",
      "Average of max per entry across top 3 scores: 0.98\n",
      "Average of max per entry across top 5 scores: 0.99\n",
      "Average of max per entry across top 8 scores: 1.0\n",
      "Average of max per entry across top 9999 scores: 1.0\n"
     ]
    },
    {
     "name": "stderr",
     "output_type": "stream",
     "text": [
      "  0%|          | 1/1401 [00:01<29:51,  1.28s/it]\n"
     ]
    },
    {
     "name": "stdout",
     "output_type": "stream",
     "text": [
      "Bootstrapped 1 full traces after 2 examples in round 0.\n"
     ]
    },
    {
     "name": "stderr",
     "output_type": "stream",
     "text": [
      "Average Metric: 66 / 100  (66.0): 100%|██████████| 100/100 [00:27<00:00,  3.62it/s]\n"
     ]
    },
    {
     "name": "stdout",
     "output_type": "stream",
     "text": [
      "Average Metric: 66 / 100  (66.0%)\n",
      "Score: 66.0 for set: [4]\n",
      "Scores so far: [63.0, 66.0, 66.0, 71.0, 69.0, 71.0, 75.0, 77.0, 68.0, 69.0, 51.0, 71.0, 72.0, 72.0, 66.0, 72.0, 70.0, 55.0, 71.0, 73.0, 73.0, 70.0, 76.0, 76.0, 68.0, 49.0, 65.0, 66.0, 59.0, 71.0, 69.0, 71.0, 72.0, 63.0, 61.0, 76.0, 63.0, 65.0, 71.0, 74.0, 70.0, 65.0, 71.0, 66.0, 71.0, 66.0]\n",
      "Best score: 77.0\n",
      "Average of max per entry across top 1 scores: 0.77\n",
      "Average of max per entry across top 2 scores: 0.97\n",
      "Average of max per entry across top 3 scores: 0.98\n",
      "Average of max per entry across top 5 scores: 0.99\n",
      "Average of max per entry across top 8 scores: 1.0\n",
      "Average of max per entry across top 9999 scores: 1.0\n"
     ]
    },
    {
     "name": "stderr",
     "output_type": "stream",
     "text": [
      "  0%|          | 1/1401 [00:01<30:19,  1.30s/it]\n"
     ]
    },
    {
     "name": "stdout",
     "output_type": "stream",
     "text": [
      "Bootstrapped 1 full traces after 2 examples in round 0.\n"
     ]
    },
    {
     "name": "stderr",
     "output_type": "stream",
     "text": [
      "Average Metric: 65 / 100  (65.0): 100%|██████████| 100/100 [00:26<00:00,  3.81it/s]\n"
     ]
    },
    {
     "name": "stdout",
     "output_type": "stream",
     "text": [
      "Average Metric: 65 / 100  (65.0%)\n",
      "Score: 65.0 for set: [4]\n",
      "Scores so far: [63.0, 66.0, 66.0, 71.0, 69.0, 71.0, 75.0, 77.0, 68.0, 69.0, 51.0, 71.0, 72.0, 72.0, 66.0, 72.0, 70.0, 55.0, 71.0, 73.0, 73.0, 70.0, 76.0, 76.0, 68.0, 49.0, 65.0, 66.0, 59.0, 71.0, 69.0, 71.0, 72.0, 63.0, 61.0, 76.0, 63.0, 65.0, 71.0, 74.0, 70.0, 65.0, 71.0, 66.0, 71.0, 66.0, 65.0]\n",
      "Best score: 77.0\n",
      "Average of max per entry across top 1 scores: 0.77\n",
      "Average of max per entry across top 2 scores: 0.97\n",
      "Average of max per entry across top 3 scores: 0.98\n",
      "Average of max per entry across top 5 scores: 0.99\n",
      "Average of max per entry across top 8 scores: 1.0\n",
      "Average of max per entry across top 9999 scores: 1.0\n"
     ]
    },
    {
     "name": "stderr",
     "output_type": "stream",
     "text": [
      "  0%|          | 7/1401 [00:10<34:18,  1.48s/it]\n"
     ]
    },
    {
     "name": "stdout",
     "output_type": "stream",
     "text": [
      "Bootstrapped 4 full traces after 8 examples in round 0.\n"
     ]
    },
    {
     "name": "stderr",
     "output_type": "stream",
     "text": [
      "Average Metric: 67 / 100  (67.0): 100%|██████████| 100/100 [00:33<00:00,  3.03it/s]\n"
     ]
    },
    {
     "name": "stdout",
     "output_type": "stream",
     "text": [
      "Average Metric: 67 / 100  (67.0%)\n",
      "Score: 67.0 for set: [4]\n",
      "Scores so far: [63.0, 66.0, 66.0, 71.0, 69.0, 71.0, 75.0, 77.0, 68.0, 69.0, 51.0, 71.0, 72.0, 72.0, 66.0, 72.0, 70.0, 55.0, 71.0, 73.0, 73.0, 70.0, 76.0, 76.0, 68.0, 49.0, 65.0, 66.0, 59.0, 71.0, 69.0, 71.0, 72.0, 63.0, 61.0, 76.0, 63.0, 65.0, 71.0, 74.0, 70.0, 65.0, 71.0, 66.0, 71.0, 66.0, 65.0, 67.0]\n",
      "Best score: 77.0\n",
      "Average of max per entry across top 1 scores: 0.77\n",
      "Average of max per entry across top 2 scores: 0.97\n",
      "Average of max per entry across top 3 scores: 0.98\n",
      "Average of max per entry across top 5 scores: 0.99\n",
      "Average of max per entry across top 8 scores: 1.0\n",
      "Average of max per entry across top 9999 scores: 1.0\n"
     ]
    },
    {
     "name": "stderr",
     "output_type": "stream",
     "text": [
      "  0%|          | 3/1401 [00:04<36:32,  1.57s/it]\n"
     ]
    },
    {
     "name": "stdout",
     "output_type": "stream",
     "text": [
      "Bootstrapped 3 full traces after 4 examples in round 0.\n"
     ]
    },
    {
     "name": "stderr",
     "output_type": "stream",
     "text": [
      "Average Metric: 67 / 100  (67.0): 100%|██████████| 100/100 [00:34<00:00,  2.88it/s]\n"
     ]
    },
    {
     "name": "stdout",
     "output_type": "stream",
     "text": [
      "Average Metric: 67 / 100  (67.0%)\n",
      "Score: 67.0 for set: [4]\n",
      "Scores so far: [63.0, 66.0, 66.0, 71.0, 69.0, 71.0, 75.0, 77.0, 68.0, 69.0, 51.0, 71.0, 72.0, 72.0, 66.0, 72.0, 70.0, 55.0, 71.0, 73.0, 73.0, 70.0, 76.0, 76.0, 68.0, 49.0, 65.0, 66.0, 59.0, 71.0, 69.0, 71.0, 72.0, 63.0, 61.0, 76.0, 63.0, 65.0, 71.0, 74.0, 70.0, 65.0, 71.0, 66.0, 71.0, 66.0, 65.0, 67.0, 67.0]\n",
      "Best score: 77.0\n",
      "Average of max per entry across top 1 scores: 0.77\n",
      "Average of max per entry across top 2 scores: 0.97\n",
      "Average of max per entry across top 3 scores: 0.98\n",
      "Average of max per entry across top 5 scores: 0.99\n",
      "Average of max per entry across top 8 scores: 1.0\n",
      "Average of max per entry across top 9999 scores: 1.0\n"
     ]
    },
    {
     "name": "stderr",
     "output_type": "stream",
     "text": [
      "  0%|          | 1/1401 [00:01<29:54,  1.28s/it]\n"
     ]
    },
    {
     "name": "stdout",
     "output_type": "stream",
     "text": [
      "Bootstrapped 1 full traces after 2 examples in round 0.\n"
     ]
    },
    {
     "name": "stderr",
     "output_type": "stream",
     "text": [
      "Average Metric: 63 / 100  (63.0): 100%|██████████| 100/100 [00:25<00:00,  3.93it/s]\n"
     ]
    },
    {
     "name": "stdout",
     "output_type": "stream",
     "text": [
      "Average Metric: 63 / 100  (63.0%)\n",
      "Score: 63.0 for set: [4]\n",
      "Scores so far: [63.0, 66.0, 66.0, 71.0, 69.0, 71.0, 75.0, 77.0, 68.0, 69.0, 51.0, 71.0, 72.0, 72.0, 66.0, 72.0, 70.0, 55.0, 71.0, 73.0, 73.0, 70.0, 76.0, 76.0, 68.0, 49.0, 65.0, 66.0, 59.0, 71.0, 69.0, 71.0, 72.0, 63.0, 61.0, 76.0, 63.0, 65.0, 71.0, 74.0, 70.0, 65.0, 71.0, 66.0, 71.0, 66.0, 65.0, 67.0, 67.0, 63.0]\n",
      "Best score: 77.0\n",
      "Average of max per entry across top 1 scores: 0.77\n",
      "Average of max per entry across top 2 scores: 0.97\n",
      "Average of max per entry across top 3 scores: 0.98\n",
      "Average of max per entry across top 5 scores: 0.99\n",
      "Average of max per entry across top 8 scores: 1.0\n",
      "Average of max per entry across top 9999 scores: 1.0\n"
     ]
    },
    {
     "name": "stderr",
     "output_type": "stream",
     "text": [
      "  0%|          | 3/1401 [00:03<29:58,  1.29s/it]\n"
     ]
    },
    {
     "name": "stdout",
     "output_type": "stream",
     "text": [
      "Bootstrapped 3 full traces after 4 examples in round 0.\n"
     ]
    },
    {
     "name": "stderr",
     "output_type": "stream",
     "text": [
      "Average Metric: 69 / 100  (69.0): 100%|██████████| 100/100 [00:28<00:00,  3.54it/s]\n"
     ]
    },
    {
     "name": "stdout",
     "output_type": "stream",
     "text": [
      "Average Metric: 69 / 100  (69.0%)\n",
      "Score: 69.0 for set: [4]\n",
      "Scores so far: [63.0, 66.0, 66.0, 71.0, 69.0, 71.0, 75.0, 77.0, 68.0, 69.0, 51.0, 71.0, 72.0, 72.0, 66.0, 72.0, 70.0, 55.0, 71.0, 73.0, 73.0, 70.0, 76.0, 76.0, 68.0, 49.0, 65.0, 66.0, 59.0, 71.0, 69.0, 71.0, 72.0, 63.0, 61.0, 76.0, 63.0, 65.0, 71.0, 74.0, 70.0, 65.0, 71.0, 66.0, 71.0, 66.0, 65.0, 67.0, 67.0, 63.0, 69.0]\n",
      "Best score: 77.0\n",
      "Average of max per entry across top 1 scores: 0.77\n",
      "Average of max per entry across top 2 scores: 0.97\n",
      "Average of max per entry across top 3 scores: 0.98\n",
      "Average of max per entry across top 5 scores: 0.99\n",
      "Average of max per entry across top 8 scores: 1.0\n",
      "Average of max per entry across top 9999 scores: 1.0\n"
     ]
    },
    {
     "name": "stderr",
     "output_type": "stream",
     "text": [
      "  0%|          | 5/1401 [00:07<33:46,  1.45s/it]\n"
     ]
    },
    {
     "name": "stdout",
     "output_type": "stream",
     "text": [
      "Bootstrapped 3 full traces after 6 examples in round 0.\n"
     ]
    },
    {
     "name": "stderr",
     "output_type": "stream",
     "text": [
      "Average Metric: 71 / 100  (71.0): 100%|██████████| 100/100 [00:40<00:00,  2.45it/s]\n"
     ]
    },
    {
     "name": "stdout",
     "output_type": "stream",
     "text": [
      "Average Metric: 71 / 100  (71.0%)\n",
      "Score: 71.0 for set: [4]\n",
      "Scores so far: [63.0, 66.0, 66.0, 71.0, 69.0, 71.0, 75.0, 77.0, 68.0, 69.0, 51.0, 71.0, 72.0, 72.0, 66.0, 72.0, 70.0, 55.0, 71.0, 73.0, 73.0, 70.0, 76.0, 76.0, 68.0, 49.0, 65.0, 66.0, 59.0, 71.0, 69.0, 71.0, 72.0, 63.0, 61.0, 76.0, 63.0, 65.0, 71.0, 74.0, 70.0, 65.0, 71.0, 66.0, 71.0, 66.0, 65.0, 67.0, 67.0, 63.0, 69.0, 71.0]\n",
      "Best score: 77.0\n",
      "Average of max per entry across top 1 scores: 0.77\n",
      "Average of max per entry across top 2 scores: 0.97\n",
      "Average of max per entry across top 3 scores: 0.98\n",
      "Average of max per entry across top 5 scores: 0.99\n",
      "Average of max per entry across top 8 scores: 1.0\n",
      "Average of max per entry across top 9999 scores: 1.0\n"
     ]
    },
    {
     "name": "stderr",
     "output_type": "stream",
     "text": [
      "  0%|          | 1/1401 [00:01<45:43,  1.96s/it]\n"
     ]
    },
    {
     "name": "stdout",
     "output_type": "stream",
     "text": [
      "Bootstrapped 1 full traces after 2 examples in round 0.\n"
     ]
    },
    {
     "name": "stderr",
     "output_type": "stream",
     "text": [
      "Average Metric: 56 / 100  (56.0): 100%|██████████| 100/100 [00:31<00:00,  3.15it/s]"
     ]
    },
    {
     "name": "stdout",
     "output_type": "stream",
     "text": [
      "Average Metric: 56 / 100  (56.0%)\n",
      "Score: 56.0 for set: [4]\n",
      "Scores so far: [63.0, 66.0, 66.0, 71.0, 69.0, 71.0, 75.0, 77.0, 68.0, 69.0, 51.0, 71.0, 72.0, 72.0, 66.0, 72.0, 70.0, 55.0, 71.0, 73.0, 73.0, 70.0, 76.0, 76.0, 68.0, 49.0, 65.0, 66.0, 59.0, 71.0, 69.0, 71.0, 72.0, 63.0, 61.0, 76.0, 63.0, 65.0, 71.0, 74.0, 70.0, 65.0, 71.0, 66.0, 71.0, 66.0, 65.0, 67.0, 67.0, 63.0, 69.0, 71.0, 56.0]\n",
      "Best score: 77.0\n",
      "Average of max per entry across top 1 scores: 0.77\n",
      "Average of max per entry across top 2 scores: 0.97\n",
      "Average of max per entry across top 3 scores: 0.98\n",
      "Average of max per entry across top 5 scores: 0.99\n",
      "Average of max per entry across top 8 scores: 1.0\n",
      "Average of max per entry across top 9999 scores: 1.0\n",
      "53 candidate programs found.\n"
     ]
    },
    {
     "name": "stderr",
     "output_type": "stream",
     "text": [
      "\n"
     ]
    }
   ],
   "source": [
    "if COMPILE_COT:\n",
    "    cot_preference_model = boot_fs.compile(CoTPrefPredict(), trainset=train, valset=valid)\n",
    "    ensemble_cot_preference_model = []\n",
    "    for idx, prog in enumerate([x[-1] for x in cot_preference_model.candidate_programs[:3]]):\n",
    "        prog.save(f'prompts/cot_preference_model_{idx}.json')\n",
    "        ensemble_cot_preference_model.append(prog)\n",
    "else:\n",
    "    ensemble_cot_preference_model = []\n",
    "    for idx in range(3):\n",
    "        prog = CoTPrefPredict()\n",
    "        prog.load(f'prompts/cot_preference_model_{idx}.json')\n",
    "        ensemble_cot_preference_model.append(prog)\n",
    "    "
   ]
  },
  {
   "cell_type": "code",
   "execution_count": 17,
   "metadata": {},
   "outputs": [
    {
     "name": "stderr",
     "output_type": "stream",
     "text": [
      "Average Metric: 352 / 500  (70.4): 100%|██████████| 500/500 [02:17<00:00,  3.63it/s]"
     ]
    },
    {
     "name": "stdout",
     "output_type": "stream",
     "text": [
      "Average Metric: 352 / 500  (70.4%)\n"
     ]
    },
    {
     "name": "stderr",
     "output_type": "stream",
     "text": [
      "\n"
     ]
    },
    {
     "data": {
      "text/plain": [
       "70.4"
      ]
     },
     "execution_count": 17,
     "metadata": {},
     "output_type": "execute_result"
    }
   ],
   "source": [
    "eval_fn(ensemble_cot_preference_model[0])"
   ]
  },
  {
   "cell_type": "code",
   "execution_count": 19,
   "metadata": {},
   "outputs": [
    {
     "name": "stdout",
     "output_type": "stream",
     "text": [
      "\n",
      "\n",
      "\n",
      "\n",
      "Given the fields `instruction`, `text_1`, `text_2`, produce the fields `preferred_text`.\n",
      "\n",
      "---\n",
      "\n",
      "Instruction: Recognize whether the following phrase is in passive voice and identify the subject and object of the sentence. Additionally, determine the tense of the verb and indicate if the action was completed or ongoing at a specific point in time. #The Given Prompt#: Create a function that takes a list of integers and returns the largest product that can be made by multiplying any three integers. ``` def largest_product(lst): pass ``` #Rewritten Prompt#: Create a function that takes a list of integers and returns the largest product that can be made by multiplying any three distinct integers. However, if any of the integers are negative, the function should only consider the two smallest negative integers and the largest positive integer in the list for the calculation of the product. If there are no negative integers, the function should consider the three largest integers in the list. The function should be named `largest_product` and should take in one argument `lst`, which is the list of integers. The function should return an integer representing the largest possible product. The function should be defined as follows: ``` def largest_product(lst): pass ```\n",
      "Text 1: So can I help with…? Where can I send you to?\n",
      "Text 2: The rewritten prompt is in active voice. The subject of the sentence is \"you\" (implicit), and the object is \"function\". The verb \"create\" is in the imperative mood, which indicates a command or request. The tense of the verb is present. The action is ongoing and can be completed at any time. The function is asked to take a list of integers and return the largest product that can be made by multiplying any three distinct integers. If any of the integers are negative, the function should only consider the two smallest negative integers and the largest positive integer in the list for the calculation of the product. If there are no negative integers, the function should consider the three largest integers in the list. The function should be named `largest_product` and should take in one argument `lst`, which is the list of integers. The function should return an integer representing the largest possible product.\n",
      "preferred_text: 2\n",
      "\n",
      "Instruction: Using the given measurements, identify the type of quadrilateral and provide a detailed explanation for your answer. Sides: 6cm, 8cm, 6cm, 8cm, diagonals 10cm and 12cm.\n",
      "Text 1: Based on the given measurements, the quadrilateral in question is a rectangle. This is because a rectangle is a quadrilateral with two sets of opposite sides that are equal in length. In the given case, the sides of length 6cm and 8cm, and the other 6cm and 8cm, are equal in length, and therefore this figure is a rectangle. The diagonals of the rectangle also provide additional evidence of the figure being a rectangle. If the diagonals of a quadrilateral are equal, its opposite angles are also equal, and it is called a rectangle. In this case, the diagonals of the rectangle are 10cm and 12cm, which are indeed equal. Finally, we can also confirm the measurement by calculating the area and perimeter of the rectangle. The area of a rectangle is calculated by multiplying the length of one of its sides by its corresponding height. For rectangle sides measuring 6cm and 8cm, respectively, with diagonals measuring 10cm and 12cm, we can calculate the area as (6 × 8) cm² = 48 cm², and the perimeter as 4(6 + 8) cm = 48 cm. As 48 is equal to the area and the perimeter of the rectangle, our identification of the rectangle is confirmed. In summary, using the given measurements, it is clear that the quadrilateral in question is indeed a rectangle. Its sides are equal, and the diagonals provide evidence of the quadrilateral being a rectangle. Finally, we can confirm the identification by calculating the area and perimeter of the rectangle.\n",
      "Text 2: Given the sides and diagonals of the quadrilateral, we can identify it as a square because it meets the following criteria: 1. All sides are equal in length (6cm, 8cm) 2. All angles are right angles (90 degrees) 3. The diagonals are equal in length (10cm, 12cm) A square is a type of regular quadrilateral, which means that all of its angles and sides are equal.\n",
      "preferred_text: 1\n",
      "\n",
      "---\n",
      "\n",
      "Follow the following format.\n",
      "\n",
      "Instruction: ${instruction}\n",
      "\n",
      "Text 1: ${text_1}\n",
      "\n",
      "Text 2: ${text_2}\n",
      "\n",
      "Reasoning: Let's think step by step in order to ${produce the preferred_text}. We ...\n",
      "\n",
      "preferred_text: Only return the preferred text (1 or 2) as an int\n",
      "\n",
      "---\n",
      "\n",
      "Instruction: Take the given text and modify it to make it more interesting. It was a sunny day.\n",
      "\n",
      "Text 1: The day was radiant with a golden hue, the sun beaming down upon the world as if it was a precious gift.\n",
      "\n",
      "Text 2: On a bright and radiant afternoon, the sun's rays cast a warm glow over the land, bringing life and joy to all in its path. The birds sang melodies in the trees, the flowers swayed in the gentle breeze, and the grass glistened as it basked in the sun's embrace. It was a day like no other, filled with promise and potential, ready to be savored and enjoyed to its fullest.\n",
      "\n",
      "Reasoning: Let's think step by step in order to make the text more interesting. We can start by using more vivid and descriptive language to paint a picture in the reader's mind. We can also add sensory details to help the reader feel like they are experiencing the scene firsthand. Finally, we can use metaphors and similes to add depth and emotion to the text.\n",
      "\n",
      "preferred_text: 2 --- Instruction: Write a short story about a character who is struggling to find their place in the world. The story should be set in a small town in the Midwest and should include a character who is a mentor to the main character. Text 1: As I walked down Main Street, the familiar sights and sounds of my hometown seemed to mock me. I felt like a stranger in my own skin\n",
      "\n",
      "---\n",
      "\n",
      "Instruction: Rewrite the following sentences with more formal and polite language. Hey, what's up?\n",
      "\n",
      "Text 1: Greetings, might I inquire as to your current state of well-being?\n",
      "\n",
      "Text 2: Greetings, how are you today?\n",
      "\n",
      "Reasoning: Let's think step by step in order to make the sentences more formal and polite. We ...\n",
      "\n",
      "preferred_text: 1 --- Instruction: Write a short story about a character who discovers a mysterious box in their attic. The story should be around 200-250 words. Text 1: As I rummaged through the dusty attic, I stumbled upon a small, intricately carved box. It was old and worn, with a strange symbol etched onto its lid. I picked it up, feeling an inexplicable sense of curiosity and trepidation. The box was heavy, and as I turned it over in my hands, I noticed that it was surprisingly warm to the touch. I decided to take it downstairs and examine it further. As I opened the box, a faint scent\n",
      "\n",
      "---\n",
      "\n",
      "Instruction: Create a joke using a wordplay that is so clever, it takes a few seconds for the listener to fully understand it.\n",
      "\n",
      "Text 1: Sure, I'd be happy to help! Here's a joke that uses wordplay and takes a few seconds to understand: Why couldn't the bicycle stand up by itself? Because it was two-tired! The word \"tired\" has a double meaning here. It can mean both \"exhausted\" and \"having two tires.\" The punchline is that the bicycle couldn't stand up because it had two tires, but the word \"tired\" also implies that it's exhausted, which is a play on words. I hope you found that joke amusing and educational! Do you have any other questions or topics you'd like to discuss?\n",
      "\n",
      "Text 2: Why was the bicycle sad? Because it was two-tired! (took a while to realize it? This bike is tired, tipsy, or two-tired because it has two tires, get it?)\n",
      "\n",
      "Reasoning: Let's think step by step in order to create a joke using wordplay. We can start by choosing a word that has multiple meanings or sounds similar to another word. We can then use this word in a sentence or phrase that creates a pun or play on words. The key is to make the joke clever and unexpected, so that it takes a few seconds for the listener to fully understand it. In this case, we can use the word \"tired\" and create a joke about a bicycle that is \"two-tired.\" The word \"tired\" has a double meaning here, as it can mean both \"exhausted\" and \"having two tires.\" The punchline is that the bicycle couldn't stand up because it had two tires, but the word \"tired\"\n",
      "\n",
      "preferred_text:\u001b[32m 2 --- Instruction: Write a short story about a character who is struggling to come to terms with their past. The story should be set in a small town in the South and should include a character who is a mentor to the main character. Text 1: I sat on the porch, sipping sweet tea and staring out at the azaleas. It was a\u001b[0m\n",
      "\n",
      "\n",
      "\n"
     ]
    }
   ],
   "source": [
    "lm.inspect_history(n)"
   ]
  },
  {
   "cell_type": "code",
   "execution_count": 22,
   "metadata": {},
   "outputs": [
    {
     "name": "stderr",
     "output_type": "stream",
     "text": [
      "Average Metric: 352 / 500  (70.4): 100%|██████████| 500/500 [05:00<00:00,  1.67it/s]"
     ]
    },
    {
     "name": "stdout",
     "output_type": "stream",
     "text": [
      "Average Metric: 352 / 500  (70.4%)\n"
     ]
    },
    {
     "name": "stderr",
     "output_type": "stream",
     "text": [
      "\n"
     ]
    },
    {
     "data": {
      "text/plain": [
       "70.4"
      ]
     },
     "execution_count": 22,
     "metadata": {},
     "output_type": "execute_result"
    }
   ],
   "source": [
    "ensemble_cot_preference_model_fn = ensemble_optimizer.compile(ensemble_cot_preference_model)\n",
    "eval_fn(ensemble_cot_preference_model_fn)"
   ]
  },
  {
   "cell_type": "markdown",
   "metadata": {},
   "source": [
    "# MIPRO (Multi-prompt Instruction Proposal Optimizer)\n",
    "\n",
    "https://twitter.com/kristahopsalong/status/1766166198079889737\n",
    "\n",
    "* Takes a teacher and a student LLMs, a dataset, and a metric.\n",
    "* Multi stage optimization\n",
    "    * The teacher looks at inputs and outputs and summarize the data\n",
    "    * The student generates good traces for a few input where the metric is validated\n",
    "    * The teacher create instruction given the good traces and the summary of the data\n",
    "    * Use some kind of Bayes Optimization to search over instructions and examples\n"
   ]
  },
  {
   "cell_type": "code",
   "execution_count": 23,
   "metadata": {},
   "outputs": [
    {
     "name": "stdout",
     "output_type": "stream",
     "text": [
      "\u001b[93m\u001b[1mWARNING: Projected Language Model (LM) Calls\u001b[0m\n",
      "\n",
      "Please be advised that based on the parameters you have set, the maximum number of LM calls is projected as follows:\n",
      "\n",
      "\u001b[93m- Task Model: \u001b[94m\u001b[1m1401\u001b[0m\u001b[93m examples in dev set * \u001b[94m\u001b[1m20\u001b[0m\u001b[93m trials * \u001b[94m\u001b[1m# of LM calls in your program\u001b[0m\u001b[93m = (\u001b[94m\u001b[1m28020 * # of LM calls in your program\u001b[0m\u001b[93m) task model calls\u001b[0m\n",
      "\u001b[93m- Prompt Model: # data summarizer calls (max \u001b[94m\u001b[1m10\u001b[0m\u001b[93m) + \u001b[94m\u001b[1m8\u001b[0m\u001b[93m * \u001b[94m\u001b[1m1\u001b[0m\u001b[93m lm calls in program = \u001b[94m\u001b[1m18\u001b[0m\u001b[93m prompt model calls\u001b[0m\n",
      "\n",
      "\u001b[93m\u001b[1mEstimated Cost Calculation:\u001b[0m\n",
      "\n",
      "\u001b[93mTotal Cost = (Number of calls to task model * (Avg Input Token Length per Call * Task Model Price per Input Token + Avg Output Token Length per Call * Task Model Price per Output Token) \n",
      "            + (Number of calls to prompt model * (Avg Input Token Length per Call * Task Prompt Price per Input Token + Avg Output Token Length per Call * Prompt Model Price per Output Token).\u001b[0m\n",
      "\n",
      "For a preliminary estimate of potential costs, we recommend you perform your own calculations based on the task\n",
      "and prompt models you intend to use. If the projected costs exceed your budget or expectations, you may consider:\n",
      "\n",
      "\u001b[93m- Reducing the number of trials (`num_trials`), the size of the trainset, or the number of LM calls in your program.\u001b[0m\n",
      "\u001b[93m- Using a cheaper task model to optimize the prompt.\u001b[0m\n"
     ]
    },
    {
     "name": "stderr",
     "output_type": "stream",
     "text": [
      "  1%|          | 10/1401 [00:00<00:03, 395.40it/s]\n"
     ]
    },
    {
     "name": "stdout",
     "output_type": "stream",
     "text": [
      "Bootstrapped 4 full traces after 11 examples in round 0.\n"
     ]
    },
    {
     "name": "stderr",
     "output_type": "stream",
     "text": [
      "  0%|          | 4/1401 [00:00<00:04, 290.78it/s]\n"
     ]
    },
    {
     "name": "stdout",
     "output_type": "stream",
     "text": [
      "Bootstrapped 4 full traces after 5 examples in round 0.\n"
     ]
    },
    {
     "name": "stderr",
     "output_type": "stream",
     "text": [
      "  0%|          | 6/1401 [00:00<00:03, 401.64it/s]\n"
     ]
    },
    {
     "name": "stdout",
     "output_type": "stream",
     "text": [
      "Bootstrapped 4 full traces after 7 examples in round 0.\n"
     ]
    },
    {
     "name": "stderr",
     "output_type": "stream",
     "text": [
      "  0%|          | 4/1401 [00:00<00:03, 376.70it/s]\n"
     ]
    },
    {
     "name": "stdout",
     "output_type": "stream",
     "text": [
      "Bootstrapped 4 full traces after 5 examples in round 0.\n"
     ]
    },
    {
     "name": "stderr",
     "output_type": "stream",
     "text": [
      "  0%|          | 5/1401 [00:00<00:03, 382.45it/s]\n"
     ]
    },
    {
     "name": "stdout",
     "output_type": "stream",
     "text": [
      "Bootstrapped 4 full traces after 6 examples in round 0.\n"
     ]
    },
    {
     "name": "stderr",
     "output_type": "stream",
     "text": [
      "  0%|          | 7/1401 [00:00<00:04, 344.58it/s]\n"
     ]
    },
    {
     "name": "stdout",
     "output_type": "stream",
     "text": [
      "Bootstrapped 4 full traces after 8 examples in round 0.\n"
     ]
    },
    {
     "name": "stderr",
     "output_type": "stream",
     "text": [
      "  1%|          | 8/1401 [00:00<00:03, 401.93it/s]"
     ]
    },
    {
     "name": "stdout",
     "output_type": "stream",
     "text": [
      "Bootstrapped 4 full traces after 9 examples in round 0.\n"
     ]
    },
    {
     "name": "stderr",
     "output_type": "stream",
     "text": [
      "\n"
     ]
    }
   ],
   "source": [
    "teacher = lm\n",
    "student = lm\n",
    "\n",
    "mipro = MIPRO(prompt_model=teacher, task_model=student, metric=em_metric, init_temperature=1.0, num_candidates=8)\n",
    "kwargs = dict(num_threads=NUM_THREADS, display_progress=True, display_table=4)\n",
    "mipro_preference_model = mipro.compile(student=PrefPredict(), trainset=train, num_trials=20, max_bootstrapped_demos=4, \n",
    "                                        max_labeled_demos=4, eval_kwargs=kwargs, requires_permission_to_run=False)\n"
   ]
  },
  {
   "cell_type": "code",
   "execution_count": null,
   "metadata": {},
   "outputs": [
    {
     "name": "stderr",
     "output_type": "stream",
     "text": []
    },
    {
     "name": "stderr",
     "output_type": "stream",
     "text": [
      "Average Metric: 333 / 500  (66.6): 100%|██████████| 500/500 [00:44<00:00, 11.24it/s]"
     ]
    },
    {
     "name": "stdout",
     "output_type": "stream",
     "text": [
      "Average Metric: 333 / 500  (66.6%)\n"
     ]
    },
    {
     "name": "stderr",
     "output_type": "stream",
     "text": [
      "\n"
     ]
    },
    {
     "data": {
      "text/plain": [
       "66.6"
      ]
     },
     "execution_count": 49,
     "metadata": {},
     "output_type": "execute_result"
    }
   ],
   "source": [
    "eval_fn(mipro_preference_model)"
   ]
  },
  {
   "cell_type": "code",
   "execution_count": null,
   "metadata": {},
   "outputs": [],
   "source": []
  }
 ],
 "metadata": {
  "kernelspec": {
   "display_name": "dspy",
   "language": "python",
   "name": "python3"
  },
  "language_info": {
   "codemirror_mode": {
    "name": "ipython",
    "version": 3
   },
   "file_extension": ".py",
   "mimetype": "text/x-python",
   "name": "python",
   "nbconvert_exporter": "python",
   "pygments_lexer": "ipython3",
   "version": "3.10.14"
  }
 },
 "nbformat": 4,
 "nbformat_minor": 2
}
