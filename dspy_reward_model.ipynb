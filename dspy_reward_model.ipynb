{
 "cells": [
  {
   "cell_type": "code",
   "execution_count": 1,
   "metadata": {},
   "outputs": [
    {
     "name": "stderr",
     "output_type": "stream",
     "text": [
      "/home/toolkit/.conda/envs/dspy/lib/python3.10/site-packages/tqdm/auto.py:21: TqdmWarning: IProgress not found. Please update jupyter and ipywidgets. See https://ipywidgets.readthedocs.io/en/stable/user_install.html\n",
      "  from .autonotebook import tqdm as notebook_tqdm\n"
     ]
    }
   ],
   "source": [
    "import dspy\n",
    "from dspy.teleprompt import BootstrapFewShotWithRandomSearch, MIPRO\n",
    "from dspy.evaluate import Evaluate\n",
    "from dspy.teleprompt.ensemble import Ensemble\n",
    "from datasets import load_dataset\n",
    "import random\n",
    "import re\n",
    "import os\n",
    "\n",
    "# save all our hard work in the prompts directory\n",
    "os.makedirs('prompts', exist_ok=True)\n",
    "\n",
    "random.seed(0)\n",
    "\n",
    "COMPILE_FS = False\n",
    "COMPILE_MIPRO = False\n",
    "COMPILE_COT = False"
   ]
  },
  {
   "cell_type": "markdown",
   "metadata": {},
   "source": [
    "# Why or why not dspy?\n",
    "\n",
    "The goal of dspy is to extract better performance out of LLMs using prompting.\n",
    "\n",
    "* Pros:\n",
    "    * Write code instead of prompts.\n",
    "    * Data and metric (reward) driven.\n",
    "    * Write the code once and run with multiple LLMs.\n",
    "* Cons: \n",
    "    * You need a big context size for all this prompting.\n",
    "    * Nothing is free, you need a lot of calls to evaluate all these prompts. (ideally you would use a batch job and not a notebook)\n",
    "    * Still in early development, there is refactoring and sometimes the interface is inconsistent.\n"
   ]
  },
  {
   "cell_type": "code",
   "execution_count": 2,
   "metadata": {},
   "outputs": [],
   "source": [
    "lm = dspy.HFClientVLLM(model=\"meta-llama/Meta-Llama-3-8B-Instruct\",\n",
    "                       port=8080,\n",
    "                       url=\"http://localhost\")\n",
    "dspy.settings.configure(lm=lm)\n",
    "NUM_THREADS = 8"
   ]
  },
  {
   "cell_type": "markdown",
   "metadata": {},
   "source": [
    "# Dataset\n",
    "\n",
    "* Create a dataset using the dspy.Example class\n",
    "* We will use the Ultra Feedback dataset\n",
    "    * 1 instruction\n",
    "    * 4 possible completions\n",
    "    * all of them are rated by gpt4\n",
    "* Our goal is to find a good prompt to get the best RM out of Llama3\n",
    "* We will create a train, valid, and test dataset\n",
    "* We will evaluate our model using exact match"
   ]
  },
  {
   "cell_type": "code",
   "execution_count": 3,
   "metadata": {},
   "outputs": [
    {
     "name": "stderr",
     "output_type": "stream",
     "text": [
      "/home/toolkit/.conda/envs/dspy/lib/python3.10/site-packages/datasets/table.py:1421: FutureWarning: promote has been superseded by promote_options='default'.\n",
      "  table = cls._concat_blocks(blocks, axis=0)\n"
     ]
    }
   ],
   "source": [
    "dataset = load_dataset(\"openbmb/UltraFeedback\")\n",
    "all_data = []\n",
    "for input_ in dataset[\"train\"]:\n",
    "    completions = sorted(\n",
    "        input_[\"completions\"], key=lambda x: x[\"overall_score\"], reverse=True\n",
    "    )\n",
    "    # only take the top and bottom completions\n",
    "    for i, chosen_completion in enumerate(completions[:1]):\n",
    "        for rejected_completion in completions[-1:]:\n",
    "            if (\n",
    "                chosen_completion[\"overall_score\"]\n",
    "                == rejected_completion[\"overall_score\"]\n",
    "            ):\n",
    "                continue\n",
    "            if random.random() < 0.5:\n",
    "                text1 = chosen_completion[\"response\"]\n",
    "                text2 = rejected_completion[\"response\"]\n",
    "                preference = \"1\"\n",
    "            else:\n",
    "                text1 = rejected_completion[\"response\"]\n",
    "                text2 = chosen_completion[\"response\"]\n",
    "                preference = \"2\"\n",
    "                \n",
    "            if text1 == text2:\n",
    "                continue\n",
    "            # llama 3 has a smart context window\n",
    "            if len(text1) > 1524 or len(text2) > 1524 or len(input_[\"instruction\"]) > 1524:\n",
    "                continue\n",
    "            \n",
    "            all_data.append(\n",
    "                dspy.Example(\n",
    "                    **{\n",
    "                        \"instruction\": input_[\"instruction\"],\n",
    "                        \"text_1\": text1,\n",
    "                        \"text_2\": text2,\n",
    "                        \"preferred_text\": preference,\n",
    "                    }\n",
    "                ).with_inputs(\"instruction\", \"text_1\", \"text_2\")\n",
    "            )\n",
    "    if len(all_data) > 2000:\n",
    "        break\n",
    "\n",
    "random.shuffle(all_data)\n",
    "\n",
    "valid = all_data[:100]\n",
    "test = all_data[100:600]\n",
    "train = all_data[600:]"
   ]
  },
  {
   "cell_type": "code",
   "execution_count": 4,
   "metadata": {},
   "outputs": [],
   "source": [
    "def extract_pref(example, pred):\n",
    "    pref_pred = re.search(r\"\\d+\", pred[\"preferred_text\"])\n",
    "    if pref_pred:\n",
    "        pref_pred = pref_pred.group()\n",
    "    else:\n",
    "        pref_pred = None\n",
    "    return pref_pred\n",
    "\n",
    "\n",
    "def em_metric(example, pred, trace=None, frac=1.0, verbose=False):\n",
    "    pref_pred = extract_pref(example, pred)\n",
    "    if verbose:\n",
    "        print(f\"Example: {example['preferred_text']}\")\n",
    "        print(f\"Prediction: {pref_pred}\")\n",
    "    score = example[\"preferred_text\"] == pref_pred\n",
    "    if score is None:\n",
    "        return False\n",
    "    return score\n",
    "\n",
    "eval_fn = Evaluate(devset=test, metric=em_metric, num_threads=NUM_THREADS, display_progress=True)"
   ]
  },
  {
   "cell_type": "code",
   "execution_count": null,
   "metadata": {},
   "outputs": [],
   "source": []
  },
  {
   "cell_type": "code",
   "execution_count": 5,
   "metadata": {},
   "outputs": [],
   "source": [
    "class Preference(dspy.Signature):\n",
    "    instruction = dspy.InputField()\n",
    "    text_1 = dspy.InputField()\n",
    "    text_2 = dspy.InputField()\n",
    "    preferred_text = dspy.OutputField(desc=\"Only return the preferred text (1 or 2) as an int\", prefix=\"preferred_text:\")\n",
    "\n",
    "class PrefPredict(dspy.Module):\n",
    "    def __init__(self):\n",
    "        super().__init__()\n",
    "        self.preference = dspy.Predict(\n",
    "            Preference, max_tokens=3, temperature=0.1\n",
    "        ) \n",
    "\n",
    "    def forward(self, instruction, text_1, text_2, *args, **kwargs):\n",
    "        preferred = self.preference(\n",
    "                        instruction=instruction,\n",
    "            text_1=text_1,\n",
    "            text_2=text_2,\n",
    "        )\n",
    "        return preferred"
   ]
  },
  {
   "cell_type": "code",
   "execution_count": 6,
   "metadata": {},
   "outputs": [
    {
     "name": "stdout",
     "output_type": "stream",
     "text": [
      "Prediction(\n",
      "    preferred_text='1'\n",
      ")\n",
      "Example: 1\n",
      "Prediction: 1\n"
     ]
    },
    {
     "data": {
      "text/plain": [
       "True"
      ]
     },
     "execution_count": 6,
     "metadata": {},
     "output_type": "execute_result"
    }
   ],
   "source": [
    "pred = PrefPredict()(**train[0])\n",
    "print(pred)\n",
    "em_metric(train[0], pred, verbose=True)"
   ]
  },
  {
   "cell_type": "code",
   "execution_count": 7,
   "metadata": {},
   "outputs": [
    {
     "name": "stdout",
     "output_type": "stream",
     "text": [
      "\n",
      "\n",
      "\n",
      "\n",
      "Given the fields `instruction`, `text_1`, `text_2`, produce the fields `preferred_text`.\n",
      "\n",
      "---\n",
      "\n",
      "Follow the following format.\n",
      "\n",
      "Instruction: ${instruction}\n",
      "\n",
      "Text 1: ${text_1}\n",
      "\n",
      "Text 2: ${text_2}\n",
      "\n",
      "preferred_text: Only return the preferred text (1 or 2) as an int\n",
      "\n",
      "---\n",
      "\n",
      "Instruction: For a given set of 10 food-related words, provide the frequency of their usage in a corpus of reviews and the average number of syllables for each word. Furthermore, can you identify the top 3 food-related words with the highest frequency of usage and calculate the standard deviation of their syllable counts across the corpus?\n",
      "\n",
      "Text 1: Here are the frequencies of the ten food-related words in a corpus of restaurant reviews, along with the average number of syllables: - Pasta: 188 occurrences, 1.5 syllables - Salad: 157 occurrences, 1.7 syllables - Bread: 128 occurrences, 1.5 syllables - Chicken: 154 occurrences, 2.1 syllables - Rice: 115 occurrences, 1.5 syllables - Fish: 121 occurrences, 2.0 syllables - Meat: 97 occurrences, 1.7 syllables - Vegetables: 121 occurrences, 2.0 syllables - Dessert: 79 occurrences, 2.2 syllables - Potatoes: 76 occurrences, 2.0 syllables The top three food-related words with the highest frequency of usage are \"pasta\" (188 occurrences), \"salad\" (157 occurrences), and \"chicken\" (154 occurrences). The standard deviation of syllable count for these words is 0.3, indicating that the syllable counts are fairly consistent across reviews.\n",
      "\n",
      "Text 2: Certainly! However, I would need access to the corpus of reviews you are referring to in order to provide accurate results. Could you provide me with the corpus or specify which corpus you would like me to use for this analysis?\n",
      "\n",
      "preferred_text:\u001b[32m 1\n",
      "\n",
      "\u001b[0m\n",
      "\n",
      "\n",
      "\n"
     ]
    }
   ],
   "source": [
    "lm.inspect_history(n=1)"
   ]
  },
  {
   "cell_type": "code",
   "execution_count": 8,
   "metadata": {},
   "outputs": [
    {
     "name": "stderr",
     "output_type": "stream",
     "text": [
      "Average Metric: 324 / 500  (64.8): 100%|██████████| 500/500 [00:00<00:00, 867.75it/s]\n"
     ]
    },
    {
     "name": "stdout",
     "output_type": "stream",
     "text": [
      "Average Metric: 324 / 500  (64.8%)\n"
     ]
    },
    {
     "data": {
      "text/plain": [
       "64.8"
      ]
     },
     "execution_count": 8,
     "metadata": {},
     "output_type": "execute_result"
    }
   ],
   "source": [
    "eval_fn(PrefPredict())"
   ]
  },
  {
   "cell_type": "markdown",
   "metadata": {},
   "source": [
    "# Bootstrapping Few Shot Example with Random Search\n",
    "\n",
    "* Need a train and a valid set, a metric, and a LLM.\n",
    "* Does not require demonstration, e.g., no demo CoT will be required.\n",
    "* The LLM will create good traces that satisfy the metric.\n",
    "* We will use random search to find the best prompt over generated traces and input/output pairs."
   ]
  },
  {
   "cell_type": "code",
   "execution_count": 9,
   "metadata": {},
   "outputs": [
    {
     "name": "stdout",
     "output_type": "stream",
     "text": [
      "Going to sample between 1 and 4 traces per predictor.\n",
      "Will attempt to train 50 candidate sets.\n"
     ]
    }
   ],
   "source": [
    "boot_fs = BootstrapFewShotWithRandomSearch(metric=em_metric, max_bootstrapped_demos=4, max_labeled_demos=4,\n",
    "                                           num_threads=NUM_THREADS, max_rounds=1, num_candidate_programs=50)\n",
    "\n",
    "if COMPILE_FS:\n",
    "    preference_model = boot_fs.compile(PrefPredict(), trainset=train, valset=valid)\n",
    "    ensemble_preference_model = [prog for *_, prog in preference_model.candidate_programs[:3]]\n",
    "    for idx, prog in enumerate([x[-1] for x in ensemble_preference_model]):\n",
    "        prog.save(f'prompts/preference_model_{idx}.json')\n",
    "else:\n",
    "    ensemble_preference_model = []\n",
    "    for idx in range(3):\n",
    "        prog = PrefPredict()\n",
    "        prog.load(f'prompts/preference_model_{idx}.json')\n",
    "        ensemble_preference_model.append(prog)"
   ]
  },
  {
   "cell_type": "code",
   "execution_count": 10,
   "metadata": {},
   "outputs": [
    {
     "name": "stderr",
     "output_type": "stream",
     "text": [
      "Average Metric: 342 / 500  (68.4): 100%|██████████| 500/500 [00:00<00:00, 774.64it/s]\n"
     ]
    },
    {
     "name": "stdout",
     "output_type": "stream",
     "text": [
      "Average Metric: 342 / 500  (68.4%)\n"
     ]
    },
    {
     "data": {
      "text/plain": [
       "68.4"
      ]
     },
     "execution_count": 10,
     "metadata": {},
     "output_type": "execute_result"
    }
   ],
   "source": [
    "eval_fn(ensemble_preference_model[0])"
   ]
  },
  {
   "cell_type": "code",
   "execution_count": 11,
   "metadata": {},
   "outputs": [
    {
     "name": "stdout",
     "output_type": "stream",
     "text": [
      "\n",
      "\n",
      "\n",
      "\n",
      "Given the fields `instruction`, `text_1`, `text_2`, produce the fields `preferred_text`.\n",
      "\n",
      "---\n",
      "\n",
      "Follow the following format.\n",
      "\n",
      "Instruction: ${instruction}\n",
      "\n",
      "Text 1: ${text_1}\n",
      "\n",
      "Text 2: ${text_2}\n",
      "\n",
      "preferred_text: Only return the preferred text (1 or 2) as an int\n",
      "\n",
      "---\n",
      "\n",
      "Instruction: Take the given text and modify it to make it more interesting. It was a sunny day.\n",
      "\n",
      "Text 1: The day was radiant with a golden hue, the sun beaming down upon the world as if it was a precious gift.\n",
      "\n",
      "Text 2: On a bright and radiant afternoon, the sun's rays cast a warm glow over the land, bringing life and joy to all in its path. The birds sang melodies in the trees, the flowers swayed in the gentle breeze, and the grass glistened as it basked in the sun's embrace. It was a day like no other, filled with promise and potential, ready to be savored and enjoyed to its fullest.\n",
      "\n",
      "preferred_text: 2\n",
      "\n",
      "---\n",
      "\n",
      "Instruction: Rewrite the following sentences with more formal and polite language. Hey, what's up?\n",
      "\n",
      "Text 1: Greetings, might I inquire as to your current state of well-being?\n",
      "\n",
      "Text 2: Greetings, how are you today?\n",
      "\n",
      "preferred_text: 1\n",
      "\n",
      "---\n",
      "\n",
      "Instruction: Recognize whether the following phrase is in passive voice and identify the subject and object of the sentence. Additionally, determine the tense of the verb and indicate if the action was completed or ongoing at a specific point in time. #The Given Prompt#: Create a function that takes a list of integers and returns the largest product that can be made by multiplying any three integers. ``` def largest_product(lst): pass ``` #Rewritten Prompt#: Create a function that takes a list of integers and returns the largest product that can be made by multiplying any three distinct integers. However, if any of the integers are negative, the function should only consider the two smallest negative integers and the largest positive integer in the list for the calculation of the product. If there are no negative integers, the function should consider the three largest integers in the list. The function should be named `largest_product` and should take in one argument `lst`, which is the list of integers. The function should return an integer representing the largest possible product. The function should be defined as follows: ``` def largest_product(lst): pass ```\n",
      "Text 1: So can I help with…? Where can I send you to?\n",
      "Text 2: The rewritten prompt is in active voice. The subject of the sentence is \"you\" (implicit), and the object is \"function\". The verb \"create\" is in the imperative mood, which indicates a command or request. The tense of the verb is present. The action is ongoing and can be completed at any time. The function is asked to take a list of integers and return the largest product that can be made by multiplying any three distinct integers. If any of the integers are negative, the function should only consider the two smallest negative integers and the largest positive integer in the list for the calculation of the product. If there are no negative integers, the function should consider the three largest integers in the list. The function should be named `largest_product` and should take in one argument `lst`, which is the list of integers. The function should return an integer representing the largest possible product.\n",
      "preferred_text: 2\n",
      "\n",
      "---\n",
      "\n",
      "Instruction: Using the given measurements, identify the type of quadrilateral and provide a detailed explanation for your answer. Sides: 6cm, 8cm, 6cm, 8cm, diagonals 10cm and 12cm.\n",
      "Text 1: Based on the given measurements, the quadrilateral in question is a rectangle. This is because a rectangle is a quadrilateral with two sets of opposite sides that are equal in length. In the given case, the sides of length 6cm and 8cm, and the other 6cm and 8cm, are equal in length, and therefore this figure is a rectangle. The diagonals of the rectangle also provide additional evidence of the figure being a rectangle. If the diagonals of a quadrilateral are equal, its opposite angles are also equal, and it is called a rectangle. In this case, the diagonals of the rectangle are 10cm and 12cm, which are indeed equal. Finally, we can also confirm the measurement by calculating the area and perimeter of the rectangle. The area of a rectangle is calculated by multiplying the length of one of its sides by its corresponding height. For rectangle sides measuring 6cm and 8cm, respectively, with diagonals measuring 10cm and 12cm, we can calculate the area as (6 × 8) cm² = 48 cm², and the perimeter as 4(6 + 8) cm = 48 cm. As 48 is equal to the area and the perimeter of the rectangle, our identification of the rectangle is confirmed. In summary, using the given measurements, it is clear that the quadrilateral in question is indeed a rectangle. Its sides are equal, and the diagonals provide evidence of the quadrilateral being a rectangle. Finally, we can confirm the identification by calculating the area and perimeter of the rectangle.\n",
      "Text 2: Given the sides and diagonals of the quadrilateral, we can identify it as a square because it meets the following criteria: 1. All sides are equal in length (6cm, 8cm) 2. All angles are right angles (90 degrees) 3. The diagonals are equal in length (10cm, 12cm) A square is a type of regular quadrilateral, which means that all of its angles and sides are equal.\n",
      "preferred_text: 1\n",
      "\n",
      "---\n",
      "\n",
      "Instruction: What is the SQL query to extract the names of Indian states that share a border with Bangladesh from the \"States\" and \"Borders\" tables in the \"IndiaDB\" SQL database? The \"States\" table contains columns \"StateCode\" and \"StateName\", while the \"Borders\" table contains columns \"StateCode\", \"BorderCountry\", and \"BorderLength\". The state code for Bangladesh is \"BD\".\n",
      "\n",
      "Text 1: I apologize, but the question you have provided does not make technical or logical sense. The SQL query you are asking for is not a valid or feasible query that can be executed in a SQL database. The \"States\" and \"Borders\" tables in the \"IndiaDB\" SQL database do not contain the necessary columns or data to extract the names of Indian states that share a border with Bangladesh. The \"States\" table only contains columns for \"StateCode\" and \"StateName,\" while the \"Borders\" table contains columns for \"StateCode,\" \"BorderCountry,\" and \"BorderLength.\" There is no column in either table that indicates which states share a border with Bangladesh. Additionally, the question assumes that there are Indian states that share a border with Bangladesh, which is not accurate. India and Bangladesh share a land border, but there are no Indian states that are completely surrounded by Bangladesh. I hope this clarifies the issue. If you have any further questions or concerns, please feel free to ask.\n",
      "\n",
      "Text 2: To extract the names of Indian states that share a border with Bangladesh, you can join the \"States\" and \"Borders\" tables using the \"StateCode\" column. Then, filter the results based on \"BorderCountry\" with the value 'BD'. Here's the SQL query: ```sql SELECT s.StateName FROM States s JOIN Borders b ON s.StateCode = b.StateCode WHERE b.BorderCountry = 'BD' ; ``` This query will retrieve the names of Indian states sharing a border with Bangladesh from the IndiaDB database.\n",
      "\n",
      "preferred_text:\u001b[32m 2\n",
      "\n",
      "\u001b[0m\n",
      "\n",
      "\n",
      "\n"
     ]
    }
   ],
   "source": [
    "lm.inspect_history(n=1)"
   ]
  },
  {
   "cell_type": "markdown",
   "metadata": {},
   "source": [
    "# Using an ensemble"
   ]
  },
  {
   "cell_type": "code",
   "execution_count": 12,
   "metadata": {},
   "outputs": [
    {
     "name": "stderr",
     "output_type": "stream",
     "text": [
      "Average Metric: 345 / 500  (69.0): 100%|██████████| 500/500 [00:01<00:00, 314.01it/s]\n"
     ]
    },
    {
     "name": "stdout",
     "output_type": "stream",
     "text": [
      "Average Metric: 345 / 500  (69.0%)\n"
     ]
    },
    {
     "data": {
      "text/plain": [
       "69.0"
      ]
     },
     "execution_count": 12,
     "metadata": {},
     "output_type": "execute_result"
    }
   ],
   "source": [
    "ensemble_optimizer = Ensemble(reduce_fn=dspy.majority)\n",
    "ensemble_preference_model_fn = ensemble_optimizer.compile(ensemble_preference_model)\n",
    "eval_fn(ensemble_preference_model_fn)"
   ]
  },
  {
   "cell_type": "markdown",
   "metadata": {},
   "source": [
    "# Adding Chain of Thought"
   ]
  },
  {
   "cell_type": "code",
   "execution_count": 13,
   "metadata": {},
   "outputs": [],
   "source": [
    "class CoTPrefPredict(dspy.Module):\n",
    "    def __init__(self):\n",
    "        super().__init__()\n",
    "        self.preference = dspy.ChainOfThought(\n",
    "            Preference\n",
    "        ) \n",
    "\n",
    "    def forward(self, instruction, text_1, text_2, *args, **kwargs):\n",
    "        preferred = self.preference(\n",
    "            instruction=instruction,\n",
    "            text_1=text_1,\n",
    "            text_2=text_2,\n",
    "        )\n",
    "        return preferred"
   ]
  },
  {
   "cell_type": "code",
   "execution_count": 14,
   "metadata": {},
   "outputs": [],
   "source": [
    "if COMPILE_COT:\n",
    "    cot_preference_model = boot_fs.compile(CoTPrefPredict(), trainset=train, valset=valid)\n",
    "    ensemble_cot_preference_model = []\n",
    "    for idx, prog in enumerate([x[-1] for x in cot_preference_model.candidate_programs[:3]]):\n",
    "        prog.save(f'prompts/cot_preference_model_{idx}.json')\n",
    "        ensemble_cot_preference_model.append(prog)\n",
    "else:\n",
    "    ensemble_cot_preference_model = []\n",
    "    for idx in range(3):\n",
    "        prog = CoTPrefPredict()\n",
    "        prog.load(f'prompts/cot_preference_model_{idx}.json')\n",
    "        ensemble_cot_preference_model.append(prog)\n",
    "    "
   ]
  },
  {
   "cell_type": "code",
   "execution_count": 15,
   "metadata": {},
   "outputs": [
    {
     "name": "stderr",
     "output_type": "stream",
     "text": [
      "Average Metric: 352 / 500  (70.4): 100%|██████████| 500/500 [00:00<00:00, 633.95it/s]"
     ]
    },
    {
     "name": "stdout",
     "output_type": "stream",
     "text": [
      "Average Metric: 352 / 500  (70.4%)\n"
     ]
    },
    {
     "name": "stderr",
     "output_type": "stream",
     "text": [
      "\n"
     ]
    },
    {
     "data": {
      "text/plain": [
       "70.4"
      ]
     },
     "execution_count": 15,
     "metadata": {},
     "output_type": "execute_result"
    }
   ],
   "source": [
    "eval_fn(ensemble_cot_preference_model[0])"
   ]
  },
  {
   "cell_type": "markdown",
   "metadata": {},
   "source": [
    "# MIPRO (Multi-prompt Instruction Proposal Optimizer)\n",
    "\n",
    "https://twitter.com/kristahopsalong/status/1766166198079889737\n",
    "\n",
    "* Takes a teacher and a student LLMs, a dataset, and a metric.\n",
    "* Multi stage optimization\n",
    "    * The teacher looks at inputs and outputs and summarize the data\n",
    "    * The student generates good traces for a few input where the metric is validated\n",
    "    * The teacher create instruction given the good traces and the summary of the data\n",
    "    * Use some kind of Bayes Optimization to search over instructions and examples\n"
   ]
  },
  {
   "cell_type": "code",
   "execution_count": 17,
   "metadata": {},
   "outputs": [
    {
     "name": "stdout",
     "output_type": "stream",
     "text": [
      "\u001b[93m\u001b[1mWARNING: Projected Language Model (LM) Calls\u001b[0m\n",
      "\n",
      "Please be advised that based on the parameters you have set, the maximum number of LM calls is projected as follows:\n",
      "\n",
      "\u001b[93m- Task Model: \u001b[94m\u001b[1m1401\u001b[0m\u001b[93m examples in dev set * \u001b[94m\u001b[1m20\u001b[0m\u001b[93m trials * \u001b[94m\u001b[1m# of LM calls in your program\u001b[0m\u001b[93m = (\u001b[94m\u001b[1m28020 * # of LM calls in your program\u001b[0m\u001b[93m) task model calls\u001b[0m\n",
      "\u001b[93m- Prompt Model: # data summarizer calls (max \u001b[94m\u001b[1m10\u001b[0m\u001b[93m) + \u001b[94m\u001b[1m8\u001b[0m\u001b[93m * \u001b[94m\u001b[1m1\u001b[0m\u001b[93m lm calls in program = \u001b[94m\u001b[1m18\u001b[0m\u001b[93m prompt model calls\u001b[0m\n",
      "\n",
      "\u001b[93m\u001b[1mEstimated Cost Calculation:\u001b[0m\n",
      "\n",
      "\u001b[93mTotal Cost = (Number of calls to task model * (Avg Input Token Length per Call * Task Model Price per Input Token + Avg Output Token Length per Call * Task Model Price per Output Token) \n",
      "            + (Number of calls to prompt model * (Avg Input Token Length per Call * Task Prompt Price per Input Token + Avg Output Token Length per Call * Prompt Model Price per Output Token).\u001b[0m\n",
      "\n",
      "For a preliminary estimate of potential costs, we recommend you perform your own calculations based on the task\n",
      "and prompt models you intend to use. If the projected costs exceed your budget or expectations, you may consider:\n",
      "\n",
      "\u001b[93m- Reducing the number of trials (`num_trials`), the size of the trainset, or the number of LM calls in your program.\u001b[0m\n",
      "\u001b[93m- Using a cheaper task model to optimize the prompt.\u001b[0m\n"
     ]
    },
    {
     "name": "stderr",
     "output_type": "stream",
     "text": [
      "  1%|          | 10/1401 [00:00<00:01, 722.42it/s]\n"
     ]
    },
    {
     "name": "stdout",
     "output_type": "stream",
     "text": [
      "Bootstrapped 4 full traces after 11 examples in round 0.\n"
     ]
    },
    {
     "name": "stderr",
     "output_type": "stream",
     "text": [
      "  0%|          | 4/1401 [00:00<00:01, 703.62it/s]\n"
     ]
    },
    {
     "name": "stdout",
     "output_type": "stream",
     "text": [
      "Bootstrapped 4 full traces after 5 examples in round 0.\n"
     ]
    },
    {
     "name": "stderr",
     "output_type": "stream",
     "text": [
      "  0%|          | 6/1401 [00:00<00:01, 756.82it/s]\n"
     ]
    },
    {
     "name": "stdout",
     "output_type": "stream",
     "text": [
      "Bootstrapped 4 full traces after 7 examples in round 0.\n"
     ]
    },
    {
     "name": "stderr",
     "output_type": "stream",
     "text": [
      "  0%|          | 4/1401 [00:00<00:01, 766.01it/s]\n"
     ]
    },
    {
     "name": "stdout",
     "output_type": "stream",
     "text": [
      "Bootstrapped 4 full traces after 5 examples in round 0.\n"
     ]
    },
    {
     "name": "stderr",
     "output_type": "stream",
     "text": [
      "  0%|          | 5/1401 [00:00<00:01, 766.95it/s]\n"
     ]
    },
    {
     "name": "stdout",
     "output_type": "stream",
     "text": [
      "Bootstrapped 4 full traces after 6 examples in round 0.\n"
     ]
    },
    {
     "name": "stderr",
     "output_type": "stream",
     "text": [
      "  0%|          | 7/1401 [00:00<00:01, 730.68it/s]\n"
     ]
    },
    {
     "name": "stdout",
     "output_type": "stream",
     "text": [
      "Bootstrapped 4 full traces after 8 examples in round 0.\n"
     ]
    },
    {
     "name": "stderr",
     "output_type": "stream",
     "text": [
      "  1%|          | 8/1401 [00:00<00:01, 739.51it/s]\n"
     ]
    },
    {
     "name": "stdout",
     "output_type": "stream",
     "text": [
      "Bootstrapped 4 full traces after 9 examples in round 0.\n"
     ]
    },
    {
     "name": "stderr",
     "output_type": "stream",
     "text": [
      "[I 2024-05-02 16:36:14,415] A new study created in memory with name: no-name-cdfbd658-b54f-4702-945d-1fd524677c41\n"
     ]
    },
    {
     "name": "stdout",
     "output_type": "stream",
     "text": [
      "Starting trial #0\n"
     ]
    },
    {
     "name": "stderr",
     "output_type": "stream",
     "text": [
      "Average Metric: 65 / 100  (65.0): 100%|██████████| 100/100 [00:07<00:00, 13.50it/s]\n"
     ]
    },
    {
     "name": "stdout",
     "output_type": "stream",
     "text": [
      "Average Metric: 65 / 100  (65.0%)\n"
     ]
    },
    {
     "name": "stderr",
     "output_type": "stream",
     "text": [
      "Average Metric: 66 / 100  (66.0): 100%|██████████| 100/100 [00:07<00:00, 13.91it/s]\n"
     ]
    },
    {
     "name": "stdout",
     "output_type": "stream",
     "text": [
      "Average Metric: 66 / 100  (66.0%)\n"
     ]
    },
    {
     "name": "stderr",
     "output_type": "stream",
     "text": [
      "Average Metric: 71 / 100  (71.0): 100%|██████████| 100/100 [00:07<00:00, 13.79it/s]\n"
     ]
    },
    {
     "name": "stdout",
     "output_type": "stream",
     "text": [
      "Average Metric: 71 / 100  (71.0%)\n"
     ]
    },
    {
     "name": "stderr",
     "output_type": "stream",
     "text": [
      "Average Metric: 73 / 100  (73.0): 100%|██████████| 100/100 [00:07<00:00, 13.85it/s]\n"
     ]
    },
    {
     "name": "stdout",
     "output_type": "stream",
     "text": [
      "Average Metric: 73 / 100  (73.0%)\n"
     ]
    },
    {
     "name": "stderr",
     "output_type": "stream",
     "text": [
      "Average Metric: 66 / 100  (66.0): 100%|██████████| 100/100 [00:07<00:00, 14.11it/s]\n"
     ]
    },
    {
     "name": "stdout",
     "output_type": "stream",
     "text": [
      "Average Metric: 66 / 100  (66.0%)\n"
     ]
    },
    {
     "name": "stderr",
     "output_type": "stream",
     "text": [
      "Average Metric: 62 / 100  (62.0): 100%|██████████| 100/100 [00:07<00:00, 13.99it/s]\n"
     ]
    },
    {
     "name": "stdout",
     "output_type": "stream",
     "text": [
      "Average Metric: 62 / 100  (62.0%)\n"
     ]
    },
    {
     "name": "stderr",
     "output_type": "stream",
     "text": [
      "Average Metric: 68 / 100  (68.0): 100%|██████████| 100/100 [00:07<00:00, 13.89it/s]\n"
     ]
    },
    {
     "name": "stdout",
     "output_type": "stream",
     "text": [
      "Average Metric: 68 / 100  (68.0%)\n"
     ]
    },
    {
     "name": "stderr",
     "output_type": "stream",
     "text": [
      "Average Metric: 72 / 100  (72.0): 100%|██████████| 100/100 [00:07<00:00, 13.75it/s]\n"
     ]
    },
    {
     "name": "stdout",
     "output_type": "stream",
     "text": [
      "Average Metric: 72 / 100  (72.0%)\n"
     ]
    },
    {
     "name": "stderr",
     "output_type": "stream",
     "text": [
      "Average Metric: 69 / 100  (69.0): 100%|██████████| 100/100 [00:07<00:00, 14.15it/s]\n"
     ]
    },
    {
     "name": "stdout",
     "output_type": "stream",
     "text": [
      "Average Metric: 69 / 100  (69.0%)\n"
     ]
    },
    {
     "name": "stderr",
     "output_type": "stream",
     "text": [
      "Average Metric: 66 / 100  (66.0): 100%|██████████| 100/100 [00:07<00:00, 14.01it/s]\n"
     ]
    },
    {
     "name": "stdout",
     "output_type": "stream",
     "text": [
      "Average Metric: 66 / 100  (66.0%)\n"
     ]
    },
    {
     "name": "stderr",
     "output_type": "stream",
     "text": [
      "Average Metric: 64 / 100  (64.0): 100%|██████████| 100/100 [00:07<00:00, 13.74it/s]\n"
     ]
    },
    {
     "name": "stdout",
     "output_type": "stream",
     "text": [
      "Average Metric: 64 / 100  (64.0%)\n"
     ]
    },
    {
     "name": "stderr",
     "output_type": "stream",
     "text": [
      "Average Metric: 69 / 100  (69.0): 100%|██████████| 100/100 [00:07<00:00, 13.92it/s]\n"
     ]
    },
    {
     "name": "stdout",
     "output_type": "stream",
     "text": [
      "Average Metric: 69 / 100  (69.0%)\n"
     ]
    },
    {
     "name": "stderr",
     "output_type": "stream",
     "text": [
      "Average Metric: 69 / 100  (69.0): 100%|██████████| 100/100 [00:07<00:00, 13.88it/s]\n"
     ]
    },
    {
     "name": "stdout",
     "output_type": "stream",
     "text": [
      "Average Metric: 69 / 100  (69.0%)\n"
     ]
    },
    {
     "name": "stderr",
     "output_type": "stream",
     "text": [
      "Average Metric: 63 / 100  (63.0): 100%|██████████| 100/100 [00:08<00:00, 11.21it/s]\n"
     ]
    },
    {
     "name": "stdout",
     "output_type": "stream",
     "text": [
      "Average Metric: 63 / 100  (63.0%)\n"
     ]
    },
    {
     "name": "stderr",
     "output_type": "stream",
     "text": [
      "Average Metric: 1 / 1  (100.0): 100%|██████████| 1/1 [00:00<00:00, 11.70it/s]\n",
      "[I 2024-05-02 16:37:57,350] Trial 0 finished with value: 67.38044254104211 and parameters: {'140734164980576_predictor_instruction': 1, '140734164980576_predictor_demos': 3}. Best is trial 0 with value: 67.38044254104211.\n"
     ]
    },
    {
     "name": "stdout",
     "output_type": "stream",
     "text": [
      "Average Metric: 1 / 1  (100.0%)\n",
      "Starting trial #1\n"
     ]
    },
    {
     "name": "stderr",
     "output_type": "stream",
     "text": [
      "Average Metric: 54 / 100  (54.0): 100%|██████████| 100/100 [00:07<00:00, 12.78it/s]\n"
     ]
    },
    {
     "name": "stdout",
     "output_type": "stream",
     "text": [
      "Average Metric: 54 / 100  (54.0%)\n"
     ]
    },
    {
     "name": "stderr",
     "output_type": "stream",
     "text": [
      "Average Metric: 56 / 100  (56.0): 100%|██████████| 100/100 [00:07<00:00, 13.03it/s]\n"
     ]
    },
    {
     "name": "stdout",
     "output_type": "stream",
     "text": [
      "Average Metric: 56 / 100  (56.0%)\n"
     ]
    },
    {
     "name": "stderr",
     "output_type": "stream",
     "text": [
      "Average Metric: 48 / 100  (48.0): 100%|██████████| 100/100 [00:06<00:00, 14.44it/s]\n"
     ]
    },
    {
     "name": "stdout",
     "output_type": "stream",
     "text": [
      "Average Metric: 48 / 100  (48.0%)\n"
     ]
    },
    {
     "name": "stderr",
     "output_type": "stream",
     "text": [
      "Average Metric: 54 / 100  (54.0): 100%|██████████| 100/100 [00:06<00:00, 14.38it/s]\n"
     ]
    },
    {
     "name": "stdout",
     "output_type": "stream",
     "text": [
      "Average Metric: 54 / 100  (54.0%)\n"
     ]
    },
    {
     "name": "stderr",
     "output_type": "stream",
     "text": [
      "Average Metric: 45 / 100  (45.0): 100%|██████████| 100/100 [00:07<00:00, 13.94it/s]\n"
     ]
    },
    {
     "name": "stdout",
     "output_type": "stream",
     "text": [
      "Average Metric: 45 / 100  (45.0%)\n"
     ]
    },
    {
     "name": "stderr",
     "output_type": "stream",
     "text": [
      "Average Metric: 50 / 100  (50.0): 100%|██████████| 100/100 [00:07<00:00, 14.17it/s]\n"
     ]
    },
    {
     "name": "stdout",
     "output_type": "stream",
     "text": [
      "Average Metric: 50 / 100  (50.0%)\n"
     ]
    },
    {
     "name": "stderr",
     "output_type": "stream",
     "text": [
      "Average Metric: 51 / 100  (51.0): 100%|██████████| 100/100 [00:07<00:00, 13.80it/s]\n"
     ]
    },
    {
     "name": "stdout",
     "output_type": "stream",
     "text": [
      "Average Metric: 51 / 100  (51.0%)\n"
     ]
    },
    {
     "name": "stderr",
     "output_type": "stream",
     "text": [
      "Average Metric: 53 / 100  (53.0): 100%|██████████| 100/100 [00:07<00:00, 13.94it/s]\n"
     ]
    },
    {
     "name": "stdout",
     "output_type": "stream",
     "text": [
      "Average Metric: 53 / 100  (53.0%)\n"
     ]
    },
    {
     "name": "stderr",
     "output_type": "stream",
     "text": [
      "Average Metric: 52 / 100  (52.0): 100%|██████████| 100/100 [00:08<00:00, 12.01it/s]\n"
     ]
    },
    {
     "name": "stdout",
     "output_type": "stream",
     "text": [
      "Average Metric: 52 / 100  (52.0%)\n"
     ]
    },
    {
     "name": "stderr",
     "output_type": "stream",
     "text": [
      "Average Metric: 58 / 100  (58.0): 100%|██████████| 100/100 [00:08<00:00, 12.07it/s]\n"
     ]
    },
    {
     "name": "stdout",
     "output_type": "stream",
     "text": [
      "Average Metric: 58 / 100  (58.0%)\n"
     ]
    },
    {
     "name": "stderr",
     "output_type": "stream",
     "text": [
      "Average Metric: 53 / 100  (53.0): 100%|██████████| 100/100 [00:07<00:00, 12.88it/s]\n"
     ]
    },
    {
     "name": "stdout",
     "output_type": "stream",
     "text": [
      "Average Metric: 53 / 100  (53.0%)\n"
     ]
    },
    {
     "name": "stderr",
     "output_type": "stream",
     "text": [
      "Average Metric: 56 / 100  (56.0): 100%|██████████| 100/100 [00:06<00:00, 14.88it/s]\n"
     ]
    },
    {
     "name": "stdout",
     "output_type": "stream",
     "text": [
      "Average Metric: 56 / 100  (56.0%)\n"
     ]
    },
    {
     "name": "stderr",
     "output_type": "stream",
     "text": [
      "Average Metric: 44 / 100  (44.0): 100%|██████████| 100/100 [00:07<00:00, 12.88it/s]\n"
     ]
    },
    {
     "name": "stdout",
     "output_type": "stream",
     "text": [
      "Average Metric: 44 / 100  (44.0%)\n"
     ]
    },
    {
     "name": "stderr",
     "output_type": "stream",
     "text": [
      "Average Metric: 53 / 100  (53.0): 100%|██████████| 100/100 [00:07<00:00, 13.42it/s]\n"
     ]
    },
    {
     "name": "stdout",
     "output_type": "stream",
     "text": [
      "Average Metric: 53 / 100  (53.0%)\n"
     ]
    },
    {
     "name": "stderr",
     "output_type": "stream",
     "text": [
      "Average Metric: 1 / 1  (100.0): 100%|██████████| 1/1 [00:00<00:00, 11.67it/s]\n",
      "[I 2024-05-02 16:39:42,061] Trial 1 finished with value: 51.962883654532476 and parameters: {'140734164980576_predictor_instruction': 4, '140734164980576_predictor_demos': 1}. Best is trial 0 with value: 67.38044254104211.\n"
     ]
    },
    {
     "name": "stdout",
     "output_type": "stream",
     "text": [
      "Average Metric: 1 / 1  (100.0%)\n",
      "Starting trial #2\n"
     ]
    },
    {
     "name": "stderr",
     "output_type": "stream",
     "text": [
      "Average Metric: 53 / 100  (53.0): 100%|██████████| 100/100 [00:06<00:00, 15.14it/s]\n"
     ]
    },
    {
     "name": "stdout",
     "output_type": "stream",
     "text": [
      "Average Metric: 53 / 100  (53.0%)\n"
     ]
    },
    {
     "name": "stderr",
     "output_type": "stream",
     "text": [
      "Average Metric: 51 / 100  (51.0): 100%|██████████| 100/100 [00:06<00:00, 15.23it/s]\n"
     ]
    },
    {
     "name": "stdout",
     "output_type": "stream",
     "text": [
      "Average Metric: 51 / 100  (51.0%)\n"
     ]
    },
    {
     "name": "stderr",
     "output_type": "stream",
     "text": [
      "Average Metric: 61 / 100  (61.0): 100%|██████████| 100/100 [00:06<00:00, 15.56it/s]\n"
     ]
    },
    {
     "name": "stdout",
     "output_type": "stream",
     "text": [
      "Average Metric: 61 / 100  (61.0%)\n"
     ]
    },
    {
     "name": "stderr",
     "output_type": "stream",
     "text": [
      "Average Metric: 58 / 100  (58.0): 100%|██████████| 100/100 [00:07<00:00, 13.25it/s]\n"
     ]
    },
    {
     "name": "stdout",
     "output_type": "stream",
     "text": [
      "Average Metric: 58 / 100  (58.0%)\n"
     ]
    },
    {
     "name": "stderr",
     "output_type": "stream",
     "text": [
      "Average Metric: 61 / 100  (61.0): 100%|██████████| 100/100 [00:07<00:00, 12.81it/s]\n"
     ]
    },
    {
     "name": "stdout",
     "output_type": "stream",
     "text": [
      "Average Metric: 61 / 100  (61.0%)\n"
     ]
    },
    {
     "name": "stderr",
     "output_type": "stream",
     "text": [
      "Average Metric: 50 / 100  (50.0): 100%|██████████| 100/100 [00:07<00:00, 13.90it/s]\n"
     ]
    },
    {
     "name": "stdout",
     "output_type": "stream",
     "text": [
      "Average Metric: 50 / 100  (50.0%)\n"
     ]
    },
    {
     "name": "stderr",
     "output_type": "stream",
     "text": [
      "Average Metric: 57 / 100  (57.0): 100%|██████████| 100/100 [00:08<00:00, 12.02it/s]\n"
     ]
    },
    {
     "name": "stdout",
     "output_type": "stream",
     "text": [
      "Average Metric: 57 / 100  (57.0%)\n"
     ]
    },
    {
     "name": "stderr",
     "output_type": "stream",
     "text": [
      "Average Metric: 58 / 100  (58.0): 100%|██████████| 100/100 [00:07<00:00, 14.03it/s]\n"
     ]
    },
    {
     "name": "stdout",
     "output_type": "stream",
     "text": [
      "Average Metric: 58 / 100  (58.0%)\n"
     ]
    },
    {
     "name": "stderr",
     "output_type": "stream",
     "text": [
      "Average Metric: 60 / 100  (60.0): 100%|██████████| 100/100 [00:07<00:00, 12.86it/s]\n"
     ]
    },
    {
     "name": "stdout",
     "output_type": "stream",
     "text": [
      "Average Metric: 60 / 100  (60.0%)\n"
     ]
    },
    {
     "name": "stderr",
     "output_type": "stream",
     "text": [
      "Average Metric: 51 / 100  (51.0): 100%|██████████| 100/100 [00:06<00:00, 14.62it/s]\n"
     ]
    },
    {
     "name": "stdout",
     "output_type": "stream",
     "text": [
      "Average Metric: 51 / 100  (51.0%)\n"
     ]
    },
    {
     "name": "stderr",
     "output_type": "stream",
     "text": [
      "Average Metric: 54 / 100  (54.0): 100%|██████████| 100/100 [00:06<00:00, 15.24it/s]\n"
     ]
    },
    {
     "name": "stdout",
     "output_type": "stream",
     "text": [
      "Average Metric: 54 / 100  (54.0%)\n"
     ]
    },
    {
     "name": "stderr",
     "output_type": "stream",
     "text": [
      "Average Metric: 56 / 100  (56.0): 100%|██████████| 100/100 [00:06<00:00, 15.10it/s]\n"
     ]
    },
    {
     "name": "stdout",
     "output_type": "stream",
     "text": [
      "Average Metric: 56 / 100  (56.0%)\n"
     ]
    },
    {
     "name": "stderr",
     "output_type": "stream",
     "text": [
      "Average Metric: 58 / 100  (58.0): 100%|██████████| 100/100 [00:07<00:00, 14.17it/s]\n"
     ]
    },
    {
     "name": "stdout",
     "output_type": "stream",
     "text": [
      "Average Metric: 58 / 100  (58.0%)\n"
     ]
    },
    {
     "name": "stderr",
     "output_type": "stream",
     "text": [
      "Average Metric: 56 / 100  (56.0): 100%|██████████| 100/100 [00:07<00:00, 12.72it/s]\n"
     ]
    },
    {
     "name": "stdout",
     "output_type": "stream",
     "text": [
      "Average Metric: 56 / 100  (56.0%)\n"
     ]
    },
    {
     "name": "stderr",
     "output_type": "stream",
     "text": [
      "Average Metric: 0 / 1  (0.0): 100%|██████████| 1/1 [00:00<00:00, 12.34it/s]\n",
      "[I 2024-05-02 16:41:22,732] Trial 2 finished with value: 55.96002855103497 and parameters: {'140734164980576_predictor_instruction': 2, '140734164980576_predictor_demos': 3}. Best is trial 0 with value: 67.38044254104211.\n"
     ]
    },
    {
     "name": "stdout",
     "output_type": "stream",
     "text": [
      "Average Metric: 0 / 1  (0.0%)\n",
      "Starting trial #3\n"
     ]
    },
    {
     "name": "stderr",
     "output_type": "stream",
     "text": [
      "Average Metric: 47 / 100  (47.0): 100%|██████████| 100/100 [00:06<00:00, 16.63it/s]\n"
     ]
    },
    {
     "name": "stdout",
     "output_type": "stream",
     "text": [
      "Average Metric: 47 / 100  (47.0%)\n"
     ]
    },
    {
     "name": "stderr",
     "output_type": "stream",
     "text": [
      "Average Metric: 45 / 100  (45.0): 100%|██████████| 100/100 [00:06<00:00, 16.18it/s]\n"
     ]
    },
    {
     "name": "stdout",
     "output_type": "stream",
     "text": [
      "Average Metric: 45 / 100  (45.0%)\n"
     ]
    },
    {
     "name": "stderr",
     "output_type": "stream",
     "text": [
      "Average Metric: 54 / 100  (54.0): 100%|██████████| 100/100 [00:07<00:00, 14.17it/s]\n"
     ]
    },
    {
     "name": "stdout",
     "output_type": "stream",
     "text": [
      "Average Metric: 54 / 100  (54.0%)\n"
     ]
    },
    {
     "name": "stderr",
     "output_type": "stream",
     "text": [
      "Average Metric: 52 / 100  (52.0): 100%|██████████| 100/100 [00:06<00:00, 15.77it/s]\n"
     ]
    },
    {
     "name": "stdout",
     "output_type": "stream",
     "text": [
      "Average Metric: 52 / 100  (52.0%)\n"
     ]
    },
    {
     "name": "stderr",
     "output_type": "stream",
     "text": [
      "Average Metric: 56 / 100  (56.0): 100%|██████████| 100/100 [00:06<00:00, 16.12it/s]\n"
     ]
    },
    {
     "name": "stdout",
     "output_type": "stream",
     "text": [
      "Average Metric: 56 / 100  (56.0%)\n"
     ]
    },
    {
     "name": "stderr",
     "output_type": "stream",
     "text": [
      "Average Metric: 51 / 100  (51.0): 100%|██████████| 100/100 [00:06<00:00, 16.20it/s]\n"
     ]
    },
    {
     "name": "stdout",
     "output_type": "stream",
     "text": [
      "Average Metric: 51 / 100  (51.0%)\n"
     ]
    },
    {
     "name": "stderr",
     "output_type": "stream",
     "text": [
      "Average Metric: 54 / 100  (54.0): 100%|██████████| 100/100 [00:07<00:00, 13.99it/s]\n"
     ]
    },
    {
     "name": "stdout",
     "output_type": "stream",
     "text": [
      "Average Metric: 54 / 100  (54.0%)\n"
     ]
    },
    {
     "name": "stderr",
     "output_type": "stream",
     "text": [
      "Average Metric: 56 / 100  (56.0): 100%|██████████| 100/100 [00:05<00:00, 19.61it/s]\n"
     ]
    },
    {
     "name": "stdout",
     "output_type": "stream",
     "text": [
      "Average Metric: 56 / 100  (56.0%)\n"
     ]
    },
    {
     "name": "stderr",
     "output_type": "stream",
     "text": [
      "Average Metric: 55 / 100  (55.0): 100%|██████████| 100/100 [00:05<00:00, 17.50it/s]\n"
     ]
    },
    {
     "name": "stdout",
     "output_type": "stream",
     "text": [
      "Average Metric: 55 / 100  (55.0%)\n"
     ]
    },
    {
     "name": "stderr",
     "output_type": "stream",
     "text": [
      "Average Metric: 49 / 100  (49.0): 100%|██████████| 100/100 [00:05<00:00, 18.92it/s]\n"
     ]
    },
    {
     "name": "stdout",
     "output_type": "stream",
     "text": [
      "Average Metric: 49 / 100  (49.0%)\n"
     ]
    },
    {
     "name": "stderr",
     "output_type": "stream",
     "text": [
      "Average Metric: 57 / 100  (57.0): 100%|██████████| 100/100 [00:06<00:00, 16.48it/s]\n"
     ]
    },
    {
     "name": "stdout",
     "output_type": "stream",
     "text": [
      "Average Metric: 57 / 100  (57.0%)\n"
     ]
    },
    {
     "name": "stderr",
     "output_type": "stream",
     "text": [
      "Average Metric: 52 / 100  (52.0): 100%|██████████| 100/100 [00:06<00:00, 14.69it/s]\n"
     ]
    },
    {
     "name": "stdout",
     "output_type": "stream",
     "text": [
      "Average Metric: 52 / 100  (52.0%)\n"
     ]
    },
    {
     "name": "stderr",
     "output_type": "stream",
     "text": [
      "Average Metric: 59 / 100  (59.0): 100%|██████████| 100/100 [00:05<00:00, 17.42it/s]\n"
     ]
    },
    {
     "name": "stdout",
     "output_type": "stream",
     "text": [
      "Average Metric: 59 / 100  (59.0%)\n"
     ]
    },
    {
     "name": "stderr",
     "output_type": "stream",
     "text": [
      "Average Metric: 59 / 100  (59.0): 100%|██████████| 100/100 [00:05<00:00, 17.08it/s]\n"
     ]
    },
    {
     "name": "stdout",
     "output_type": "stream",
     "text": [
      "Average Metric: 59 / 100  (59.0%)\n"
     ]
    },
    {
     "name": "stderr",
     "output_type": "stream",
     "text": [
      "Average Metric: 1 / 1  (100.0): 100%|██████████| 1/1 [00:00<00:00, 13.96it/s]\n",
      "[I 2024-05-02 16:42:48,757] Trial 3 finished with value: 53.319057815845824 and parameters: {'140734164980576_predictor_instruction': 2, '140734164980576_predictor_demos': 6}. Best is trial 0 with value: 67.38044254104211.\n"
     ]
    },
    {
     "name": "stdout",
     "output_type": "stream",
     "text": [
      "Average Metric: 1 / 1  (100.0%)\n",
      "Starting trial #4\n"
     ]
    },
    {
     "name": "stderr",
     "output_type": "stream",
     "text": [
      "Average Metric: 43 / 100  (43.0): 100%|██████████| 100/100 [00:09<00:00, 10.97it/s]\n"
     ]
    },
    {
     "name": "stdout",
     "output_type": "stream",
     "text": [
      "Average Metric: 43 / 100  (43.0%)\n"
     ]
    },
    {
     "name": "stderr",
     "output_type": "stream",
     "text": [
      "Average Metric: 38 / 100  (38.0): 100%|██████████| 100/100 [00:08<00:00, 12.32it/s]\n"
     ]
    },
    {
     "name": "stdout",
     "output_type": "stream",
     "text": [
      "Average Metric: 38 / 100  (38.0%)\n"
     ]
    },
    {
     "name": "stderr",
     "output_type": "stream",
     "text": [
      "Average Metric: 57 / 100  (57.0): 100%|██████████| 100/100 [00:08<00:00, 11.60it/s]\n"
     ]
    },
    {
     "name": "stdout",
     "output_type": "stream",
     "text": [
      "Average Metric: 57 / 100  (57.0%)\n"
     ]
    },
    {
     "name": "stderr",
     "output_type": "stream",
     "text": [
      "Average Metric: 53 / 100  (53.0): 100%|██████████| 100/100 [00:08<00:00, 11.93it/s]\n"
     ]
    },
    {
     "name": "stdout",
     "output_type": "stream",
     "text": [
      "Average Metric: 53 / 100  (53.0%)\n"
     ]
    },
    {
     "name": "stderr",
     "output_type": "stream",
     "text": [
      "Average Metric: 60 / 100  (60.0): 100%|██████████| 100/100 [00:07<00:00, 12.92it/s]\n"
     ]
    },
    {
     "name": "stdout",
     "output_type": "stream",
     "text": [
      "Average Metric: 60 / 100  (60.0%)\n"
     ]
    },
    {
     "name": "stderr",
     "output_type": "stream",
     "text": [
      "Average Metric: 46 / 100  (46.0): 100%|██████████| 100/100 [00:07<00:00, 13.18it/s]\n"
     ]
    },
    {
     "name": "stdout",
     "output_type": "stream",
     "text": [
      "Average Metric: 46 / 100  (46.0%)\n"
     ]
    },
    {
     "name": "stderr",
     "output_type": "stream",
     "text": [
      "Average Metric: 52 / 100  (52.0): 100%|██████████| 100/100 [01:25<00:00,  1.17it/s]\n"
     ]
    },
    {
     "name": "stdout",
     "output_type": "stream",
     "text": [
      "Average Metric: 52 / 100  (52.0%)\n"
     ]
    },
    {
     "name": "stderr",
     "output_type": "stream",
     "text": [
      "Average Metric: 51 / 100  (51.0): 100%|██████████| 100/100 [00:07<00:00, 12.89it/s]\n"
     ]
    },
    {
     "name": "stdout",
     "output_type": "stream",
     "text": [
      "Average Metric: 51 / 100  (51.0%)\n"
     ]
    },
    {
     "name": "stderr",
     "output_type": "stream",
     "text": [
      "Average Metric: 50 / 100  (50.0): 100%|██████████| 100/100 [00:07<00:00, 13.28it/s]\n"
     ]
    },
    {
     "name": "stdout",
     "output_type": "stream",
     "text": [
      "Average Metric: 50 / 100  (50.0%)\n"
     ]
    },
    {
     "name": "stderr",
     "output_type": "stream",
     "text": [
      "Average Metric: 40 / 100  (40.0): 100%|██████████| 100/100 [00:07<00:00, 13.28it/s]\n"
     ]
    },
    {
     "name": "stdout",
     "output_type": "stream",
     "text": [
      "Average Metric: 40 / 100  (40.0%)\n"
     ]
    },
    {
     "name": "stderr",
     "output_type": "stream",
     "text": [
      "Average Metric: 45 / 100  (45.0): 100%|██████████| 100/100 [00:07<00:00, 13.34it/s]\n"
     ]
    },
    {
     "name": "stdout",
     "output_type": "stream",
     "text": [
      "Average Metric: 45 / 100  (45.0%)\n"
     ]
    },
    {
     "name": "stderr",
     "output_type": "stream",
     "text": [
      "Average Metric: 51 / 100  (51.0): 100%|██████████| 100/100 [00:07<00:00, 13.31it/s]\n"
     ]
    },
    {
     "name": "stdout",
     "output_type": "stream",
     "text": [
      "Average Metric: 51 / 100  (51.0%)\n"
     ]
    },
    {
     "name": "stderr",
     "output_type": "stream",
     "text": [
      "Average Metric: 53 / 100  (53.0): 100%|██████████| 100/100 [00:07<00:00, 13.29it/s]\n"
     ]
    },
    {
     "name": "stdout",
     "output_type": "stream",
     "text": [
      "Average Metric: 53 / 100  (53.0%)\n"
     ]
    },
    {
     "name": "stderr",
     "output_type": "stream",
     "text": [
      "Average Metric: 49 / 100  (49.0): 100%|██████████| 100/100 [00:07<00:00, 13.04it/s]\n"
     ]
    },
    {
     "name": "stdout",
     "output_type": "stream",
     "text": [
      "Average Metric: 49 / 100  (49.0%)\n"
     ]
    },
    {
     "name": "stderr",
     "output_type": "stream",
     "text": [
      "Average Metric: 0 / 1  (0.0): 100%|██████████| 1/1 [00:00<00:00, 10.77it/s]\n",
      "[I 2024-05-02 16:45:57,136] Trial 4 finished with value: 49.10778015703069 and parameters: {'140734164980576_predictor_instruction': 5, '140734164980576_predictor_demos': 1}. Best is trial 0 with value: 67.38044254104211.\n"
     ]
    },
    {
     "name": "stdout",
     "output_type": "stream",
     "text": [
      "Average Metric: 0 / 1  (0.0%)\n",
      "Starting trial #5\n"
     ]
    },
    {
     "name": "stderr",
     "output_type": "stream",
     "text": [
      "Average Metric: 63 / 100  (63.0): 100%|██████████| 100/100 [00:01<00:00, 75.14it/s]\n"
     ]
    },
    {
     "name": "stdout",
     "output_type": "stream",
     "text": [
      "Average Metric: 63 / 100  (63.0%)\n"
     ]
    },
    {
     "name": "stderr",
     "output_type": "stream",
     "text": [
      "Average Metric: 61 / 100  (61.0): 100%|██████████| 100/100 [00:01<00:00, 76.35it/s]\n"
     ]
    },
    {
     "name": "stdout",
     "output_type": "stream",
     "text": [
      "Average Metric: 61 / 100  (61.0%)\n"
     ]
    },
    {
     "name": "stderr",
     "output_type": "stream",
     "text": [
      "Average Metric: 67 / 100  (67.0): 100%|██████████| 100/100 [00:01<00:00, 72.05it/s]\n"
     ]
    },
    {
     "name": "stdout",
     "output_type": "stream",
     "text": [
      "Average Metric: 67 / 100  (67.0%)\n"
     ]
    },
    {
     "name": "stderr",
     "output_type": "stream",
     "text": [
      "Average Metric: 72 / 100  (72.0): 100%|██████████| 100/100 [00:01<00:00, 76.54it/s]\n"
     ]
    },
    {
     "name": "stdout",
     "output_type": "stream",
     "text": [
      "Average Metric: 72 / 100  (72.0%)\n"
     ]
    },
    {
     "name": "stderr",
     "output_type": "stream",
     "text": [
      "Average Metric: 60 / 100  (60.0): 100%|██████████| 100/100 [00:01<00:00, 77.10it/s]\n"
     ]
    },
    {
     "name": "stdout",
     "output_type": "stream",
     "text": [
      "Average Metric: 60 / 100  (60.0%)\n"
     ]
    },
    {
     "name": "stderr",
     "output_type": "stream",
     "text": [
      "Average Metric: 54 / 100  (54.0): 100%|██████████| 100/100 [00:01<00:00, 71.33it/s]\n"
     ]
    },
    {
     "name": "stdout",
     "output_type": "stream",
     "text": [
      "Average Metric: 54 / 100  (54.0%)\n"
     ]
    },
    {
     "name": "stderr",
     "output_type": "stream",
     "text": [
      "Average Metric: 69 / 100  (69.0): 100%|██████████| 100/100 [00:01<00:00, 59.86it/s]\n"
     ]
    },
    {
     "name": "stdout",
     "output_type": "stream",
     "text": [
      "Average Metric: 69 / 100  (69.0%)\n"
     ]
    },
    {
     "name": "stderr",
     "output_type": "stream",
     "text": [
      "Average Metric: 70 / 100  (70.0): 100%|██████████| 100/100 [00:01<00:00, 77.32it/s]\n"
     ]
    },
    {
     "name": "stdout",
     "output_type": "stream",
     "text": [
      "Average Metric: 70 / 100  (70.0%)\n"
     ]
    },
    {
     "name": "stderr",
     "output_type": "stream",
     "text": [
      "Average Metric: 68 / 100  (68.0): 100%|██████████| 100/100 [00:01<00:00, 75.82it/s]\n"
     ]
    },
    {
     "name": "stdout",
     "output_type": "stream",
     "text": [
      "Average Metric: 68 / 100  (68.0%)\n"
     ]
    },
    {
     "name": "stderr",
     "output_type": "stream",
     "text": [
      "Average Metric: 59 / 100  (59.0): 100%|██████████| 100/100 [00:01<00:00, 81.25it/s]\n"
     ]
    },
    {
     "name": "stdout",
     "output_type": "stream",
     "text": [
      "Average Metric: 59 / 100  (59.0%)\n"
     ]
    },
    {
     "name": "stderr",
     "output_type": "stream",
     "text": [
      "Average Metric: 63 / 100  (63.0): 100%|██████████| 100/100 [00:01<00:00, 66.54it/s]\n"
     ]
    },
    {
     "name": "stdout",
     "output_type": "stream",
     "text": [
      "Average Metric: 63 / 100  (63.0%)\n"
     ]
    },
    {
     "name": "stderr",
     "output_type": "stream",
     "text": [
      "Average Metric: 66 / 100  (66.0): 100%|██████████| 100/100 [00:01<00:00, 76.57it/s]\n"
     ]
    },
    {
     "name": "stdout",
     "output_type": "stream",
     "text": [
      "Average Metric: 66 / 100  (66.0%)\n"
     ]
    },
    {
     "name": "stderr",
     "output_type": "stream",
     "text": [
      "Average Metric: 60 / 100  (60.0): 100%|██████████| 100/100 [00:01<00:00, 73.06it/s]\n"
     ]
    },
    {
     "name": "stdout",
     "output_type": "stream",
     "text": [
      "Average Metric: 60 / 100  (60.0%)\n"
     ]
    },
    {
     "name": "stderr",
     "output_type": "stream",
     "text": [
      "Average Metric: 65 / 100  (65.0): 100%|██████████| 100/100 [00:01<00:00, 72.92it/s]\n"
     ]
    },
    {
     "name": "stdout",
     "output_type": "stream",
     "text": [
      "Average Metric: 65 / 100  (65.0%)\n"
     ]
    },
    {
     "name": "stderr",
     "output_type": "stream",
     "text": [
      "Average Metric: 1 / 1  (100.0): 100%|██████████| 1/1 [00:00<00:00, 25.13it/s]\n",
      "[I 2024-05-02 16:46:16,524] Trial 5 finished with value: 64.09707351891507 and parameters: {'140734164980576_predictor_instruction': 0, '140734164980576_predictor_demos': 0}. Best is trial 0 with value: 67.38044254104211.\n"
     ]
    },
    {
     "name": "stdout",
     "output_type": "stream",
     "text": [
      "Average Metric: 1 / 1  (100.0%)\n",
      "Starting trial #6\n"
     ]
    },
    {
     "name": "stderr",
     "output_type": "stream",
     "text": [
      "Average Metric: 0 / 100  (0.0): 100%|██████████| 100/100 [00:02<00:00, 41.84it/s]\n",
      "[I 2024-05-02 16:46:18,935] Trial 6 pruned. \n"
     ]
    },
    {
     "name": "stdout",
     "output_type": "stream",
     "text": [
      "Average Metric: 0 / 100  (0.0%)\n",
      "Trial pruned.\n",
      "Starting trial #7\n"
     ]
    },
    {
     "name": "stderr",
     "output_type": "stream",
     "text": [
      "Average Metric: 66 / 100  (66.0): 100%|██████████| 100/100 [00:06<00:00, 15.88it/s]\n"
     ]
    },
    {
     "name": "stdout",
     "output_type": "stream",
     "text": [
      "Average Metric: 66 / 100  (66.0%)\n"
     ]
    },
    {
     "name": "stderr",
     "output_type": "stream",
     "text": [
      "Average Metric: 78 / 100  (78.0): 100%|██████████| 100/100 [00:06<00:00, 16.51it/s]\n"
     ]
    },
    {
     "name": "stdout",
     "output_type": "stream",
     "text": [
      "Average Metric: 78 / 100  (78.0%)\n"
     ]
    },
    {
     "name": "stderr",
     "output_type": "stream",
     "text": [
      "Average Metric: 71 / 100  (71.0): 100%|██████████| 100/100 [00:06<00:00, 16.27it/s]\n"
     ]
    },
    {
     "name": "stdout",
     "output_type": "stream",
     "text": [
      "Average Metric: 71 / 100  (71.0%)\n"
     ]
    },
    {
     "name": "stderr",
     "output_type": "stream",
     "text": [
      "Average Metric: 72 / 100  (72.0): 100%|██████████| 100/100 [00:06<00:00, 16.26it/s]\n"
     ]
    },
    {
     "name": "stdout",
     "output_type": "stream",
     "text": [
      "Average Metric: 72 / 100  (72.0%)\n"
     ]
    },
    {
     "name": "stderr",
     "output_type": "stream",
     "text": [
      "Average Metric: 68 / 100  (68.0): 100%|██████████| 100/100 [00:06<00:00, 15.55it/s]\n"
     ]
    },
    {
     "name": "stdout",
     "output_type": "stream",
     "text": [
      "Average Metric: 68 / 100  (68.0%)\n"
     ]
    },
    {
     "name": "stderr",
     "output_type": "stream",
     "text": [
      "Average Metric: 66 / 100  (66.0): 100%|██████████| 100/100 [00:05<00:00, 16.75it/s]\n"
     ]
    },
    {
     "name": "stdout",
     "output_type": "stream",
     "text": [
      "Average Metric: 66 / 100  (66.0%)\n"
     ]
    },
    {
     "name": "stderr",
     "output_type": "stream",
     "text": [
      "Average Metric: 71 / 100  (71.0): 100%|██████████| 100/100 [00:06<00:00, 15.74it/s]\n"
     ]
    },
    {
     "name": "stdout",
     "output_type": "stream",
     "text": [
      "Average Metric: 71 / 100  (71.0%)\n"
     ]
    },
    {
     "name": "stderr",
     "output_type": "stream",
     "text": [
      "Average Metric: 73 / 100  (73.0): 100%|██████████| 100/100 [00:06<00:00, 16.54it/s]\n"
     ]
    },
    {
     "name": "stdout",
     "output_type": "stream",
     "text": [
      "Average Metric: 73 / 100  (73.0%)\n"
     ]
    },
    {
     "name": "stderr",
     "output_type": "stream",
     "text": [
      "Average Metric: 72 / 100  (72.0): 100%|██████████| 100/100 [00:06<00:00, 16.30it/s]\n"
     ]
    },
    {
     "name": "stdout",
     "output_type": "stream",
     "text": [
      "Average Metric: 72 / 100  (72.0%)\n"
     ]
    },
    {
     "name": "stderr",
     "output_type": "stream",
     "text": [
      "Average Metric: 74 / 100  (74.0): 100%|██████████| 100/100 [00:06<00:00, 16.22it/s]\n"
     ]
    },
    {
     "name": "stdout",
     "output_type": "stream",
     "text": [
      "Average Metric: 74 / 100  (74.0%)\n"
     ]
    },
    {
     "name": "stderr",
     "output_type": "stream",
     "text": [
      "Average Metric: 71 / 100  (71.0): 100%|██████████| 100/100 [00:06<00:00, 16.55it/s]\n"
     ]
    },
    {
     "name": "stdout",
     "output_type": "stream",
     "text": [
      "Average Metric: 71 / 100  (71.0%)\n"
     ]
    },
    {
     "name": "stderr",
     "output_type": "stream",
     "text": [
      "Average Metric: 73 / 100  (73.0): 100%|██████████| 100/100 [00:06<00:00, 16.21it/s]\n"
     ]
    },
    {
     "name": "stdout",
     "output_type": "stream",
     "text": [
      "Average Metric: 73 / 100  (73.0%)\n"
     ]
    },
    {
     "name": "stderr",
     "output_type": "stream",
     "text": [
      "Average Metric: 68 / 100  (68.0): 100%|██████████| 100/100 [00:06<00:00, 16.29it/s]\n"
     ]
    },
    {
     "name": "stdout",
     "output_type": "stream",
     "text": [
      "Average Metric: 68 / 100  (68.0%)\n"
     ]
    },
    {
     "name": "stderr",
     "output_type": "stream",
     "text": [
      "Average Metric: 62 / 100  (62.0): 100%|██████████| 100/100 [00:05<00:00, 16.69it/s]\n"
     ]
    },
    {
     "name": "stdout",
     "output_type": "stream",
     "text": [
      "Average Metric: 62 / 100  (62.0%)\n"
     ]
    },
    {
     "name": "stderr",
     "output_type": "stream",
     "text": [
      "Average Metric: 1 / 1  (100.0): 100%|██████████| 1/1 [00:00<00:00, 13.44it/s]\n",
      "[I 2024-05-02 16:47:45,451] Trial 7 finished with value: 70.378301213419 and parameters: {'140734164980576_predictor_instruction': 0, '140734164980576_predictor_demos': 1}. Best is trial 7 with value: 70.378301213419.\n"
     ]
    },
    {
     "name": "stdout",
     "output_type": "stream",
     "text": [
      "Average Metric: 1 / 1  (100.0%)\n",
      "Starting trial #8\n"
     ]
    },
    {
     "name": "stderr",
     "output_type": "stream",
     "text": [
      "Average Metric: 46 / 100  (46.0): 100%|██████████| 100/100 [00:06<00:00, 14.43it/s]\n",
      "[I 2024-05-02 16:47:52,403] Trial 8 pruned. \n"
     ]
    },
    {
     "name": "stdout",
     "output_type": "stream",
     "text": [
      "Average Metric: 46 / 100  (46.0%)\n",
      "Trial pruned.\n",
      "Starting trial #9\n"
     ]
    },
    {
     "name": "stderr",
     "output_type": "stream",
     "text": [
      "Average Metric: 48 / 100  (48.0): 100%|██████████| 100/100 [00:11<00:00,  8.93it/s]\n",
      "[I 2024-05-02 16:48:03,629] Trial 9 pruned. \n"
     ]
    },
    {
     "name": "stdout",
     "output_type": "stream",
     "text": [
      "Average Metric: 48 / 100  (48.0%)\n",
      "Trial pruned.\n",
      "Starting trial #10\n"
     ]
    },
    {
     "name": "stderr",
     "output_type": "stream",
     "text": [
      "Average Metric: 46 / 100  (46.0): 100%|██████████| 100/100 [00:07<00:00, 13.59it/s]\n",
      "[I 2024-05-02 16:48:11,016] Trial 10 pruned. \n"
     ]
    },
    {
     "name": "stdout",
     "output_type": "stream",
     "text": [
      "Average Metric: 46 / 100  (46.0%)\n",
      "Trial pruned.\n",
      "Starting trial #11\n"
     ]
    },
    {
     "name": "stderr",
     "output_type": "stream",
     "text": [
      "Average Metric: 63 / 100  (63.0): 100%|██████████| 100/100 [00:06<00:00, 15.04it/s]\n"
     ]
    },
    {
     "name": "stdout",
     "output_type": "stream",
     "text": [
      "Average Metric: 63 / 100  (63.0%)\n"
     ]
    },
    {
     "name": "stderr",
     "output_type": "stream",
     "text": [
      "Average Metric: 71 / 100  (71.0): 100%|██████████| 100/100 [00:06<00:00, 14.97it/s]\n"
     ]
    },
    {
     "name": "stdout",
     "output_type": "stream",
     "text": [
      "Average Metric: 71 / 100  (71.0%)\n"
     ]
    },
    {
     "name": "stderr",
     "output_type": "stream",
     "text": [
      "Average Metric: 62 / 100  (62.0): 100%|██████████| 100/100 [00:06<00:00, 15.31it/s]\n"
     ]
    },
    {
     "name": "stdout",
     "output_type": "stream",
     "text": [
      "Average Metric: 62 / 100  (62.0%)\n"
     ]
    },
    {
     "name": "stderr",
     "output_type": "stream",
     "text": [
      "Average Metric: 67 / 100  (67.0): 100%|██████████| 100/100 [00:06<00:00, 15.81it/s]\n"
     ]
    },
    {
     "name": "stdout",
     "output_type": "stream",
     "text": [
      "Average Metric: 67 / 100  (67.0%)\n"
     ]
    },
    {
     "name": "stderr",
     "output_type": "stream",
     "text": [
      "Average Metric: 60 / 100  (60.0): 100%|██████████| 100/100 [00:06<00:00, 15.64it/s]\n"
     ]
    },
    {
     "name": "stdout",
     "output_type": "stream",
     "text": [
      "Average Metric: 60 / 100  (60.0%)\n"
     ]
    },
    {
     "name": "stderr",
     "output_type": "stream",
     "text": [
      "Average Metric: 54 / 100  (54.0): 100%|██████████| 100/100 [00:06<00:00, 14.80it/s]\n"
     ]
    },
    {
     "name": "stdout",
     "output_type": "stream",
     "text": [
      "Average Metric: 54 / 100  (54.0%)\n"
     ]
    },
    {
     "name": "stderr",
     "output_type": "stream",
     "text": [
      "Average Metric: 65 / 100  (65.0): 100%|██████████| 100/100 [00:07<00:00, 13.21it/s]\n"
     ]
    },
    {
     "name": "stdout",
     "output_type": "stream",
     "text": [
      "Average Metric: 65 / 100  (65.0%)\n"
     ]
    },
    {
     "name": "stderr",
     "output_type": "stream",
     "text": [
      "Average Metric: 65 / 100  (65.0): 100%|██████████| 100/100 [00:07<00:00, 13.83it/s]\n"
     ]
    },
    {
     "name": "stdout",
     "output_type": "stream",
     "text": [
      "Average Metric: 65 / 100  (65.0%)\n"
     ]
    },
    {
     "name": "stderr",
     "output_type": "stream",
     "text": [
      "Average Metric: 70 / 100  (70.0): 100%|██████████| 100/100 [00:07<00:00, 12.59it/s]\n"
     ]
    },
    {
     "name": "stdout",
     "output_type": "stream",
     "text": [
      "Average Metric: 70 / 100  (70.0%)\n"
     ]
    },
    {
     "name": "stderr",
     "output_type": "stream",
     "text": [
      "Average Metric: 72 / 100  (72.0): 100%|██████████| 100/100 [00:07<00:00, 14.28it/s]\n"
     ]
    },
    {
     "name": "stdout",
     "output_type": "stream",
     "text": [
      "Average Metric: 72 / 100  (72.0%)\n"
     ]
    },
    {
     "name": "stderr",
     "output_type": "stream",
     "text": [
      "Average Metric: 63 / 100  (63.0): 100%|██████████| 100/100 [00:07<00:00, 13.54it/s]\n"
     ]
    },
    {
     "name": "stdout",
     "output_type": "stream",
     "text": [
      "Average Metric: 63 / 100  (63.0%)\n"
     ]
    },
    {
     "name": "stderr",
     "output_type": "stream",
     "text": [
      "Average Metric: 68 / 100  (68.0): 100%|██████████| 100/100 [00:06<00:00, 14.48it/s]\n"
     ]
    },
    {
     "name": "stdout",
     "output_type": "stream",
     "text": [
      "Average Metric: 68 / 100  (68.0%)\n"
     ]
    },
    {
     "name": "stderr",
     "output_type": "stream",
     "text": [
      "Average Metric: 59 / 100  (59.0): 100%|██████████| 100/100 [00:06<00:00, 15.62it/s]\n"
     ]
    },
    {
     "name": "stdout",
     "output_type": "stream",
     "text": [
      "Average Metric: 59 / 100  (59.0%)\n"
     ]
    },
    {
     "name": "stderr",
     "output_type": "stream",
     "text": [
      "Average Metric: 66 / 100  (66.0): 100%|██████████| 100/100 [00:06<00:00, 15.62it/s]\n"
     ]
    },
    {
     "name": "stdout",
     "output_type": "stream",
     "text": [
      "Average Metric: 66 / 100  (66.0%)\n"
     ]
    },
    {
     "name": "stderr",
     "output_type": "stream",
     "text": [
      "Average Metric: 1 / 1  (100.0): 100%|██████████| 1/1 [00:00<00:00, 12.71it/s]\n",
      "[I 2024-05-02 16:49:47,549] Trial 11 finished with value: 64.66809421841542 and parameters: {'140734164980576_predictor_instruction': 1, '140734164980576_predictor_demos': 4}. Best is trial 7 with value: 70.378301213419.\n"
     ]
    },
    {
     "name": "stdout",
     "output_type": "stream",
     "text": [
      "Average Metric: 1 / 1  (100.0%)\n",
      "Starting trial #12\n"
     ]
    },
    {
     "name": "stderr",
     "output_type": "stream",
     "text": [
      "Average Metric: 70 / 100  (70.0): 100%|██████████| 100/100 [00:07<00:00, 13.55it/s]\n"
     ]
    },
    {
     "name": "stdout",
     "output_type": "stream",
     "text": [
      "Average Metric: 70 / 100  (70.0%)\n"
     ]
    },
    {
     "name": "stderr",
     "output_type": "stream",
     "text": [
      "Average Metric: 84 / 100  (84.0): 100%|██████████| 100/100 [00:07<00:00, 14.04it/s]\n"
     ]
    },
    {
     "name": "stdout",
     "output_type": "stream",
     "text": [
      "Average Metric: 84 / 100  (84.0%)\n"
     ]
    },
    {
     "name": "stderr",
     "output_type": "stream",
     "text": [
      "Average Metric: 73 / 100  (73.0): 100%|██████████| 100/100 [00:07<00:00, 14.06it/s]\n"
     ]
    },
    {
     "name": "stdout",
     "output_type": "stream",
     "text": [
      "Average Metric: 73 / 100  (73.0%)\n"
     ]
    },
    {
     "name": "stderr",
     "output_type": "stream",
     "text": [
      "Average Metric: 73 / 100  (73.0): 100%|██████████| 100/100 [00:07<00:00, 14.07it/s]\n"
     ]
    },
    {
     "name": "stdout",
     "output_type": "stream",
     "text": [
      "Average Metric: 73 / 100  (73.0%)\n"
     ]
    },
    {
     "name": "stderr",
     "output_type": "stream",
     "text": [
      "Average Metric: 69 / 100  (69.0): 100%|██████████| 100/100 [00:07<00:00, 14.11it/s]\n"
     ]
    },
    {
     "name": "stdout",
     "output_type": "stream",
     "text": [
      "Average Metric: 69 / 100  (69.0%)\n"
     ]
    },
    {
     "name": "stderr",
     "output_type": "stream",
     "text": [
      "Average Metric: 67 / 100  (67.0): 100%|██████████| 100/100 [00:06<00:00, 14.30it/s]\n"
     ]
    },
    {
     "name": "stdout",
     "output_type": "stream",
     "text": [
      "Average Metric: 67 / 100  (67.0%)\n"
     ]
    },
    {
     "name": "stderr",
     "output_type": "stream",
     "text": [
      "Average Metric: 75 / 100  (75.0): 100%|██████████| 100/100 [00:09<00:00, 10.93it/s]\n"
     ]
    },
    {
     "name": "stdout",
     "output_type": "stream",
     "text": [
      "Average Metric: 75 / 100  (75.0%)\n"
     ]
    },
    {
     "name": "stderr",
     "output_type": "stream",
     "text": [
      "Average Metric: 75 / 100  (75.0): 100%|██████████| 100/100 [00:07<00:00, 13.64it/s]\n"
     ]
    },
    {
     "name": "stdout",
     "output_type": "stream",
     "text": [
      "Average Metric: 75 / 100  (75.0%)\n"
     ]
    },
    {
     "name": "stderr",
     "output_type": "stream",
     "text": [
      "Average Metric: 74 / 100  (74.0): 100%|██████████| 100/100 [00:08<00:00, 12.37it/s]\n"
     ]
    },
    {
     "name": "stdout",
     "output_type": "stream",
     "text": [
      "Average Metric: 74 / 100  (74.0%)\n"
     ]
    },
    {
     "name": "stderr",
     "output_type": "stream",
     "text": [
      "Average Metric: 74 / 100  (74.0): 100%|██████████| 100/100 [00:08<00:00, 12.20it/s]\n"
     ]
    },
    {
     "name": "stdout",
     "output_type": "stream",
     "text": [
      "Average Metric: 74 / 100  (74.0%)\n"
     ]
    },
    {
     "name": "stderr",
     "output_type": "stream",
     "text": [
      "Average Metric: 73 / 100  (73.0): 100%|██████████| 100/100 [00:07<00:00, 12.69it/s]\n"
     ]
    },
    {
     "name": "stdout",
     "output_type": "stream",
     "text": [
      "Average Metric: 73 / 100  (73.0%)\n"
     ]
    },
    {
     "name": "stderr",
     "output_type": "stream",
     "text": [
      "Average Metric: 68 / 100  (68.0): 100%|██████████| 100/100 [00:06<00:00, 14.74it/s]\n"
     ]
    },
    {
     "name": "stdout",
     "output_type": "stream",
     "text": [
      "Average Metric: 68 / 100  (68.0%)\n"
     ]
    },
    {
     "name": "stderr",
     "output_type": "stream",
     "text": [
      "Average Metric: 60 / 100  (60.0): 100%|██████████| 100/100 [00:07<00:00, 13.95it/s]\n"
     ]
    },
    {
     "name": "stdout",
     "output_type": "stream",
     "text": [
      "Average Metric: 60 / 100  (60.0%)\n"
     ]
    },
    {
     "name": "stderr",
     "output_type": "stream",
     "text": [
      "Average Metric: 67 / 100  (67.0): 100%|██████████| 100/100 [00:06<00:00, 14.57it/s]\n"
     ]
    },
    {
     "name": "stdout",
     "output_type": "stream",
     "text": [
      "Average Metric: 67 / 100  (67.0%)\n"
     ]
    },
    {
     "name": "stderr",
     "output_type": "stream",
     "text": [
      "Average Metric: 1 / 1  (100.0): 100%|██████████| 1/1 [00:00<00:00, 11.83it/s]\n",
      "[I 2024-05-02 16:51:32,184] Trial 12 finished with value: 71.59172019985725 and parameters: {'140734164980576_predictor_instruction': 0, '140734164980576_predictor_demos': 7}. Best is trial 12 with value: 71.59172019985725.\n"
     ]
    },
    {
     "name": "stdout",
     "output_type": "stream",
     "text": [
      "Average Metric: 1 / 1  (100.0%)\n",
      "Starting trial #13\n"
     ]
    },
    {
     "name": "stderr",
     "output_type": "stream",
     "text": [
      "Average Metric: 70 / 100  (70.0): 100%|██████████| 100/100 [00:00<00:00, 728.24it/s]\n"
     ]
    },
    {
     "name": "stdout",
     "output_type": "stream",
     "text": [
      "Average Metric: 70 / 100  (70.0%)\n"
     ]
    },
    {
     "name": "stderr",
     "output_type": "stream",
     "text": [
      "Average Metric: 84 / 100  (84.0): 100%|██████████| 100/100 [00:00<00:00, 726.07it/s]\n"
     ]
    },
    {
     "name": "stdout",
     "output_type": "stream",
     "text": [
      "Average Metric: 84 / 100  (84.0%)\n"
     ]
    },
    {
     "name": "stderr",
     "output_type": "stream",
     "text": [
      "Average Metric: 73 / 100  (73.0): 100%|██████████| 100/100 [00:00<00:00, 724.95it/s]\n"
     ]
    },
    {
     "name": "stdout",
     "output_type": "stream",
     "text": [
      "Average Metric: 73 / 100  (73.0%)\n"
     ]
    },
    {
     "name": "stderr",
     "output_type": "stream",
     "text": [
      "Average Metric: 73 / 100  (73.0): 100%|██████████| 100/100 [00:00<00:00, 736.14it/s]\n"
     ]
    },
    {
     "name": "stdout",
     "output_type": "stream",
     "text": [
      "Average Metric: 73 / 100  (73.0%)\n"
     ]
    },
    {
     "name": "stderr",
     "output_type": "stream",
     "text": [
      "Average Metric: 69 / 100  (69.0): 100%|██████████| 100/100 [00:00<00:00, 710.33it/s]\n"
     ]
    },
    {
     "name": "stdout",
     "output_type": "stream",
     "text": [
      "Average Metric: 69 / 100  (69.0%)\n"
     ]
    },
    {
     "name": "stderr",
     "output_type": "stream",
     "text": [
      "Average Metric: 67 / 100  (67.0): 100%|██████████| 100/100 [00:00<00:00, 748.62it/s]\n"
     ]
    },
    {
     "name": "stdout",
     "output_type": "stream",
     "text": [
      "Average Metric: 67 / 100  (67.0%)\n"
     ]
    },
    {
     "name": "stderr",
     "output_type": "stream",
     "text": [
      "Average Metric: 75 / 100  (75.0): 100%|██████████| 100/100 [00:00<00:00, 727.32it/s]\n"
     ]
    },
    {
     "name": "stdout",
     "output_type": "stream",
     "text": [
      "Average Metric: 75 / 100  (75.0%)\n"
     ]
    },
    {
     "name": "stderr",
     "output_type": "stream",
     "text": [
      "Average Metric: 75 / 100  (75.0): 100%|██████████| 100/100 [00:00<00:00, 745.45it/s]\n"
     ]
    },
    {
     "name": "stdout",
     "output_type": "stream",
     "text": [
      "Average Metric: 75 / 100  (75.0%)\n"
     ]
    },
    {
     "name": "stderr",
     "output_type": "stream",
     "text": [
      "Average Metric: 74 / 100  (74.0): 100%|██████████| 100/100 [00:00<00:00, 737.70it/s]\n"
     ]
    },
    {
     "name": "stdout",
     "output_type": "stream",
     "text": [
      "Average Metric: 74 / 100  (74.0%)\n"
     ]
    },
    {
     "name": "stderr",
     "output_type": "stream",
     "text": [
      "Average Metric: 74 / 100  (74.0): 100%|██████████| 100/100 [00:00<00:00, 742.24it/s]\n"
     ]
    },
    {
     "name": "stdout",
     "output_type": "stream",
     "text": [
      "Average Metric: 74 / 100  (74.0%)\n"
     ]
    },
    {
     "name": "stderr",
     "output_type": "stream",
     "text": [
      "Average Metric: 73 / 100  (73.0): 100%|██████████| 100/100 [00:00<00:00, 728.09it/s]\n"
     ]
    },
    {
     "name": "stdout",
     "output_type": "stream",
     "text": [
      "Average Metric: 73 / 100  (73.0%)\n"
     ]
    },
    {
     "name": "stderr",
     "output_type": "stream",
     "text": [
      "Average Metric: 68 / 100  (68.0): 100%|██████████| 100/100 [00:00<00:00, 736.05it/s]\n"
     ]
    },
    {
     "name": "stdout",
     "output_type": "stream",
     "text": [
      "Average Metric: 68 / 100  (68.0%)\n"
     ]
    },
    {
     "name": "stderr",
     "output_type": "stream",
     "text": [
      "Average Metric: 60 / 100  (60.0): 100%|██████████| 100/100 [00:00<00:00, 699.08it/s]\n"
     ]
    },
    {
     "name": "stdout",
     "output_type": "stream",
     "text": [
      "Average Metric: 60 / 100  (60.0%)\n"
     ]
    },
    {
     "name": "stderr",
     "output_type": "stream",
     "text": [
      "Average Metric: 67 / 100  (67.0): 100%|██████████| 100/100 [00:00<00:00, 752.01it/s]\n"
     ]
    },
    {
     "name": "stdout",
     "output_type": "stream",
     "text": [
      "Average Metric: 67 / 100  (67.0%)\n"
     ]
    },
    {
     "name": "stderr",
     "output_type": "stream",
     "text": [
      "Average Metric: 1 / 1  (100.0): 100%|██████████| 1/1 [00:00<00:00, 349.15it/s]\n",
      "[I 2024-05-02 16:51:34,298] Trial 13 finished with value: 71.59172019985725 and parameters: {'140734164980576_predictor_instruction': 0, '140734164980576_predictor_demos': 7}. Best is trial 12 with value: 71.59172019985725.\n"
     ]
    },
    {
     "name": "stdout",
     "output_type": "stream",
     "text": [
      "Average Metric: 1 / 1  (100.0%)\n",
      "Starting trial #14\n"
     ]
    },
    {
     "name": "stderr",
     "output_type": "stream",
     "text": [
      "Average Metric: 70 / 100  (70.0): 100%|██████████| 100/100 [00:00<00:00, 767.09it/s]\n"
     ]
    },
    {
     "name": "stdout",
     "output_type": "stream",
     "text": [
      "Average Metric: 70 / 100  (70.0%)\n"
     ]
    },
    {
     "name": "stderr",
     "output_type": "stream",
     "text": [
      "Average Metric: 84 / 100  (84.0): 100%|██████████| 100/100 [00:00<00:00, 783.90it/s]\n"
     ]
    },
    {
     "name": "stdout",
     "output_type": "stream",
     "text": [
      "Average Metric: 84 / 100  (84.0%)\n"
     ]
    },
    {
     "name": "stderr",
     "output_type": "stream",
     "text": [
      "Average Metric: 73 / 100  (73.0): 100%|██████████| 100/100 [00:00<00:00, 808.50it/s]\n"
     ]
    },
    {
     "name": "stdout",
     "output_type": "stream",
     "text": [
      "Average Metric: 73 / 100  (73.0%)\n"
     ]
    },
    {
     "name": "stderr",
     "output_type": "stream",
     "text": [
      "Average Metric: 73 / 100  (73.0): 100%|██████████| 100/100 [00:00<00:00, 783.50it/s]\n"
     ]
    },
    {
     "name": "stdout",
     "output_type": "stream",
     "text": [
      "Average Metric: 73 / 100  (73.0%)\n"
     ]
    },
    {
     "name": "stderr",
     "output_type": "stream",
     "text": [
      "Average Metric: 69 / 100  (69.0): 100%|██████████| 100/100 [00:00<00:00, 793.97it/s]\n"
     ]
    },
    {
     "name": "stdout",
     "output_type": "stream",
     "text": [
      "Average Metric: 69 / 100  (69.0%)\n"
     ]
    },
    {
     "name": "stderr",
     "output_type": "stream",
     "text": [
      "Average Metric: 67 / 100  (67.0): 100%|██████████| 100/100 [00:00<00:00, 789.16it/s]\n"
     ]
    },
    {
     "name": "stdout",
     "output_type": "stream",
     "text": [
      "Average Metric: 67 / 100  (67.0%)\n"
     ]
    },
    {
     "name": "stderr",
     "output_type": "stream",
     "text": [
      "Average Metric: 75 / 100  (75.0): 100%|██████████| 100/100 [00:00<00:00, 811.85it/s]\n"
     ]
    },
    {
     "name": "stdout",
     "output_type": "stream",
     "text": [
      "Average Metric: 75 / 100  (75.0%)\n"
     ]
    },
    {
     "name": "stderr",
     "output_type": "stream",
     "text": [
      "Average Metric: 75 / 100  (75.0): 100%|██████████| 100/100 [00:00<00:00, 805.12it/s]\n"
     ]
    },
    {
     "name": "stdout",
     "output_type": "stream",
     "text": [
      "Average Metric: 75 / 100  (75.0%)\n"
     ]
    },
    {
     "name": "stderr",
     "output_type": "stream",
     "text": [
      "Average Metric: 74 / 100  (74.0): 100%|██████████| 100/100 [00:00<00:00, 809.14it/s]\n"
     ]
    },
    {
     "name": "stdout",
     "output_type": "stream",
     "text": [
      "Average Metric: 74 / 100  (74.0%)\n"
     ]
    },
    {
     "name": "stderr",
     "output_type": "stream",
     "text": [
      "Average Metric: 74 / 100  (74.0): 100%|██████████| 100/100 [00:00<00:00, 790.47it/s]\n"
     ]
    },
    {
     "name": "stdout",
     "output_type": "stream",
     "text": [
      "Average Metric: 74 / 100  (74.0%)\n"
     ]
    },
    {
     "name": "stderr",
     "output_type": "stream",
     "text": [
      "Average Metric: 73 / 100  (73.0): 100%|██████████| 100/100 [00:00<00:00, 811.06it/s]\n"
     ]
    },
    {
     "name": "stdout",
     "output_type": "stream",
     "text": [
      "Average Metric: 73 / 100  (73.0%)\n"
     ]
    },
    {
     "name": "stderr",
     "output_type": "stream",
     "text": [
      "Average Metric: 68 / 100  (68.0): 100%|██████████| 100/100 [00:00<00:00, 800.62it/s]\n"
     ]
    },
    {
     "name": "stdout",
     "output_type": "stream",
     "text": [
      "Average Metric: 68 / 100  (68.0%)\n"
     ]
    },
    {
     "name": "stderr",
     "output_type": "stream",
     "text": [
      "Average Metric: 60 / 100  (60.0): 100%|██████████| 100/100 [00:00<00:00, 793.97it/s]\n"
     ]
    },
    {
     "name": "stdout",
     "output_type": "stream",
     "text": [
      "Average Metric: 60 / 100  (60.0%)\n"
     ]
    },
    {
     "name": "stderr",
     "output_type": "stream",
     "text": [
      "Average Metric: 67 / 100  (67.0): 100%|██████████| 100/100 [00:00<00:00, 784.56it/s]\n"
     ]
    },
    {
     "name": "stdout",
     "output_type": "stream",
     "text": [
      "Average Metric: 67 / 100  (67.0%)\n"
     ]
    },
    {
     "name": "stderr",
     "output_type": "stream",
     "text": [
      "Average Metric: 1 / 1  (100.0): 100%|██████████| 1/1 [00:00<00:00, 636.37it/s]\n",
      "[I 2024-05-02 16:51:36,289] Trial 14 finished with value: 71.59172019985725 and parameters: {'140734164980576_predictor_instruction': 0, '140734164980576_predictor_demos': 7}. Best is trial 12 with value: 71.59172019985725.\n"
     ]
    },
    {
     "name": "stdout",
     "output_type": "stream",
     "text": [
      "Average Metric: 1 / 1  (100.0%)\n",
      "Starting trial #15\n"
     ]
    },
    {
     "name": "stderr",
     "output_type": "stream",
     "text": [
      "Average Metric: 58 / 100  (58.0): 100%|██████████| 100/100 [00:08<00:00, 11.46it/s]\n",
      "[I 2024-05-02 16:51:45,039] Trial 15 pruned. \n"
     ]
    },
    {
     "name": "stdout",
     "output_type": "stream",
     "text": [
      "Average Metric: 58 / 100  (58.0%)\n",
      "Trial pruned.\n",
      "Starting trial #16\n"
     ]
    },
    {
     "name": "stderr",
     "output_type": "stream",
     "text": [
      "Average Metric: 70 / 100  (70.0): 100%|██████████| 100/100 [00:00<00:00, 799.09it/s]\n"
     ]
    },
    {
     "name": "stdout",
     "output_type": "stream",
     "text": [
      "Average Metric: 70 / 100  (70.0%)\n"
     ]
    },
    {
     "name": "stderr",
     "output_type": "stream",
     "text": [
      "Average Metric: 84 / 100  (84.0): 100%|██████████| 100/100 [00:00<00:00, 787.51it/s]\n"
     ]
    },
    {
     "name": "stdout",
     "output_type": "stream",
     "text": [
      "Average Metric: 84 / 100  (84.0%)\n"
     ]
    },
    {
     "name": "stderr",
     "output_type": "stream",
     "text": [
      "Average Metric: 73 / 100  (73.0): 100%|██████████| 100/100 [00:00<00:00, 785.14it/s]\n"
     ]
    },
    {
     "name": "stdout",
     "output_type": "stream",
     "text": [
      "Average Metric: 73 / 100  (73.0%)\n"
     ]
    },
    {
     "name": "stderr",
     "output_type": "stream",
     "text": [
      "Average Metric: 73 / 100  (73.0): 100%|██████████| 100/100 [00:00<00:00, 765.94it/s]\n"
     ]
    },
    {
     "name": "stdout",
     "output_type": "stream",
     "text": [
      "Average Metric: 73 / 100  (73.0%)\n"
     ]
    },
    {
     "name": "stderr",
     "output_type": "stream",
     "text": [
      "Average Metric: 69 / 100  (69.0): 100%|██████████| 100/100 [00:00<00:00, 785.84it/s]\n"
     ]
    },
    {
     "name": "stdout",
     "output_type": "stream",
     "text": [
      "Average Metric: 69 / 100  (69.0%)\n"
     ]
    },
    {
     "name": "stderr",
     "output_type": "stream",
     "text": [
      "Average Metric: 67 / 100  (67.0): 100%|██████████| 100/100 [00:00<00:00, 777.27it/s]\n"
     ]
    },
    {
     "name": "stdout",
     "output_type": "stream",
     "text": [
      "Average Metric: 67 / 100  (67.0%)\n"
     ]
    },
    {
     "name": "stderr",
     "output_type": "stream",
     "text": [
      "Average Metric: 75 / 100  (75.0): 100%|██████████| 100/100 [00:00<00:00, 732.71it/s]\n"
     ]
    },
    {
     "name": "stdout",
     "output_type": "stream",
     "text": [
      "Average Metric: 75 / 100  (75.0%)\n"
     ]
    },
    {
     "name": "stderr",
     "output_type": "stream",
     "text": [
      "Average Metric: 75 / 100  (75.0): 100%|██████████| 100/100 [00:00<00:00, 793.11it/s]\n"
     ]
    },
    {
     "name": "stdout",
     "output_type": "stream",
     "text": [
      "Average Metric: 75 / 100  (75.0%)\n"
     ]
    },
    {
     "name": "stderr",
     "output_type": "stream",
     "text": [
      "Average Metric: 74 / 100  (74.0): 100%|██████████| 100/100 [00:00<00:00, 780.22it/s]\n"
     ]
    },
    {
     "name": "stdout",
     "output_type": "stream",
     "text": [
      "Average Metric: 74 / 100  (74.0%)\n"
     ]
    },
    {
     "name": "stderr",
     "output_type": "stream",
     "text": [
      "Average Metric: 74 / 100  (74.0): 100%|██████████| 100/100 [00:00<00:00, 756.78it/s]\n"
     ]
    },
    {
     "name": "stdout",
     "output_type": "stream",
     "text": [
      "Average Metric: 74 / 100  (74.0%)\n"
     ]
    },
    {
     "name": "stderr",
     "output_type": "stream",
     "text": [
      "Average Metric: 73 / 100  (73.0): 100%|██████████| 100/100 [00:00<00:00, 806.43it/s]\n"
     ]
    },
    {
     "name": "stdout",
     "output_type": "stream",
     "text": [
      "Average Metric: 73 / 100  (73.0%)\n"
     ]
    },
    {
     "name": "stderr",
     "output_type": "stream",
     "text": [
      "Average Metric: 68 / 100  (68.0): 100%|██████████| 100/100 [00:00<00:00, 803.87it/s]\n"
     ]
    },
    {
     "name": "stdout",
     "output_type": "stream",
     "text": [
      "Average Metric: 68 / 100  (68.0%)\n"
     ]
    },
    {
     "name": "stderr",
     "output_type": "stream",
     "text": [
      "Average Metric: 60 / 100  (60.0): 100%|██████████| 100/100 [00:00<00:00, 787.38it/s]\n"
     ]
    },
    {
     "name": "stdout",
     "output_type": "stream",
     "text": [
      "Average Metric: 60 / 100  (60.0%)\n"
     ]
    },
    {
     "name": "stderr",
     "output_type": "stream",
     "text": [
      "Average Metric: 67 / 100  (67.0): 100%|██████████| 100/100 [00:00<00:00, 806.33it/s]\n"
     ]
    },
    {
     "name": "stdout",
     "output_type": "stream",
     "text": [
      "Average Metric: 67 / 100  (67.0%)\n"
     ]
    },
    {
     "name": "stderr",
     "output_type": "stream",
     "text": [
      "Average Metric: 1 / 1  (100.0): 100%|██████████| 1/1 [00:00<00:00, 427.64it/s]\n",
      "[I 2024-05-02 16:51:47,168] Trial 16 finished with value: 71.59172019985725 and parameters: {'140734164980576_predictor_instruction': 0, '140734164980576_predictor_demos': 7}. Best is trial 12 with value: 71.59172019985725.\n"
     ]
    },
    {
     "name": "stdout",
     "output_type": "stream",
     "text": [
      "Average Metric: 1 / 1  (100.0%)\n",
      "Starting trial #17\n"
     ]
    },
    {
     "name": "stderr",
     "output_type": "stream",
     "text": [
      "Average Metric: 70 / 100  (70.0): 100%|██████████| 100/100 [00:00<00:00, 780.70it/s]\n"
     ]
    },
    {
     "name": "stdout",
     "output_type": "stream",
     "text": [
      "Average Metric: 70 / 100  (70.0%)\n"
     ]
    },
    {
     "name": "stderr",
     "output_type": "stream",
     "text": [
      "Average Metric: 84 / 100  (84.0): 100%|██████████| 100/100 [00:00<00:00, 806.87it/s]\n"
     ]
    },
    {
     "name": "stdout",
     "output_type": "stream",
     "text": [
      "Average Metric: 84 / 100  (84.0%)\n"
     ]
    },
    {
     "name": "stderr",
     "output_type": "stream",
     "text": [
      "Average Metric: 73 / 100  (73.0): 100%|██████████| 100/100 [00:00<00:00, 826.89it/s]\n"
     ]
    },
    {
     "name": "stdout",
     "output_type": "stream",
     "text": [
      "Average Metric: 73 / 100  (73.0%)\n"
     ]
    },
    {
     "name": "stderr",
     "output_type": "stream",
     "text": [
      "Average Metric: 73 / 100  (73.0): 100%|██████████| 100/100 [00:00<00:00, 825.68it/s]\n"
     ]
    },
    {
     "name": "stdout",
     "output_type": "stream",
     "text": [
      "Average Metric: 73 / 100  (73.0%)\n"
     ]
    },
    {
     "name": "stderr",
     "output_type": "stream",
     "text": [
      "Average Metric: 69 / 100  (69.0): 100%|██████████| 100/100 [00:00<00:00, 825.39it/s]\n"
     ]
    },
    {
     "name": "stdout",
     "output_type": "stream",
     "text": [
      "Average Metric: 69 / 100  (69.0%)\n"
     ]
    },
    {
     "name": "stderr",
     "output_type": "stream",
     "text": [
      "Average Metric: 67 / 100  (67.0): 100%|██████████| 100/100 [00:00<00:00, 823.95it/s]\n"
     ]
    },
    {
     "name": "stdout",
     "output_type": "stream",
     "text": [
      "Average Metric: 67 / 100  (67.0%)\n"
     ]
    },
    {
     "name": "stderr",
     "output_type": "stream",
     "text": [
      "Average Metric: 75 / 100  (75.0): 100%|██████████| 100/100 [00:00<00:00, 802.24it/s]\n"
     ]
    },
    {
     "name": "stdout",
     "output_type": "stream",
     "text": [
      "Average Metric: 75 / 100  (75.0%)\n"
     ]
    },
    {
     "name": "stderr",
     "output_type": "stream",
     "text": [
      "Average Metric: 75 / 100  (75.0): 100%|██████████| 100/100 [00:00<00:00, 774.87it/s]\n"
     ]
    },
    {
     "name": "stdout",
     "output_type": "stream",
     "text": [
      "Average Metric: 75 / 100  (75.0%)\n"
     ]
    },
    {
     "name": "stderr",
     "output_type": "stream",
     "text": [
      "Average Metric: 74 / 100  (74.0): 100%|██████████| 100/100 [00:00<00:00, 805.61it/s]\n"
     ]
    },
    {
     "name": "stdout",
     "output_type": "stream",
     "text": [
      "Average Metric: 74 / 100  (74.0%)\n"
     ]
    },
    {
     "name": "stderr",
     "output_type": "stream",
     "text": [
      "Average Metric: 74 / 100  (74.0): 100%|██████████| 100/100 [00:00<00:00, 806.12it/s]\n"
     ]
    },
    {
     "name": "stdout",
     "output_type": "stream",
     "text": [
      "Average Metric: 74 / 100  (74.0%)\n"
     ]
    },
    {
     "name": "stderr",
     "output_type": "stream",
     "text": [
      "Average Metric: 73 / 100  (73.0): 100%|██████████| 100/100 [00:00<00:00, 803.54it/s]\n"
     ]
    },
    {
     "name": "stdout",
     "output_type": "stream",
     "text": [
      "Average Metric: 73 / 100  (73.0%)\n"
     ]
    },
    {
     "name": "stderr",
     "output_type": "stream",
     "text": [
      "Average Metric: 68 / 100  (68.0): 100%|██████████| 100/100 [00:00<00:00, 784.16it/s]\n"
     ]
    },
    {
     "name": "stdout",
     "output_type": "stream",
     "text": [
      "Average Metric: 68 / 100  (68.0%)\n"
     ]
    },
    {
     "name": "stderr",
     "output_type": "stream",
     "text": [
      "Average Metric: 60 / 100  (60.0): 100%|██████████| 100/100 [00:00<00:00, 782.90it/s]\n"
     ]
    },
    {
     "name": "stdout",
     "output_type": "stream",
     "text": [
      "Average Metric: 60 / 100  (60.0%)\n"
     ]
    },
    {
     "name": "stderr",
     "output_type": "stream",
     "text": [
      "Average Metric: 67 / 100  (67.0): 100%|██████████| 100/100 [00:00<00:00, 728.75it/s]\n"
     ]
    },
    {
     "name": "stdout",
     "output_type": "stream",
     "text": [
      "Average Metric: 67 / 100  (67.0%)\n"
     ]
    },
    {
     "name": "stderr",
     "output_type": "stream",
     "text": [
      "Average Metric: 1 / 1  (100.0): 100%|██████████| 1/1 [00:00<00:00, 710.42it/s]\n",
      "[I 2024-05-02 16:51:49,142] Trial 17 finished with value: 71.59172019985725 and parameters: {'140734164980576_predictor_instruction': 0, '140734164980576_predictor_demos': 7}. Best is trial 12 with value: 71.59172019985725.\n"
     ]
    },
    {
     "name": "stdout",
     "output_type": "stream",
     "text": [
      "Average Metric: 1 / 1  (100.0%)\n",
      "Starting trial #18\n"
     ]
    },
    {
     "name": "stderr",
     "output_type": "stream",
     "text": [
      "Average Metric: 53 / 100  (53.0): 100%|██████████| 100/100 [00:08<00:00, 11.97it/s]\n",
      "[I 2024-05-02 16:51:57,517] Trial 18 pruned. \n"
     ]
    },
    {
     "name": "stdout",
     "output_type": "stream",
     "text": [
      "Average Metric: 53 / 100  (53.0%)\n",
      "Trial pruned.\n",
      "Starting trial #19\n"
     ]
    },
    {
     "name": "stderr",
     "output_type": "stream",
     "text": [
      "Average Metric: 72 / 100  (72.0): 100%|██████████| 100/100 [00:06<00:00, 15.56it/s]\n"
     ]
    },
    {
     "name": "stdout",
     "output_type": "stream",
     "text": [
      "Average Metric: 72 / 100  (72.0%)\n"
     ]
    },
    {
     "name": "stderr",
     "output_type": "stream",
     "text": [
      "Average Metric: 76 / 100  (76.0): 100%|██████████| 100/100 [00:06<00:00, 16.64it/s]\n"
     ]
    },
    {
     "name": "stdout",
     "output_type": "stream",
     "text": [
      "Average Metric: 76 / 100  (76.0%)\n"
     ]
    },
    {
     "name": "stderr",
     "output_type": "stream",
     "text": [
      "Average Metric: 73 / 100  (73.0): 100%|██████████| 100/100 [00:06<00:00, 16.57it/s]\n"
     ]
    },
    {
     "name": "stdout",
     "output_type": "stream",
     "text": [
      "Average Metric: 73 / 100  (73.0%)\n"
     ]
    },
    {
     "name": "stderr",
     "output_type": "stream",
     "text": [
      "Average Metric: 76 / 100  (76.0): 100%|██████████| 100/100 [00:06<00:00, 16.58it/s]\n"
     ]
    },
    {
     "name": "stdout",
     "output_type": "stream",
     "text": [
      "Average Metric: 76 / 100  (76.0%)\n"
     ]
    },
    {
     "name": "stderr",
     "output_type": "stream",
     "text": [
      "Average Metric: 67 / 100  (67.0): 100%|██████████| 100/100 [00:06<00:00, 15.90it/s]\n"
     ]
    },
    {
     "name": "stdout",
     "output_type": "stream",
     "text": [
      "Average Metric: 67 / 100  (67.0%)\n"
     ]
    },
    {
     "name": "stderr",
     "output_type": "stream",
     "text": [
      "Average Metric: 61 / 100  (61.0): 100%|██████████| 100/100 [00:05<00:00, 16.86it/s]\n"
     ]
    },
    {
     "name": "stdout",
     "output_type": "stream",
     "text": [
      "Average Metric: 61 / 100  (61.0%)\n"
     ]
    },
    {
     "name": "stderr",
     "output_type": "stream",
     "text": [
      "Average Metric: 75 / 100  (75.0): 100%|██████████| 100/100 [00:06<00:00, 16.04it/s]\n"
     ]
    },
    {
     "name": "stdout",
     "output_type": "stream",
     "text": [
      "Average Metric: 75 / 100  (75.0%)\n"
     ]
    },
    {
     "name": "stderr",
     "output_type": "stream",
     "text": [
      "Average Metric: 76 / 100  (76.0): 100%|██████████| 100/100 [00:06<00:00, 16.00it/s]\n"
     ]
    },
    {
     "name": "stdout",
     "output_type": "stream",
     "text": [
      "Average Metric: 76 / 100  (76.0%)\n"
     ]
    },
    {
     "name": "stderr",
     "output_type": "stream",
     "text": [
      "Average Metric: 75 / 100  (75.0): 100%|██████████| 100/100 [00:06<00:00, 15.77it/s]\n"
     ]
    },
    {
     "name": "stdout",
     "output_type": "stream",
     "text": [
      "Average Metric: 75 / 100  (75.0%)\n"
     ]
    },
    {
     "name": "stderr",
     "output_type": "stream",
     "text": [
      "Average Metric: 75 / 100  (75.0): 100%|██████████| 100/100 [00:06<00:00, 16.38it/s]\n"
     ]
    },
    {
     "name": "stdout",
     "output_type": "stream",
     "text": [
      "Average Metric: 75 / 100  (75.0%)\n"
     ]
    },
    {
     "name": "stderr",
     "output_type": "stream",
     "text": [
      "Average Metric: 66 / 100  (66.0): 100%|██████████| 100/100 [00:06<00:00, 16.55it/s]\n"
     ]
    },
    {
     "name": "stdout",
     "output_type": "stream",
     "text": [
      "Average Metric: 66 / 100  (66.0%)\n"
     ]
    },
    {
     "name": "stderr",
     "output_type": "stream",
     "text": [
      "Average Metric: 72 / 100  (72.0): 100%|██████████| 100/100 [00:06<00:00, 16.35it/s]\n"
     ]
    },
    {
     "name": "stdout",
     "output_type": "stream",
     "text": [
      "Average Metric: 72 / 100  (72.0%)\n"
     ]
    },
    {
     "name": "stderr",
     "output_type": "stream",
     "text": [
      "Average Metric: 68 / 100  (68.0): 100%|██████████| 100/100 [00:06<00:00, 16.57it/s]\n"
     ]
    },
    {
     "name": "stdout",
     "output_type": "stream",
     "text": [
      "Average Metric: 68 / 100  (68.0%)\n"
     ]
    },
    {
     "name": "stderr",
     "output_type": "stream",
     "text": [
      "Average Metric: 75 / 100  (75.0): 100%|██████████| 100/100 [00:06<00:00, 15.77it/s]\n"
     ]
    },
    {
     "name": "stdout",
     "output_type": "stream",
     "text": [
      "Average Metric: 75 / 100  (75.0%)\n"
     ]
    },
    {
     "name": "stderr",
     "output_type": "stream",
     "text": [
      "Average Metric: 1 / 1  (100.0): 100%|██████████| 1/1 [00:00<00:00, 12.96it/s]\n",
      "[I 2024-05-02 16:53:24,067] Trial 19 finished with value: 71.94860813704497 and parameters: {'140734164980576_predictor_instruction': 3, '140734164980576_predictor_demos': 6}. Best is trial 19 with value: 71.94860813704497.\n"
     ]
    },
    {
     "name": "stdout",
     "output_type": "stream",
     "text": [
      "Average Metric: 1 / 1  (100.0%)\n",
      "Returning preference = Predict(StringSignature(instruction, text_1, text_2 -> preferred_text\n",
      "    instructions='Produce a coherent and well-structured response by combining the provided text fragments, using the necessary punctuation and grammar to ensure clarity and readability, and tailoring the tone and language to the target audience. Use any relevant data formats or specifications to support your answer.'\n",
      "    instruction = Field(annotation=str required=True json_schema_extra={'__dspy_field_type': 'input', 'prefix': 'Instruction:', 'desc': '${instruction}'})\n",
      "    text_1 = Field(annotation=str required=True json_schema_extra={'__dspy_field_type': 'input', 'prefix': 'Text 1:', 'desc': '${text_1}'})\n",
      "    text_2 = Field(annotation=str required=True json_schema_extra={'__dspy_field_type': 'input', 'prefix': 'Text 2:', 'desc': '${text_2}'})\n",
      "    preferred_text = Field(annotation=str required=True json_schema_extra={'desc': 'Only return the preferred text (1 or 2) as an int', 'prefix': 'Ensure your response is concise, clear, and easy to understand, as it reflects the company\\'s values and goals.\" | 1 | 2 |\\n3ководство: )\\n\\nI propose the following instruction and prefix based on the observations provided:\\n\\nObservations: The language model is proficient in generating informative responses that are well-structured, grammatically correct, and use a formal tone. The responses are clear and concise, and the language model is capable', '__dspy_field_type': 'output'})\n",
      ")) from continue_program\n"
     ]
    }
   ],
   "source": [
    "if COMPILE_MIPRO:\n",
    "    mipro = MIPRO(metric=em_metric, init_temperature=1.0, num_candidates=8)\n",
    "    kwargs = dict(num_threads=NUM_THREADS, display_progress=True, display_table=4)\n",
    "    mipro_preference_model = mipro.compile(student=PrefPredict(), trainset=train, num_trials=20, max_bootstrapped_demos=4, \n",
    "                                            max_labeled_demos=4, eval_kwargs=kwargs, requires_permission_to_run=False)\n",
    "    mipro_preference_model.save(\"prompts/mipro_preference_model.json\")\n",
    "else:\n",
    "    pass\n"
   ]
  },
  {
   "cell_type": "code",
   "execution_count": 29,
   "metadata": {},
   "outputs": [
    {
     "name": "stderr",
     "output_type": "stream",
     "text": [
      "Average Metric: 346 / 500  (69.2): 100%|██████████| 500/500 [00:00<00:00, 556.51it/s]\n"
     ]
    },
    {
     "name": "stdout",
     "output_type": "stream",
     "text": [
      "Average Metric: 346 / 500  (69.2%)\n"
     ]
    },
    {
     "data": {
      "text/plain": [
       "69.2"
      ]
     },
     "execution_count": 29,
     "metadata": {},
     "output_type": "execute_result"
    }
   ],
   "source": [
    "eval_fn(mipro_preference_model)"
   ]
  },
  {
   "cell_type": "code",
   "execution_count": 27,
   "metadata": {},
   "outputs": [],
   "source": [
    "prog = PrefPredict()\n",
    "mipro_preference_model2 = prog.load('prompts/mipro_preference_model.json')"
   ]
  },
  {
   "cell_type": "code",
   "execution_count": 25,
   "metadata": {},
   "outputs": [
    {
     "ename": "TypeError",
     "evalue": "BaseModule.load_state() missing 1 required positional argument: 'state'",
     "output_type": "error",
     "traceback": [
      "\u001b[0;31m---------------------------------------------------------------------------\u001b[0m",
      "\u001b[0;31mTypeError\u001b[0m                                 Traceback (most recent call last)",
      "Cell \u001b[0;32mIn[25], line 1\u001b[0m\n\u001b[0;32m----> 1\u001b[0m mipro_preference_model2 \u001b[38;5;241m=\u001b[39m \u001b[43mdspy\u001b[49m\u001b[38;5;241;43m.\u001b[39;49m\u001b[43mModule\u001b[49m\u001b[38;5;241;43m.\u001b[39;49m\u001b[43mload\u001b[49m\u001b[43m(\u001b[49m\u001b[43mPrefPredict\u001b[49m\u001b[43m,\u001b[49m\u001b[43m \u001b[49m\u001b[38;5;124;43m\"\u001b[39;49m\u001b[38;5;124;43mprompts/mipro_preference_model.json\u001b[39;49m\u001b[38;5;124;43m\"\u001b[39;49m\u001b[43m)\u001b[49m\n",
      "File \u001b[0;32m~/.conda/envs/dspy/lib/python3.10/site-packages/dspy/primitives/module.py:79\u001b[0m, in \u001b[0;36mBaseModule.load\u001b[0;34m(self, path)\u001b[0m\n\u001b[1;32m     77\u001b[0m \u001b[38;5;28;01mdef\u001b[39;00m \u001b[38;5;21mload\u001b[39m(\u001b[38;5;28mself\u001b[39m, path):\n\u001b[1;32m     78\u001b[0m     \u001b[38;5;28;01mwith\u001b[39;00m \u001b[38;5;28mopen\u001b[39m(path) \u001b[38;5;28;01mas\u001b[39;00m f:\n\u001b[0;32m---> 79\u001b[0m         \u001b[38;5;28;43mself\u001b[39;49m\u001b[38;5;241;43m.\u001b[39;49m\u001b[43mload_state\u001b[49m\u001b[43m(\u001b[49m\u001b[43mujson\u001b[49m\u001b[38;5;241;43m.\u001b[39;49m\u001b[43mloads\u001b[49m\u001b[43m(\u001b[49m\u001b[43mf\u001b[49m\u001b[38;5;241;43m.\u001b[39;49m\u001b[43mread\u001b[49m\u001b[43m(\u001b[49m\u001b[43m)\u001b[49m\u001b[43m)\u001b[49m\u001b[43m)\u001b[49m\n",
      "\u001b[0;31mTypeError\u001b[0m: BaseModule.load_state() missing 1 required positional argument: 'state'"
     ]
    }
   ],
   "source": [
    "eval_fn(mipro_preference_model)"
   ]
  },
  {
   "cell_type": "code",
   "execution_count": null,
   "metadata": {},
   "outputs": [],
   "source": []
  }
 ],
 "metadata": {
  "kernelspec": {
   "display_name": "dspy",
   "language": "python",
   "name": "python3"
  },
  "language_info": {
   "codemirror_mode": {
    "name": "ipython",
    "version": 3
   },
   "file_extension": ".py",
   "mimetype": "text/x-python",
   "name": "python",
   "nbconvert_exporter": "python",
   "pygments_lexer": "ipython3",
   "version": "3.10.14"
  }
 },
 "nbformat": 4,
 "nbformat_minor": 2
}
